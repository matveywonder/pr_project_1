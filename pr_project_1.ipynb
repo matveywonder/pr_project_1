{
 "cells": [
  {
   "cell_type": "markdown",
   "metadata": {},
   "source": [
    "## Обзор данных"
   ]
  },
  {
   "cell_type": "code",
   "execution_count": 1,
   "metadata": {},
   "outputs": [],
   "source": [
    "import pandas as pd\n",
    "import numpy as np\n",
    "import matplotlib.pyplot as plt\n",
    "import seaborn as sns\n",
    "from scipy import stats as st"
   ]
  },
  {
   "cell_type": "code",
   "execution_count": 2,
   "metadata": {
    "scrolled": true
   },
   "outputs": [
    {
     "data": {
      "text/html": [
       "<div>\n",
       "<style scoped>\n",
       "    .dataframe tbody tr th:only-of-type {\n",
       "        vertical-align: middle;\n",
       "    }\n",
       "\n",
       "    .dataframe tbody tr th {\n",
       "        vertical-align: top;\n",
       "    }\n",
       "\n",
       "    .dataframe thead th {\n",
       "        text-align: right;\n",
       "    }\n",
       "</style>\n",
       "<table border=\"1\" class=\"dataframe\">\n",
       "  <thead>\n",
       "    <tr style=\"text-align: right;\">\n",
       "      <th></th>\n",
       "      <th>Name</th>\n",
       "      <th>Platform</th>\n",
       "      <th>Year_of_Release</th>\n",
       "      <th>Genre</th>\n",
       "      <th>NA_sales</th>\n",
       "      <th>EU_sales</th>\n",
       "      <th>JP_sales</th>\n",
       "      <th>Other_sales</th>\n",
       "      <th>Critic_Score</th>\n",
       "      <th>User_Score</th>\n",
       "      <th>Rating</th>\n",
       "    </tr>\n",
       "  </thead>\n",
       "  <tbody>\n",
       "    <tr>\n",
       "      <th>0</th>\n",
       "      <td>Wii Sports</td>\n",
       "      <td>Wii</td>\n",
       "      <td>2006.0</td>\n",
       "      <td>Sports</td>\n",
       "      <td>41.36</td>\n",
       "      <td>28.96</td>\n",
       "      <td>3.77</td>\n",
       "      <td>8.45</td>\n",
       "      <td>76.0</td>\n",
       "      <td>8</td>\n",
       "      <td>E</td>\n",
       "    </tr>\n",
       "    <tr>\n",
       "      <th>1</th>\n",
       "      <td>Super Mario Bros.</td>\n",
       "      <td>NES</td>\n",
       "      <td>1985.0</td>\n",
       "      <td>Platform</td>\n",
       "      <td>29.08</td>\n",
       "      <td>3.58</td>\n",
       "      <td>6.81</td>\n",
       "      <td>0.77</td>\n",
       "      <td>NaN</td>\n",
       "      <td>NaN</td>\n",
       "      <td>NaN</td>\n",
       "    </tr>\n",
       "    <tr>\n",
       "      <th>2</th>\n",
       "      <td>Mario Kart Wii</td>\n",
       "      <td>Wii</td>\n",
       "      <td>2008.0</td>\n",
       "      <td>Racing</td>\n",
       "      <td>15.68</td>\n",
       "      <td>12.76</td>\n",
       "      <td>3.79</td>\n",
       "      <td>3.29</td>\n",
       "      <td>82.0</td>\n",
       "      <td>8.3</td>\n",
       "      <td>E</td>\n",
       "    </tr>\n",
       "    <tr>\n",
       "      <th>3</th>\n",
       "      <td>Wii Sports Resort</td>\n",
       "      <td>Wii</td>\n",
       "      <td>2009.0</td>\n",
       "      <td>Sports</td>\n",
       "      <td>15.61</td>\n",
       "      <td>10.93</td>\n",
       "      <td>3.28</td>\n",
       "      <td>2.95</td>\n",
       "      <td>80.0</td>\n",
       "      <td>8</td>\n",
       "      <td>E</td>\n",
       "    </tr>\n",
       "    <tr>\n",
       "      <th>4</th>\n",
       "      <td>Pokemon Red/Pokemon Blue</td>\n",
       "      <td>GB</td>\n",
       "      <td>1996.0</td>\n",
       "      <td>Role-Playing</td>\n",
       "      <td>11.27</td>\n",
       "      <td>8.89</td>\n",
       "      <td>10.22</td>\n",
       "      <td>1.00</td>\n",
       "      <td>NaN</td>\n",
       "      <td>NaN</td>\n",
       "      <td>NaN</td>\n",
       "    </tr>\n",
       "    <tr>\n",
       "      <th>5</th>\n",
       "      <td>Tetris</td>\n",
       "      <td>GB</td>\n",
       "      <td>1989.0</td>\n",
       "      <td>Puzzle</td>\n",
       "      <td>23.20</td>\n",
       "      <td>2.26</td>\n",
       "      <td>4.22</td>\n",
       "      <td>0.58</td>\n",
       "      <td>NaN</td>\n",
       "      <td>NaN</td>\n",
       "      <td>NaN</td>\n",
       "    </tr>\n",
       "    <tr>\n",
       "      <th>6</th>\n",
       "      <td>New Super Mario Bros.</td>\n",
       "      <td>DS</td>\n",
       "      <td>2006.0</td>\n",
       "      <td>Platform</td>\n",
       "      <td>11.28</td>\n",
       "      <td>9.14</td>\n",
       "      <td>6.50</td>\n",
       "      <td>2.88</td>\n",
       "      <td>89.0</td>\n",
       "      <td>8.5</td>\n",
       "      <td>E</td>\n",
       "    </tr>\n",
       "    <tr>\n",
       "      <th>7</th>\n",
       "      <td>Wii Play</td>\n",
       "      <td>Wii</td>\n",
       "      <td>2006.0</td>\n",
       "      <td>Misc</td>\n",
       "      <td>13.96</td>\n",
       "      <td>9.18</td>\n",
       "      <td>2.93</td>\n",
       "      <td>2.84</td>\n",
       "      <td>58.0</td>\n",
       "      <td>6.6</td>\n",
       "      <td>E</td>\n",
       "    </tr>\n",
       "    <tr>\n",
       "      <th>8</th>\n",
       "      <td>New Super Mario Bros. Wii</td>\n",
       "      <td>Wii</td>\n",
       "      <td>2009.0</td>\n",
       "      <td>Platform</td>\n",
       "      <td>14.44</td>\n",
       "      <td>6.94</td>\n",
       "      <td>4.70</td>\n",
       "      <td>2.24</td>\n",
       "      <td>87.0</td>\n",
       "      <td>8.4</td>\n",
       "      <td>E</td>\n",
       "    </tr>\n",
       "    <tr>\n",
       "      <th>9</th>\n",
       "      <td>Duck Hunt</td>\n",
       "      <td>NES</td>\n",
       "      <td>1984.0</td>\n",
       "      <td>Shooter</td>\n",
       "      <td>26.93</td>\n",
       "      <td>0.63</td>\n",
       "      <td>0.28</td>\n",
       "      <td>0.47</td>\n",
       "      <td>NaN</td>\n",
       "      <td>NaN</td>\n",
       "      <td>NaN</td>\n",
       "    </tr>\n",
       "  </tbody>\n",
       "</table>\n",
       "</div>"
      ],
      "text/plain": [
       "                        Name Platform  Year_of_Release         Genre  \\\n",
       "0                 Wii Sports      Wii           2006.0        Sports   \n",
       "1          Super Mario Bros.      NES           1985.0      Platform   \n",
       "2             Mario Kart Wii      Wii           2008.0        Racing   \n",
       "3          Wii Sports Resort      Wii           2009.0        Sports   \n",
       "4   Pokemon Red/Pokemon Blue       GB           1996.0  Role-Playing   \n",
       "5                     Tetris       GB           1989.0        Puzzle   \n",
       "6      New Super Mario Bros.       DS           2006.0      Platform   \n",
       "7                   Wii Play      Wii           2006.0          Misc   \n",
       "8  New Super Mario Bros. Wii      Wii           2009.0      Platform   \n",
       "9                  Duck Hunt      NES           1984.0       Shooter   \n",
       "\n",
       "   NA_sales  EU_sales  JP_sales  Other_sales  Critic_Score User_Score Rating  \n",
       "0     41.36     28.96      3.77         8.45          76.0          8      E  \n",
       "1     29.08      3.58      6.81         0.77           NaN        NaN    NaN  \n",
       "2     15.68     12.76      3.79         3.29          82.0        8.3      E  \n",
       "3     15.61     10.93      3.28         2.95          80.0          8      E  \n",
       "4     11.27      8.89     10.22         1.00           NaN        NaN    NaN  \n",
       "5     23.20      2.26      4.22         0.58           NaN        NaN    NaN  \n",
       "6     11.28      9.14      6.50         2.88          89.0        8.5      E  \n",
       "7     13.96      9.18      2.93         2.84          58.0        6.6      E  \n",
       "8     14.44      6.94      4.70         2.24          87.0        8.4      E  \n",
       "9     26.93      0.63      0.28         0.47           NaN        NaN    NaN  "
      ]
     },
     "execution_count": 2,
     "metadata": {},
     "output_type": "execute_result"
    }
   ],
   "source": [
    "games = pd.read_csv('/datasets/games.csv')\n",
    "games.head(10)"
   ]
  },
  {
   "cell_type": "code",
   "execution_count": 3,
   "metadata": {},
   "outputs": [
    {
     "name": "stdout",
     "output_type": "stream",
     "text": [
      "<class 'pandas.core.frame.DataFrame'>\n",
      "RangeIndex: 16715 entries, 0 to 16714\n",
      "Data columns (total 11 columns):\n",
      " #   Column           Non-Null Count  Dtype  \n",
      "---  ------           --------------  -----  \n",
      " 0   Name             16713 non-null  object \n",
      " 1   Platform         16715 non-null  object \n",
      " 2   Year_of_Release  16446 non-null  float64\n",
      " 3   Genre            16713 non-null  object \n",
      " 4   NA_sales         16715 non-null  float64\n",
      " 5   EU_sales         16715 non-null  float64\n",
      " 6   JP_sales         16715 non-null  float64\n",
      " 7   Other_sales      16715 non-null  float64\n",
      " 8   Critic_Score     8137 non-null   float64\n",
      " 9   User_Score       10014 non-null  object \n",
      " 10  Rating           9949 non-null   object \n",
      "dtypes: float64(6), object(5)\n",
      "memory usage: 1.4+ MB\n"
     ]
    }
   ],
   "source": [
    "games.info()"
   ]
  },
  {
   "cell_type": "code",
   "execution_count": 4,
   "metadata": {
    "scrolled": true
   },
   "outputs": [
    {
     "data": {
      "text/html": [
       "<style  type=\"text/css\" >\n",
       "#T_3a6e4_row0_col0,#T_3a6e4_row1_col0,#T_3a6e4_row3_col0,#T_3a6e4_row4_col0,#T_3a6e4_row5_col0,#T_3a6e4_row6_col0,#T_3a6e4_row7_col0{\n",
       "            background-color:  #3b4cc0;\n",
       "            color:  #f1f1f1;\n",
       "        }#T_3a6e4_row2_col0{\n",
       "            background-color:  #465ecf;\n",
       "            color:  #f1f1f1;\n",
       "        }#T_3a6e4_row8_col0{\n",
       "            background-color:  #b40426;\n",
       "            color:  #f1f1f1;\n",
       "        }#T_3a6e4_row9_col0,#T_3a6e4_row10_col0{\n",
       "            background-color:  #f08b6e;\n",
       "            color:  #000000;\n",
       "        }</style><table id=\"T_3a6e4_\" ><thead>    <tr>        <th class=\"blank level0\" ></th>        <th class=\"col_heading level0 col0\" >0</th>    </tr></thead><tbody>\n",
       "                <tr>\n",
       "                        <th id=\"T_3a6e4_level0_row0\" class=\"row_heading level0 row0\" >Name</th>\n",
       "                        <td id=\"T_3a6e4_row0_col0\" class=\"data row0 col0\" >0.000000</td>\n",
       "            </tr>\n",
       "            <tr>\n",
       "                        <th id=\"T_3a6e4_level0_row1\" class=\"row_heading level0 row1\" >Platform</th>\n",
       "                        <td id=\"T_3a6e4_row1_col0\" class=\"data row1 col0\" >0.000000</td>\n",
       "            </tr>\n",
       "            <tr>\n",
       "                        <th id=\"T_3a6e4_level0_row2\" class=\"row_heading level0 row2\" >Year_of_Release</th>\n",
       "                        <td id=\"T_3a6e4_row2_col0\" class=\"data row2 col0\" >2.000000</td>\n",
       "            </tr>\n",
       "            <tr>\n",
       "                        <th id=\"T_3a6e4_level0_row3\" class=\"row_heading level0 row3\" >Genre</th>\n",
       "                        <td id=\"T_3a6e4_row3_col0\" class=\"data row3 col0\" >0.000000</td>\n",
       "            </tr>\n",
       "            <tr>\n",
       "                        <th id=\"T_3a6e4_level0_row4\" class=\"row_heading level0 row4\" >NA_sales</th>\n",
       "                        <td id=\"T_3a6e4_row4_col0\" class=\"data row4 col0\" >0.000000</td>\n",
       "            </tr>\n",
       "            <tr>\n",
       "                        <th id=\"T_3a6e4_level0_row5\" class=\"row_heading level0 row5\" >EU_sales</th>\n",
       "                        <td id=\"T_3a6e4_row5_col0\" class=\"data row5 col0\" >0.000000</td>\n",
       "            </tr>\n",
       "            <tr>\n",
       "                        <th id=\"T_3a6e4_level0_row6\" class=\"row_heading level0 row6\" >JP_sales</th>\n",
       "                        <td id=\"T_3a6e4_row6_col0\" class=\"data row6 col0\" >0.000000</td>\n",
       "            </tr>\n",
       "            <tr>\n",
       "                        <th id=\"T_3a6e4_level0_row7\" class=\"row_heading level0 row7\" >Other_sales</th>\n",
       "                        <td id=\"T_3a6e4_row7_col0\" class=\"data row7 col0\" >0.000000</td>\n",
       "            </tr>\n",
       "            <tr>\n",
       "                        <th id=\"T_3a6e4_level0_row8\" class=\"row_heading level0 row8\" >Critic_Score</th>\n",
       "                        <td id=\"T_3a6e4_row8_col0\" class=\"data row8 col0\" >51.000000</td>\n",
       "            </tr>\n",
       "            <tr>\n",
       "                        <th id=\"T_3a6e4_level0_row9\" class=\"row_heading level0 row9\" >User_Score</th>\n",
       "                        <td id=\"T_3a6e4_row9_col0\" class=\"data row9 col0\" >40.000000</td>\n",
       "            </tr>\n",
       "            <tr>\n",
       "                        <th id=\"T_3a6e4_level0_row10\" class=\"row_heading level0 row10\" >Rating</th>\n",
       "                        <td id=\"T_3a6e4_row10_col0\" class=\"data row10 col0\" >40.000000</td>\n",
       "            </tr>\n",
       "    </tbody></table>"
      ],
      "text/plain": [
       "<pandas.io.formats.style.Styler at 0x7f74c6243af0>"
      ]
     },
     "execution_count": 4,
     "metadata": {},
     "output_type": "execute_result"
    }
   ],
   "source": [
    "pd.DataFrame(round(games.isna().mean()*100,)\n",
    "            ).style.background_gradient('coolwarm')"
   ]
  },
  {
   "cell_type": "markdown",
   "metadata": {},
   "source": [
    "Из обзора данных видно, что необходимо привести столбцы к нижнему регистру, для более читаемого вида. Изменить тип данных в столбцах: год релиза и оценки пользователей. Изучить и устранить пропущенные значения в стобцах: названия, года релиза, жанра, оценки критиков, оценки пользователей, возрастного рейтинга, если это необходимо. "
   ]
  },
  {
   "cell_type": "markdown",
   "metadata": {},
   "source": [
    "## Предобработка данных"
   ]
  },
  {
   "cell_type": "code",
   "execution_count": 5,
   "metadata": {},
   "outputs": [],
   "source": [
    "games.columns = games.columns.str.lower()\n"
   ]
  },
  {
   "cell_type": "code",
   "execution_count": 6,
   "metadata": {},
   "outputs": [
    {
     "data": {
      "text/plain": [
       "5155"
      ]
     },
     "execution_count": 6,
     "metadata": {},
     "output_type": "execute_result"
    }
   ],
   "source": [
    "games['name'].duplicated().sum()\n"
   ]
  },
  {
   "cell_type": "code",
   "execution_count": 7,
   "metadata": {},
   "outputs": [],
   "source": [
    "games = games.dropna(subset=['year_of_release'])\n",
    "games = games.dropna(subset=['name'])\n",
    "games = games.dropna(subset=['genre'])\n",
    "#Удаляем пропуски "
   ]
  },
  {
   "cell_type": "code",
   "execution_count": 8,
   "metadata": {},
   "outputs": [
    {
     "data": {
      "text/plain": [
       "array(['8', nan, '8.3', '8.5', '6.6', '8.4', '8.6', '7.7', '6.3', '7.4',\n",
       "       '8.2', '9', '7.9', '8.1', '8.7', '7.1', '3.4', '5.3', '4.8', '3.2',\n",
       "       '8.9', '6.4', '7.8', '7.5', '2.6', '7.2', '9.2', '7', '7.3', '4.3',\n",
       "       '7.6', '5.7', '5', '9.1', '6.5', 'tbd', '8.8', '6.9', '9.4', '6.8',\n",
       "       '6.1', '6.7', '5.4', '4', '4.9', '4.5', '9.3', '6.2', '4.2', '6',\n",
       "       '3.7', '4.1', '5.8', '5.6', '5.5', '4.4', '4.6', '5.9', '3.9',\n",
       "       '3.1', '2.9', '5.2', '3.3', '4.7', '5.1', '3.5', '2.5', '1.9', '3',\n",
       "       '2.7', '2.2', '2', '9.5', '2.1', '3.6', '2.8', '1.8', '3.8', '0',\n",
       "       '1.6', '9.6', '2.4', '1.7', '1.1', '0.3', '1.5', '0.7', '1.2',\n",
       "       '2.3', '0.5', '1.3', '0.2', '0.6', '1.4', '0.9', '1', '9.7'],\n",
       "      dtype=object)"
      ]
     },
     "execution_count": 8,
     "metadata": {},
     "output_type": "execute_result"
    }
   ],
   "source": [
    "games['user_score'].unique()"
   ]
  },
  {
   "cell_type": "code",
   "execution_count": 9,
   "metadata": {},
   "outputs": [],
   "source": [
    "games = games.replace('tbd', np.nan)"
   ]
  },
  {
   "cell_type": "code",
   "execution_count": 10,
   "metadata": {},
   "outputs": [],
   "source": [
    "games['year_of_release'] = games['year_of_release'].astype(int)\n",
    "#Меняем тип данных на целое число.\n",
    "games['user_score'] = games['user_score'].astype(float)"
   ]
  },
  {
   "cell_type": "code",
   "execution_count": 11,
   "metadata": {},
   "outputs": [],
   "source": [
    "games['sum_sales'] =  games[['na_sales','eu_sales','jp_sales', 'other_sales']].sum(axis = 1)"
   ]
  },
  {
   "cell_type": "code",
   "execution_count": 12,
   "metadata": {},
   "outputs": [],
   "source": [
    "games['rating'] = games['rating'].fillna('неизвестно')"
   ]
  },
  {
   "cell_type": "code",
   "execution_count": 13,
   "metadata": {},
   "outputs": [],
   "source": [
    "games['user_score'] = games['user_score'].astype(float)\n",
    "games['critic_score'] = games['critic_score'].astype(float)"
   ]
  },
  {
   "cell_type": "code",
   "execution_count": 14,
   "metadata": {},
   "outputs": [
    {
     "name": "stdout",
     "output_type": "stream",
     "text": [
      "<class 'pandas.core.frame.DataFrame'>\n",
      "Int64Index: 16444 entries, 0 to 16714\n",
      "Data columns (total 12 columns):\n",
      " #   Column           Non-Null Count  Dtype  \n",
      "---  ------           --------------  -----  \n",
      " 0   name             16444 non-null  object \n",
      " 1   platform         16444 non-null  object \n",
      " 2   year_of_release  16444 non-null  int64  \n",
      " 3   genre            16444 non-null  object \n",
      " 4   na_sales         16444 non-null  float64\n",
      " 5   eu_sales         16444 non-null  float64\n",
      " 6   jp_sales         16444 non-null  float64\n",
      " 7   other_sales      16444 non-null  float64\n",
      " 8   critic_score     7983 non-null   float64\n",
      " 9   user_score       7463 non-null   float64\n",
      " 10  rating           16444 non-null  object \n",
      " 11  sum_sales        16444 non-null  float64\n",
      "dtypes: float64(7), int64(1), object(4)\n",
      "memory usage: 1.6+ MB\n"
     ]
    }
   ],
   "source": [
    "games.info()"
   ]
  },
  {
   "cell_type": "markdown",
   "metadata": {},
   "source": [
    "Столбцы были приведены к нижнему регистру.\n",
    "\n",
    "В столбцах: оценка критиков и оценка пользователей, пропусков большое количество, их нельзя удалить, или заполнить, поскольку это может исказить анализ данных. Причиной пропусков может быть, отсутствие значений. Это могут быть неизвестные, неоцененные игры или недавно вышедшие. В оценке пользователей помимо обычных пропусков, были обнаружены значения 'tbd'. Их приравляли к пропускам, поскольку это неизвестное значение.\n",
    "\n",
    "Пропуски в возрастном рейтинге, также нельзя заполнить точно, но возможно заполнить их значением 'неизвестно'.\n",
    "\n",
    "Пропуски в столбцах с названием, годом выпуска и жанром, скорее всего связаны с тем, что у игры нет точных данных об этих характеристиках, либо разработчики забыли указать их. У нас нет данных для заполнения этих ячеек и их количество менее 2%, они не повлияют на дальнейший ход исследования, поэтому удаляем.\n",
    "\n",
    "Имеются дубликаты в столбце с названием, но это связано с тем, что одна и таже игра выходит на разных платформах.\n"
   ]
  },
  {
   "cell_type": "markdown",
   "metadata": {},
   "source": [
    "## Проведение иследовательского анализа данных об играх"
   ]
  },
  {
   "cell_type": "code",
   "execution_count": 15,
   "metadata": {},
   "outputs": [
    {
     "data": {
      "image/png": "[encoded data removed]",
      "text/plain": [
       "<Figure size 432x288 with 1 Axes>"
      ]
     },
     "metadata": {
      "needs_background": "light"
     },
     "output_type": "display_data"
    }
   ],
   "source": [
    "games['year_of_release'].hist(bins=37);\n"
   ]
  },
  {
   "cell_type": "markdown",
   "metadata": {},
   "source": [
    "Данные по выпуску игр сильно отличаются, поэтому для нашего прогноза возьмем данные за последние 2 полных года. До 2000 года совсем не значемы, а все остальные после не достаточны актуальны для иследования и могут испортить анализ. "
   ]
  },
  {
   "cell_type": "code",
   "execution_count": 16,
   "metadata": {
    "scrolled": false
   },
   "outputs": [
    {
     "data": {
      "text/html": [
       "<div>\n",
       "<style scoped>\n",
       "    .dataframe tbody tr th:only-of-type {\n",
       "        vertical-align: middle;\n",
       "    }\n",
       "\n",
       "    .dataframe tbody tr th {\n",
       "        vertical-align: top;\n",
       "    }\n",
       "\n",
       "    .dataframe thead th {\n",
       "        text-align: right;\n",
       "    }\n",
       "</style>\n",
       "<table border=\"1\" class=\"dataframe\">\n",
       "  <thead>\n",
       "    <tr style=\"text-align: right;\">\n",
       "      <th></th>\n",
       "      <th>sum_sales</th>\n",
       "    </tr>\n",
       "    <tr>\n",
       "      <th>platform</th>\n",
       "      <th></th>\n",
       "    </tr>\n",
       "  </thead>\n",
       "  <tbody>\n",
       "    <tr>\n",
       "      <th>PS2</th>\n",
       "      <td>1233.56</td>\n",
       "    </tr>\n",
       "    <tr>\n",
       "      <th>X360</th>\n",
       "      <td>961.24</td>\n",
       "    </tr>\n",
       "    <tr>\n",
       "      <th>PS3</th>\n",
       "      <td>931.34</td>\n",
       "    </tr>\n",
       "    <tr>\n",
       "      <th>Wii</th>\n",
       "      <td>891.18</td>\n",
       "    </tr>\n",
       "    <tr>\n",
       "      <th>DS</th>\n",
       "      <td>802.78</td>\n",
       "    </tr>\n",
       "    <tr>\n",
       "      <th>PS</th>\n",
       "      <td>727.58</td>\n",
       "    </tr>\n",
       "    <tr>\n",
       "      <th>PS4</th>\n",
       "      <td>314.14</td>\n",
       "    </tr>\n",
       "    <tr>\n",
       "      <th>GBA</th>\n",
       "      <td>312.88</td>\n",
       "    </tr>\n",
       "    <tr>\n",
       "      <th>PSP</th>\n",
       "      <td>289.53</td>\n",
       "    </tr>\n",
       "    <tr>\n",
       "      <th>3DS</th>\n",
       "      <td>257.81</td>\n",
       "    </tr>\n",
       "    <tr>\n",
       "      <th>PC</th>\n",
       "      <td>255.76</td>\n",
       "    </tr>\n",
       "    <tr>\n",
       "      <th>GB</th>\n",
       "      <td>254.43</td>\n",
       "    </tr>\n",
       "    <tr>\n",
       "      <th>XB</th>\n",
       "      <td>251.57</td>\n",
       "    </tr>\n",
       "    <tr>\n",
       "      <th>NES</th>\n",
       "      <td>251.05</td>\n",
       "    </tr>\n",
       "    <tr>\n",
       "      <th>N64</th>\n",
       "      <td>218.01</td>\n",
       "    </tr>\n",
       "    <tr>\n",
       "      <th>SNES</th>\n",
       "      <td>200.04</td>\n",
       "    </tr>\n",
       "    <tr>\n",
       "      <th>GC</th>\n",
       "      <td>196.73</td>\n",
       "    </tr>\n",
       "    <tr>\n",
       "      <th>XOne</th>\n",
       "      <td>159.32</td>\n",
       "    </tr>\n",
       "    <tr>\n",
       "      <th>2600</th>\n",
       "      <td>86.48</td>\n",
       "    </tr>\n",
       "    <tr>\n",
       "      <th>WiiU</th>\n",
       "      <td>82.19</td>\n",
       "    </tr>\n",
       "    <tr>\n",
       "      <th>PSV</th>\n",
       "      <td>53.81</td>\n",
       "    </tr>\n",
       "    <tr>\n",
       "      <th>SAT</th>\n",
       "      <td>33.59</td>\n",
       "    </tr>\n",
       "    <tr>\n",
       "      <th>GEN</th>\n",
       "      <td>28.35</td>\n",
       "    </tr>\n",
       "    <tr>\n",
       "      <th>DC</th>\n",
       "      <td>15.95</td>\n",
       "    </tr>\n",
       "    <tr>\n",
       "      <th>SCD</th>\n",
       "      <td>1.86</td>\n",
       "    </tr>\n",
       "    <tr>\n",
       "      <th>NG</th>\n",
       "      <td>1.44</td>\n",
       "    </tr>\n",
       "    <tr>\n",
       "      <th>WS</th>\n",
       "      <td>1.42</td>\n",
       "    </tr>\n",
       "    <tr>\n",
       "      <th>TG16</th>\n",
       "      <td>0.16</td>\n",
       "    </tr>\n",
       "    <tr>\n",
       "      <th>3DO</th>\n",
       "      <td>0.10</td>\n",
       "    </tr>\n",
       "    <tr>\n",
       "      <th>GG</th>\n",
       "      <td>0.04</td>\n",
       "    </tr>\n",
       "    <tr>\n",
       "      <th>PCFX</th>\n",
       "      <td>0.03</td>\n",
       "    </tr>\n",
       "  </tbody>\n",
       "</table>\n",
       "</div>"
      ],
      "text/plain": [
       "          sum_sales\n",
       "platform           \n",
       "PS2         1233.56\n",
       "X360         961.24\n",
       "PS3          931.34\n",
       "Wii          891.18\n",
       "DS           802.78\n",
       "PS           727.58\n",
       "PS4          314.14\n",
       "GBA          312.88\n",
       "PSP          289.53\n",
       "3DS          257.81\n",
       "PC           255.76\n",
       "GB           254.43\n",
       "XB           251.57\n",
       "NES          251.05\n",
       "N64          218.01\n",
       "SNES         200.04\n",
       "GC           196.73\n",
       "XOne         159.32\n",
       "2600          86.48\n",
       "WiiU          82.19\n",
       "PSV           53.81\n",
       "SAT           33.59\n",
       "GEN           28.35\n",
       "DC            15.95\n",
       "SCD            1.86\n",
       "NG             1.44\n",
       "WS             1.42\n",
       "TG16           0.16\n",
       "3DO            0.10\n",
       "GG             0.04\n",
       "PCFX           0.03"
      ]
     },
     "execution_count": 16,
     "metadata": {},
     "output_type": "execute_result"
    }
   ],
   "source": [
    "games.pivot_table(index='platform', values='sum_sales',\n",
    "                  aggfunc='sum').sort_values(by='sum_sales', ascending=False)"
   ]
  },
  {
   "cell_type": "code",
   "execution_count": 17,
   "metadata": {
    "scrolled": true
   },
   "outputs": [
    {
     "data": {
      "text/plain": [
       "Text(0, 0.5, 'продажи')"
      ]
     },
     "execution_count": 17,
     "metadata": {},
     "output_type": "execute_result"
    },
    {
     "data": {
      "image/png": "[encoded data removed]",
      "text/plain": [
       "<Figure size 1152x576 with 1 Axes>"
      ]
     },
     "metadata": {
      "needs_background": "light"
     },
     "output_type": "display_data"
    }
   ],
   "source": [
    "games.pivot_table(index='year_of_release', columns = 'platform', values='sum_sales',\n",
    "                  aggfunc='sum').plot(grid=True, figsize=(16, 8), title = 'продажы всех платформ')\n",
    "plt.xlabel('год')\n",
    "plt.ylabel('продажи')"
   ]
  },
  {
   "cell_type": "markdown",
   "metadata": {},
   "source": [
    "Из последней сводной таблицы и графика мы можем заметить, что наиболее продаваемые платформы за все время не помогут нам в иследовании. Необходимо выделить самые популярные платформы именно за последние года."
   ]
  },
  {
   "cell_type": "code",
   "execution_count": 18,
   "metadata": {},
   "outputs": [],
   "source": [
    "games = games.query('year_of_release >= 2014')\n",
    "#делаем срез по таблице с нужными годами"
   ]
  },
  {
   "cell_type": "code",
   "execution_count": 19,
   "metadata": {},
   "outputs": [
    {
     "data": {
      "text/html": [
       "<div>\n",
       "<style scoped>\n",
       "    .dataframe tbody tr th:only-of-type {\n",
       "        vertical-align: middle;\n",
       "    }\n",
       "\n",
       "    .dataframe tbody tr th {\n",
       "        vertical-align: top;\n",
       "    }\n",
       "\n",
       "    .dataframe thead th {\n",
       "        text-align: right;\n",
       "    }\n",
       "</style>\n",
       "<table border=\"1\" class=\"dataframe\">\n",
       "  <thead>\n",
       "    <tr style=\"text-align: right;\">\n",
       "      <th></th>\n",
       "      <th>sum_sales</th>\n",
       "    </tr>\n",
       "    <tr>\n",
       "      <th>platform</th>\n",
       "      <th></th>\n",
       "    </tr>\n",
       "  </thead>\n",
       "  <tbody>\n",
       "    <tr>\n",
       "      <th>PS4</th>\n",
       "      <td>288.15</td>\n",
       "    </tr>\n",
       "    <tr>\n",
       "      <th>XOne</th>\n",
       "      <td>140.36</td>\n",
       "    </tr>\n",
       "    <tr>\n",
       "      <th>3DS</th>\n",
       "      <td>86.68</td>\n",
       "    </tr>\n",
       "    <tr>\n",
       "      <th>PS3</th>\n",
       "      <td>68.18</td>\n",
       "    </tr>\n",
       "    <tr>\n",
       "      <th>X360</th>\n",
       "      <td>48.22</td>\n",
       "    </tr>\n",
       "    <tr>\n",
       "      <th>WiiU</th>\n",
       "      <td>42.98</td>\n",
       "    </tr>\n",
       "    <tr>\n",
       "      <th>PC</th>\n",
       "      <td>27.05</td>\n",
       "    </tr>\n",
       "    <tr>\n",
       "      <th>PSV</th>\n",
       "      <td>22.40</td>\n",
       "    </tr>\n",
       "    <tr>\n",
       "      <th>Wii</th>\n",
       "      <td>5.07</td>\n",
       "    </tr>\n",
       "    <tr>\n",
       "      <th>PSP</th>\n",
       "      <td>0.36</td>\n",
       "    </tr>\n",
       "  </tbody>\n",
       "</table>\n",
       "</div>"
      ],
      "text/plain": [
       "          sum_sales\n",
       "platform           \n",
       "PS4          288.15\n",
       "XOne         140.36\n",
       "3DS           86.68\n",
       "PS3           68.18\n",
       "X360          48.22\n",
       "WiiU          42.98\n",
       "PC            27.05\n",
       "PSV           22.40\n",
       "Wii            5.07\n",
       "PSP            0.36"
      ]
     },
     "execution_count": 19,
     "metadata": {},
     "output_type": "execute_result"
    }
   ],
   "source": [
    "top_platforms = games.pivot_table(index='platform', values='sum_sales',\n",
    "                  aggfunc='sum').sort_values(by='sum_sales',ascending=False)\n",
    "top_platforms"
   ]
  },
  {
   "cell_type": "code",
   "execution_count": 20,
   "metadata": {},
   "outputs": [],
   "source": [
    "pl = ['PS4', 'XOne', '3DS', 'WiiU', 'PS3', 'PC', 'X360']\n",
    "#составляем список из самых продаваемых платформ\n",
    "games = games.query('@pl == platform')\n",
    "#делаем срез по таблице с нужными платформами"
   ]
  },
  {
   "cell_type": "code",
   "execution_count": 21,
   "metadata": {
    "scrolled": false
   },
   "outputs": [
    {
     "data": {
      "image/png": "[encoded data removed]",
      "text/plain": [
       "<Figure size 1152x576 with 1 Axes>"
      ]
     },
     "metadata": {
      "needs_background": "light"
     },
     "output_type": "display_data"
    }
   ],
   "source": [
    "games.pivot_table(index='year_of_release', columns = 'platform', values='sum_sales',\n",
    "                  aggfunc='sum').plot(grid=True, figsize=(16, 8), title = 'продажы популярных платформ за 2015-2016г.')\n",
    "plt.xlabel('год')\n",
    "plt.ylabel('продажи')\n",
    "plt.show()\n"
   ]
  },
  {
   "cell_type": "markdown",
   "metadata": {},
   "source": [
    "Если учитывать, что данные в таблице за 2016 год неполные, в последние годы продажи расли у PS4 и XOne, у всех остальных  платформ падают продажи. Особенно сильно у приставок прошлого покаления PS3 и X360."
   ]
  },
  {
   "cell_type": "code",
   "execution_count": 22,
   "metadata": {
    "scrolled": true
   },
   "outputs": [
    {
     "data": {
      "image/png": "[encoded data removed]",
      "text/plain": [
       "<Figure size 432x288 with 1 Axes>"
      ]
     },
     "metadata": {
      "needs_background": "light"
     },
     "output_type": "display_data"
    }
   ],
   "source": [
    "sns.boxplot(x='platform', y='sum_sales', data=games, showfliers = False)\n",
    "plt.show()\n"
   ]
  },
  {
   "cell_type": "code",
   "execution_count": 23,
   "metadata": {},
   "outputs": [
    {
     "data": {
      "image/png": "[encoded data removed]",
      "text/plain": [
       "<Figure size 432x288 with 1 Axes>"
      ]
     },
     "metadata": {
      "needs_background": "light"
     },
     "output_type": "display_data"
    }
   ],
   "source": [
    "sns.boxplot(x='platform', y='sum_sales', data=games)\n",
    "plt.show()"
   ]
  },
  {
   "cell_type": "markdown",
   "metadata": {},
   "source": [
    "Можем наблюдать продажи платформ без выбросов и с ними. Самыми продаваемыми платформами являются PS4, XOne и WiiU. Выбросами в данном случае могут быть аномально успешные проекты. В нашем случае выбросы практически не влияют на общую картину данных."
   ]
  },
  {
   "cell_type": "code",
   "execution_count": 24,
   "metadata": {
    "scrolled": false
   },
   "outputs": [
    {
     "data": {
      "image/png": "[encoded data removed]",
      "text/plain": [
       "<Figure size 864x864 with 9 Axes>"
      ]
     },
     "metadata": {
      "needs_background": "light"
     },
     "output_type": "display_data"
    },
    {
     "data": {
      "text/plain": [
       "critic_score    0.402661\n",
       "user_score     -0.040132\n",
       "sum_sales       1.000000\n",
       "Name: sum_sales, dtype: float64"
      ]
     },
     "execution_count": 24,
     "metadata": {},
     "output_type": "execute_result"
    }
   ],
   "source": [
    "games_ps = games.query('platform == \"PS4\"')\n",
    "\n",
    "influence_ps = games_ps[['critic_score', 'user_score', 'sum_sales']]\n",
    "pd.plotting.scatter_matrix(influence_ps, figsize=(12, 12)) \n",
    "plt.show()\n",
    "games_ps[['critic_score', 'user_score', 'sum_sales']].corr()['sum_sales']"
   ]
  },
  {
   "cell_type": "markdown",
   "metadata": {},
   "source": [
    "Можем заметить, что отзывы критиков влияют на продажи PS4, а отзывы пользователей нет."
   ]
  },
  {
   "cell_type": "code",
   "execution_count": 25,
   "metadata": {},
   "outputs": [
    {
     "data": {
      "image/png": "[encoded data removed]",
      "text/plain": [
       "<Figure size 864x864 with 9 Axes>"
      ]
     },
     "metadata": {
      "needs_background": "light"
     },
     "output_type": "display_data"
    },
    {
     "data": {
      "text/plain": [
       "critic_score    0.428677\n",
       "user_score     -0.070384\n",
       "sum_sales       1.000000\n",
       "Name: sum_sales, dtype: float64"
      ]
     },
     "execution_count": 25,
     "metadata": {},
     "output_type": "execute_result"
    }
   ],
   "source": [
    "games_xone = games.query('platform == \"XOne\"')\n",
    "\n",
    "influence_xone = games_xone[['critic_score', 'user_score', 'sum_sales']]\n",
    "pd.plotting.scatter_matrix(influence_xone, figsize=(12, 12)) \n",
    "plt.show()\n",
    "games_xone[['critic_score', 'user_score', 'sum_sales']].corr()['sum_sales']"
   ]
  },
  {
   "cell_type": "markdown",
   "metadata": {},
   "source": [
    "Такая же ситуация с XOne."
   ]
  },
  {
   "cell_type": "code",
   "execution_count": 26,
   "metadata": {},
   "outputs": [
    {
     "data": {
      "image/png": "[encoded data removed]",
      "text/plain": [
       "<Figure size 864x864 with 9 Axes>"
      ]
     },
     "metadata": {
      "needs_background": "light"
     },
     "output_type": "display_data"
    },
    {
     "data": {
      "text/plain": [
       "critic_score    0.370201\n",
       "user_score      0.407926\n",
       "sum_sales       1.000000\n",
       "Name: sum_sales, dtype: float64"
      ]
     },
     "execution_count": 26,
     "metadata": {},
     "output_type": "execute_result"
    }
   ],
   "source": [
    "games_ds = games.query('platform == \"WiiU\"')\n",
    "\n",
    "influence_ds = games_ds[['critic_score', 'user_score', 'sum_sales']]\n",
    "pd.plotting.scatter_matrix(influence_xone, figsize=(12, 12)) \n",
    "plt.show()\n",
    "games_ds[['critic_score', 'user_score', 'sum_sales']].corr()['sum_sales']"
   ]
  },
  {
   "cell_type": "markdown",
   "metadata": {},
   "source": [
    "Для WiiU оценки пользователи влияют на продажи даже больше, чем критики."
   ]
  },
  {
   "cell_type": "code",
   "execution_count": 27,
   "metadata": {
    "scrolled": true
   },
   "outputs": [
    {
     "data": {
      "image/png": "[encoded data removed]",
      "text/plain": [
       "<Figure size 864x864 with 9 Axes>"
      ]
     },
     "metadata": {
      "needs_background": "light"
     },
     "output_type": "display_data"
    },
    {
     "data": {
      "text/plain": [
       "critic_score    0.174634\n",
       "user_score     -0.071597\n",
       "sum_sales       1.000000\n",
       "Name: sum_sales, dtype: float64"
      ]
     },
     "execution_count": 27,
     "metadata": {},
     "output_type": "execute_result"
    }
   ],
   "source": [
    "games_pc = games.query('platform == \"PC\"')\n",
    "\n",
    "influence_pc = games_pc[['critic_score', 'user_score', 'sum_sales']]\n",
    "pd.plotting.scatter_matrix(influence_xone, figsize=(12, 12)) \n",
    "plt.show()\n",
    "games_pc[['critic_score', 'user_score', 'sum_sales']].corr()['sum_sales']"
   ]
  },
  {
   "cell_type": "markdown",
   "metadata": {},
   "source": [
    "Для PC и оценки критиков и пользователей, не сильно влияют на продажи."
   ]
  },
  {
   "cell_type": "code",
   "execution_count": 28,
   "metadata": {
    "scrolled": true
   },
   "outputs": [
    {
     "data": {
      "text/html": [
       "<div>\n",
       "<style scoped>\n",
       "    .dataframe tbody tr th:only-of-type {\n",
       "        vertical-align: middle;\n",
       "    }\n",
       "\n",
       "    .dataframe tbody tr th {\n",
       "        vertical-align: top;\n",
       "    }\n",
       "\n",
       "    .dataframe thead tr th {\n",
       "        text-align: left;\n",
       "    }\n",
       "\n",
       "    .dataframe thead tr:last-of-type th {\n",
       "        text-align: right;\n",
       "    }\n",
       "</style>\n",
       "<table border=\"1\" class=\"dataframe\">\n",
       "  <thead>\n",
       "    <tr>\n",
       "      <th></th>\n",
       "      <th>count</th>\n",
       "      <th>sum</th>\n",
       "      <th>mean</th>\n",
       "    </tr>\n",
       "    <tr>\n",
       "      <th></th>\n",
       "      <th>sum_sales</th>\n",
       "      <th>sum_sales</th>\n",
       "      <th>sum_sales</th>\n",
       "    </tr>\n",
       "    <tr>\n",
       "      <th>genre</th>\n",
       "      <th></th>\n",
       "      <th></th>\n",
       "      <th></th>\n",
       "    </tr>\n",
       "  </thead>\n",
       "  <tbody>\n",
       "    <tr>\n",
       "      <th>Action</th>\n",
       "      <td>496</td>\n",
       "      <td>190.50</td>\n",
       "      <td>0.384073</td>\n",
       "    </tr>\n",
       "    <tr>\n",
       "      <th>Adventure</th>\n",
       "      <td>106</td>\n",
       "      <td>15.03</td>\n",
       "      <td>0.141792</td>\n",
       "    </tr>\n",
       "    <tr>\n",
       "      <th>Fighting</th>\n",
       "      <td>53</td>\n",
       "      <td>27.53</td>\n",
       "      <td>0.519434</td>\n",
       "    </tr>\n",
       "    <tr>\n",
       "      <th>Misc</th>\n",
       "      <td>91</td>\n",
       "      <td>30.96</td>\n",
       "      <td>0.340220</td>\n",
       "    </tr>\n",
       "    <tr>\n",
       "      <th>Platform</th>\n",
       "      <td>34</td>\n",
       "      <td>17.90</td>\n",
       "      <td>0.526471</td>\n",
       "    </tr>\n",
       "    <tr>\n",
       "      <th>Puzzle</th>\n",
       "      <td>12</td>\n",
       "      <td>2.15</td>\n",
       "      <td>0.179167</td>\n",
       "    </tr>\n",
       "    <tr>\n",
       "      <th>Racing</th>\n",
       "      <td>66</td>\n",
       "      <td>27.42</td>\n",
       "      <td>0.415455</td>\n",
       "    </tr>\n",
       "    <tr>\n",
       "      <th>Role-Playing</th>\n",
       "      <td>162</td>\n",
       "      <td>95.34</td>\n",
       "      <td>0.588519</td>\n",
       "    </tr>\n",
       "    <tr>\n",
       "      <th>Shooter</th>\n",
       "      <td>127</td>\n",
       "      <td>170.30</td>\n",
       "      <td>1.340945</td>\n",
       "    </tr>\n",
       "    <tr>\n",
       "      <th>Simulation</th>\n",
       "      <td>41</td>\n",
       "      <td>13.08</td>\n",
       "      <td>0.319024</td>\n",
       "    </tr>\n",
       "    <tr>\n",
       "      <th>Sports</th>\n",
       "      <td>149</td>\n",
       "      <td>107.63</td>\n",
       "      <td>0.722349</td>\n",
       "    </tr>\n",
       "    <tr>\n",
       "      <th>Strategy</th>\n",
       "      <td>33</td>\n",
       "      <td>3.78</td>\n",
       "      <td>0.114545</td>\n",
       "    </tr>\n",
       "  </tbody>\n",
       "</table>\n",
       "</div>"
      ],
      "text/plain": [
       "                 count       sum      mean\n",
       "             sum_sales sum_sales sum_sales\n",
       "genre                                     \n",
       "Action             496    190.50  0.384073\n",
       "Adventure          106     15.03  0.141792\n",
       "Fighting            53     27.53  0.519434\n",
       "Misc                91     30.96  0.340220\n",
       "Platform            34     17.90  0.526471\n",
       "Puzzle              12      2.15  0.179167\n",
       "Racing              66     27.42  0.415455\n",
       "Role-Playing       162     95.34  0.588519\n",
       "Shooter            127    170.30  1.340945\n",
       "Simulation          41     13.08  0.319024\n",
       "Sports             149    107.63  0.722349\n",
       "Strategy            33      3.78  0.114545"
      ]
     },
     "execution_count": 28,
     "metadata": {},
     "output_type": "execute_result"
    }
   ],
   "source": [
    "games.pivot_table(index='genre', values='sum_sales', aggfunc=['count','sum','mean'])"
   ]
  },
  {
   "cell_type": "markdown",
   "metadata": {},
   "source": [
    "Из построенного графика, можем заметить, что количество выпущеных игр в разные годы заметно отличается. Наиболее продаваемые платформы за все время не помогут нам в иследовании. Необходимо выделить самые популярные платформы именно за последние года. Поскольку нам необходимо составить прогноз на следующий год, возмем данные за последние два полных года, поскольку данные за 2016 год неполные - это 2014 - 2016 года. Они покажут нам актуальную информацию по платформам и продажам. Характерный срок для появления новых платформ - несколько лет, а старые исчезают примерно за 10 лет. Это связано с быстрым ростом технологий в мире. \n",
    "\n",
    "Абсолютный лидер по сумме продаж платформа - PS4, далее идет Xone и 3DS. Средний результат у PS3 и X360. Pc замыкает список интересующих нас платформ. Из этого следует, что большей популярностью пользуются консоли. \n",
    "\n",
    "За  последние два года прослеживается тенденция, что продажи расли у PS4 и XOne, у всех остальных  платформ падают продажи. Особенно сильно у приставок прошлого покаления PS3 и X360. Поэтому стоит присмотреться именно к PS4 и XOne.\n",
    "\n",
    "Отбросив выбросы, можем наблюдать, что самыми продаваемыми платформами являются PS4, XOne и WiiU. Выбросами в данном случае могут быть аномально успешные проекты. В нашем случае выбросы практически не влияют на общую картину данных.\n",
    "\n",
    "Можем заметить, что у популярных платформ отсутствует влияние оценки пользователей, однако оценки критиков действительно влияют на продажи. Это не удивительно, поскольку частно люди сначала прислушиваются к мнению критиков, а после игра становится популярна среди пользователей. Но у платформ с меньшем количеством продаж картина меняется, поэтому более правильно прогназировать рекламную компанию будет, опираясь на определенную платформу.\n",
    "\n",
    "Больше всего приносят денег такие жанры как: Шутеры, Экшен, Ролеплей и Спортивные. По средним продажам жанер Шутер, довольно близко к жанру Экшен, хоть и продаж в сумме у него заметно меньше. Самые высокие средние продажы у жанра Шутер. Наиболее часто встречается жанр - Экшен. Поэтому у него большие общие продажы, хотя среднее по продажам невысокое. Самые низкие показатели у Пазл игр и стратегий. Остальные распределены примерно одинаково.\n"
   ]
  },
  {
   "cell_type": "markdown",
   "metadata": {},
   "source": [
    "## Составление портрета пользователя"
   ]
  },
  {
   "cell_type": "code",
   "execution_count": 29,
   "metadata": {},
   "outputs": [
    {
     "data": {
      "image/png": "[encoded data removed]",
      "text/plain": [
       "<Figure size 576x360 with 1 Axes>"
      ]
     },
     "metadata": {
      "needs_background": "light"
     },
     "output_type": "display_data"
    },
    {
     "data": {
      "image/png": "[encoded data removed]",
      "text/plain": [
       "<Figure size 576x360 with 1 Axes>"
      ]
     },
     "metadata": {
      "needs_background": "light"
     },
     "output_type": "display_data"
    },
    {
     "data": {
      "image/png": "[encoded data removed]",
      "text/plain": [
       "<Figure size 576x360 with 1 Axes>"
      ]
     },
     "metadata": {
      "needs_background": "light"
     },
     "output_type": "display_data"
    }
   ],
   "source": [
    "regions = games.columns[4:7]\n",
    "for i in range(3):\n",
    "    df_i = games.groupby('platform')[regions[i]].sum().reset_index().sort_values(regions[i], ascending = False).head(5)\n",
    "    df_i.plot(x = 'platform', kind = 'bar', figsize=(8,5), grid = True, title = 'топ 5 платформ', legend=None)\n",
    "    plt.xlabel('платформа')\n",
    "    plt.ylabel('продажи')\n",
    "    plt.show()"
   ]
  },
  {
   "cell_type": "code",
   "execution_count": 30,
   "metadata": {
    "scrolled": false
   },
   "outputs": [
    {
     "data": {
      "image/png": "[encoded data removed]",
      "text/plain": [
       "<Figure size 576x360 with 1 Axes>"
      ]
     },
     "metadata": {
      "needs_background": "light"
     },
     "output_type": "display_data"
    },
    {
     "data": {
      "image/png": "[encoded data removed]",
      "text/plain": [
       "<Figure size 576x360 with 1 Axes>"
      ]
     },
     "metadata": {
      "needs_background": "light"
     },
     "output_type": "display_data"
    },
    {
     "data": {
      "image/png": "[encoded data removed]",
      "text/plain": [
       "<Figure size 576x360 with 1 Axes>"
      ]
     },
     "metadata": {
      "needs_background": "light"
     },
     "output_type": "display_data"
    }
   ],
   "source": [
    "\n",
    "for i in range(3):\n",
    "    df_i = games.groupby('genre')[regions[i]].median().reset_index().sort_values(regions[i], ascending = False).head(5)\n",
    "    df_i.plot(x = 'genre', kind = 'bar', figsize=(8,5), grid = True, title = 'топ 5 жанров', legend=None)\n",
    "    plt.xlabel('жанр')\n",
    "    plt.ylabel('продажи')\n",
    "    plt.show()"
   ]
  },
  {
   "cell_type": "code",
   "execution_count": 31,
   "metadata": {},
   "outputs": [
    {
     "data": {
      "image/png": "[encoded data removed]",
      "text/plain": [
       "<Figure size 576x360 with 1 Axes>"
      ]
     },
     "metadata": {
      "needs_background": "light"
     },
     "output_type": "display_data"
    }
   ],
   "source": [
    "rating_pivot = games.pivot_table(index='rating', values=['na_sales', 'eu_sales', 'jp_sales'], aggfunc='sum')\n",
    "rating_pivot.plot(kind = 'bar', figsize=(8,5), grid = True, title = 'влияние рейтинга')\n",
    "plt.xlabel('вид рейтинга')\n",
    "plt.ylabel('продажи')\n",
    "plt.show()"
   ]
  },
  {
   "cell_type": "markdown",
   "metadata": {},
   "source": [
    "Продажы по регионам:\n",
    "Регион Северной Америки и Европы похожи. В них преобладают платформы PS4 и XOne, однако в Европе продажи XBox меньше и присутствует весомая доля PC пользователей. В обоих основная доля игр - шутеры. \n",
    "Япония Сильно отличается. В ней преобладают отечественные консоли. Наибольшее количество продаж у 3DS, далее по нисходящей консоли от Sony. Жанры в этом регионе предпочитают: Ролевые, Пазлы, Файтинги.\n",
    "Можно сказать, что это связано с культурной особенностью. Европа и Северная-Америка близкие по этому фактору.\n",
    "\n",
    "Данные по возрастному рейтингу в Японии нельзя точно определить, так как в большинстве их играх не был указан рейтинг. Возможно это игры с неопределенным рейтингом. RP.\n",
    "В Европе и Северной - Америке предпочитают игры с рейтингом М, где присутствует насилие. Это связано с большой популярностью жанра Шутер и Экшен. В целом нельзя сказать, что возрастной рейтинг влияет на продажи, скорее определенные жанры и их популярность влияют на рынок."
   ]
  },
  {
   "cell_type": "markdown",
   "metadata": {},
   "source": [
    "## Проверка гипотез"
   ]
  },
  {
   "cell_type": "code",
   "execution_count": 32,
   "metadata": {},
   "outputs": [
    {
     "data": {
      "text/plain": [
       "0"
      ]
     },
     "execution_count": 32,
     "metadata": {},
     "output_type": "execute_result"
    }
   ],
   "source": [
    "games_clean= games.dropna(subset=['user_score'])\n",
    "games_clean['user_score'].isna().sum()\n"
   ]
  },
  {
   "cell_type": "code",
   "execution_count": 33,
   "metadata": {},
   "outputs": [
    {
     "name": "stdout",
     "output_type": "stream",
     "text": [
      "0.11601398086668832\n",
      "Не получилось отвергнуть нулевую гипотезу\n"
     ]
    }
   ],
   "source": [
    "#H_0 Средние пользовательские рейтинги платформ Xbox One и PC !=\n",
    "#H_a Средние пользовательские рейтинги платформ Xbox One и PC =\n",
    "\n",
    "platform_xbox_one = games_clean.query('platform == \"XOne\"')['user_score']\n",
    "platform_pc = games_clean.query('platform == \"PC\"')['user_score']\n",
    "results = st.ttest_ind(platform_xbox_one, platform_pc,equal_var=False)\n",
    "alpha = 0.05\n",
    "print(results.pvalue)\n",
    "if results.pvalue < alpha:\n",
    "    print(\"Отвергаем нулевую гипотезу\")\n",
    "else:\n",
    "    print(\"Не получилось отвергнуть нулевую гипотезу\")"
   ]
  },
  {
   "cell_type": "code",
   "execution_count": 34,
   "metadata": {},
   "outputs": [
    {
     "name": "stdout",
     "output_type": "stream",
     "text": [
      "1.3972523609104894e-13\n",
      "Отвергаем нулевую гипотезу\n"
     ]
    }
   ],
   "source": [
    "#H_0 Средние пользовательские рейтинги жанров Action и Sports =\n",
    "#H_a Средние пользовательские рейтинги жанров Action и Sports !=\n",
    "\n",
    "user_score_action = games_clean.query('genre == \"Action\"')['user_score']\n",
    "user_score_sports = games_clean.query('genre == \"Sports\"')['user_score']\n",
    "results = st.ttest_ind(user_score_action, user_score_sports,equal_var=False)\n",
    "alpha = 0.05\n",
    "print(results.pvalue)\n",
    "if results.pvalue < alpha:\n",
    "    print(\"Отвергаем нулевую гипотезу\")\n",
    "else:\n",
    "    print(\"Не получилось отвергнуть нулевую гипотезу\")"
   ]
  },
  {
   "cell_type": "markdown",
   "metadata": {},
   "source": [
    "\n",
    "В первой гипотезе значение p-value больше 0,5%, это значит, вероятность, что средние пользовательские рейтинги платформ Xbox One и PC неравны очень низкая, поэтому мы не можем отвергнуть нулевую гипотезу.\n",
    "\n",
    "Во-второй гипотезе значение p-value намного меньше 0,5%, это значит, вероятность, что средние пользовательские рейтинги жанров Action и Sports равны очень низкая, поэтому мы можем отвергнуть нулевую гипотезу."
   ]
  },
  {
   "cell_type": "markdown",
   "metadata": {},
   "source": [
    "## Общий вывод"
   ]
  },
  {
   "cell_type": "markdown",
   "metadata": {},
   "source": [
    "На этапе предобработки было обнаруже большое количество пропусков.\n",
    "В столбцах оценка критиков и оценка пользователей, нельзя удалить или заполнить пропуски, поскольку это может исказить анализ данных. Причиной пропусков может быть, отсутствие значений. Это могут быть неизвестные, неоцененные игры или недавно вышедшие. В оценке пользователей помимо обычных пропусков, были обнаружены значения 'tbd'. Их приравляли к пропускам, поскольку это неизвестное значение. Пропуски в возрастном рейтинге, также нельзя заполнить точно, но можно заполнить их значением 'неизвестно'. Возможно это рейтинг RP, который и и означает неопределенный рейтинг в таблице ESRB.\n",
    "Пропуски в столбцах с названием, годом выпуска и жанром, скорее всего связаны с тем, что у игры нет точных данных об этих характеристиках, либо разработчики забыли указать их. У нас нет данных для заполнения этих ячеек и их количество менее 2%, они не повлияют на дальнейший ход исследования, поэтому данные были удалены.\n",
    "\n",
    "Количество выпущеных игр в разные годы заметно отличается. Наиболее продаваемые платформы за все время не помогут нам в иследовании. Необходимо выделить самые популярные платформы именно за последние года. Поскольку нам необходимо составить прогноз на следующий год, возмем данные за последние два полных года, поскольку данные за 2016 год неполные - это 2014 - 2016 года. Они покажут нам актуальную информацию по платформам и продажам. Характерный срок для появления новых платформ - несколько лет, а старые исчезают примерно за 10 лет. Это связано с быстрым ростом технологий в мире. \n",
    "\n",
    "За  последние два года прослеживается тенденция, что продажи расли у PS4 и XOne, у всех остальных  платформ падают продажи. Особенно сильно у приставок прошлого покаления PS3 и X360. Поэтому стоит присмотреться именно к PS4 и XOne.\n",
    "\n",
    "Абсолютный лидер по сумме продаж платформа - PS4, далее идет Xone и 3DS. Средний результат у PS3 и X360. Pc замыкает список интересующих нас платформ. Из этого следует, что большей популярностью пользуются консоли. \n",
    "\n",
    "\n",
    "Отбросив выбросы, можем наблюдать, что самыми продаваемыми платформами являются PS4, XOne и WiiU. Выбросами в данном случае могут быть аномально успешные проекты. В нашем случае выбросы практически не влияют на общую картину данных.\n",
    "\n",
    "Можем заметить, что у популярных платформ отсутствует влияние оценки пользователей, однако оценки критиков действительно влияют на продажи. Это не удивительно, поскольку частно люди сначала прислушиваются к мнению критиков, а после игра становится популярна среди пользователей. Но у платформ с меньшем количеством продаж картина меняется, поэтому более правильно прогназировать рекламную компанию будет, опираясь на определенную платформу.\n",
    "\n",
    "Больше всего приносят денег такие жанры как: Шутеры, Экшен, Ролеплей и Спортивные. По средним продажам жанер Шутер, довольно близко к жанру Экшен, хоть и продаж в сумме у него заметно меньше. Самые высокие средние продажы у жанра Шутер. Наиболее часто встречается жанр - Экшен. Поэтому у него большие общие продажы, хотя среднее по продажам невысокое. Самые низкие показатели у Пазл игр и стратегий. Остальные распределены примерно одинаково.\n",
    "\n",
    "\n",
    "Возможно в последнее время стали более популярны бесплатные игры с системой внутриигровой покупки, поэтому цифры по продажам упали. Либо новые проекты находятся в стадии разработки.\n",
    "\n",
    "В рекламной компании стоит сделать ставку на продвижение игр среди критиков, так же постараться уделить внимание тем играм у которых хорошие оценки. \n",
    "\n",
    "Для успешной рекламной компании, будут самыми востребоваными жанры, которые приносят больше всего денег: Шутеры, Экшен, Ролеплей и Спортивные. \n",
    "\n",
    "Регион Северной Америки и Европы похожи. В них преобладают платформы PS4 и XOne, однако в Европе продажи XBox меньше и присутствует весомая доля PC пользователей. В обоих основная доля игр - шутеры. \n",
    "Япония Сильно отличается. В ней преобладают отечественные консоли. Наибольшее количество продаж у 3DS, далее по нисходящей консоли от Sony. Жанры в этом регионе предпочитают: Ролевые, Пазлы, Файтинги.\n",
    "Можно сказать, что это связано с культурной особенностью. Европа и Северная-Америка близкие по этому фактору.\n",
    "Из этого может следовать, что рекламную компанию нужно делать основываясь на регионе.\n",
    "\n",
    "В Европе и Северной - Америке предпочитают игры с рейтингом М, где присутствует насилие. Это связано с большой популярностью жанра Шутер и Экшен. Нельзя однозначно сказать, что возрастной рейтинг влияет на продажи, скорее определенные жанры и их популярность влияют на рынок. При этом, американская система оценки возрастной категории не катируется в Японии, поэтому по этому региону мы не можем точно составить оценку.\n",
    "\n",
    "Средние пользовательские рейтинги платформ и жанров могут отличаться, но нельзя говорить о том, что присутствует закономерность, влияющая на продажи."
   ]
  },
  {
   "cell_type": "code",
   "execution_count": null,
   "metadata": {},
   "outputs": [],
   "source": []
  }
 ],
 "metadata": {
  "ExecuteTimeLog": [
   {
    "duration": 774,
    "start_time": "2023-02-28T09:42:10.552Z"
   },
   {
    "duration": 129,
    "start_time": "2023-02-28T09:42:44.433Z"
   },
   {
    "duration": 29,
    "start_time": "2023-02-28T09:42:55.626Z"
   },
   {
    "duration": 1482,
    "start_time": "2023-02-28T09:44:32.083Z"
   },
   {
    "duration": 101,
    "start_time": "2023-02-28T09:53:20.716Z"
   },
   {
    "duration": 110,
    "start_time": "2023-02-28T09:53:30.254Z"
   },
   {
    "duration": 111,
    "start_time": "2023-02-28T09:53:42.565Z"
   },
   {
    "duration": 26,
    "start_time": "2023-02-28T09:54:14.764Z"
   },
   {
    "duration": 10,
    "start_time": "2023-02-28T09:58:27.431Z"
   },
   {
    "duration": 7,
    "start_time": "2023-02-28T10:08:35.871Z"
   },
   {
    "duration": 8,
    "start_time": "2023-02-28T10:08:51.073Z"
   },
   {
    "duration": 8,
    "start_time": "2023-02-28T10:09:30.546Z"
   },
   {
    "duration": 6,
    "start_time": "2023-02-28T10:10:04.657Z"
   },
   {
    "duration": 7,
    "start_time": "2023-02-28T10:10:35.256Z"
   },
   {
    "duration": 8,
    "start_time": "2023-02-28T10:10:46.067Z"
   },
   {
    "duration": 7,
    "start_time": "2023-02-28T10:13:21.184Z"
   },
   {
    "duration": 33,
    "start_time": "2023-02-28T10:13:39.619Z"
   },
   {
    "duration": 25,
    "start_time": "2023-02-28T10:14:59.601Z"
   },
   {
    "duration": 18,
    "start_time": "2023-02-28T10:15:41.605Z"
   },
   {
    "duration": 6,
    "start_time": "2023-02-28T10:16:32.430Z"
   },
   {
    "duration": 4,
    "start_time": "2023-02-28T10:16:39.486Z"
   },
   {
    "duration": 7,
    "start_time": "2023-02-28T10:17:43.526Z"
   },
   {
    "duration": 5,
    "start_time": "2023-02-28T10:17:47.667Z"
   },
   {
    "duration": 7,
    "start_time": "2023-02-28T10:18:05.676Z"
   },
   {
    "duration": 141,
    "start_time": "2023-02-28T10:20:48.210Z"
   },
   {
    "duration": 16,
    "start_time": "2023-02-28T10:21:34.785Z"
   },
   {
    "duration": 6,
    "start_time": "2023-02-28T10:21:57.753Z"
   },
   {
    "duration": 3,
    "start_time": "2023-02-28T10:21:58.319Z"
   },
   {
    "duration": 2,
    "start_time": "2023-02-28T10:21:58.768Z"
   },
   {
    "duration": 22,
    "start_time": "2023-02-28T10:23:08.657Z"
   },
   {
    "duration": 8,
    "start_time": "2023-02-28T10:24:02.658Z"
   },
   {
    "duration": 57,
    "start_time": "2023-02-28T10:24:10.007Z"
   },
   {
    "duration": 8,
    "start_time": "2023-02-28T10:25:30.147Z"
   },
   {
    "duration": 5,
    "start_time": "2023-02-28T10:25:34.173Z"
   },
   {
    "duration": 17,
    "start_time": "2023-02-28T10:29:16.709Z"
   },
   {
    "duration": 15,
    "start_time": "2023-02-28T10:29:33.860Z"
   },
   {
    "duration": 7,
    "start_time": "2023-02-28T10:33:05.430Z"
   },
   {
    "duration": 520,
    "start_time": "2023-02-28T10:34:37.088Z"
   },
   {
    "duration": 16,
    "start_time": "2023-02-28T10:35:05.110Z"
   },
   {
    "duration": 18,
    "start_time": "2023-02-28T10:36:04.999Z"
   },
   {
    "duration": 20,
    "start_time": "2023-02-28T10:36:06.009Z"
   },
   {
    "duration": 702,
    "start_time": "2023-02-28T10:37:19.918Z"
   },
   {
    "duration": 26,
    "start_time": "2023-02-28T10:37:20.624Z"
   },
   {
    "duration": 452,
    "start_time": "2023-02-28T10:37:20.652Z"
   },
   {
    "duration": 8,
    "start_time": "2023-02-28T10:37:21.106Z"
   },
   {
    "duration": 21,
    "start_time": "2023-02-28T10:37:21.117Z"
   },
   {
    "duration": 34,
    "start_time": "2023-02-28T10:37:21.140Z"
   },
   {
    "duration": 146,
    "start_time": "2023-02-28T10:37:21.176Z"
   },
   {
    "duration": 0,
    "start_time": "2023-02-28T10:37:21.325Z"
   },
   {
    "duration": 8,
    "start_time": "2023-02-28T10:39:57.912Z"
   },
   {
    "duration": 4,
    "start_time": "2023-02-28T10:40:08.861Z"
   },
   {
    "duration": 25,
    "start_time": "2023-02-28T10:46:42.025Z"
   },
   {
    "duration": 22,
    "start_time": "2023-02-28T10:46:54.725Z"
   },
   {
    "duration": 10,
    "start_time": "2023-02-28T10:48:44.309Z"
   },
   {
    "duration": 6,
    "start_time": "2023-02-28T10:48:47.250Z"
   },
   {
    "duration": 23,
    "start_time": "2023-02-28T10:49:27.714Z"
   },
   {
    "duration": 9,
    "start_time": "2023-02-28T10:49:29.882Z"
   },
   {
    "duration": 12,
    "start_time": "2023-02-28T10:49:30.988Z"
   },
   {
    "duration": 17,
    "start_time": "2023-02-28T10:49:31.348Z"
   },
   {
    "duration": 15,
    "start_time": "2023-02-28T10:50:11.562Z"
   },
   {
    "duration": 7,
    "start_time": "2023-02-28T10:50:12.061Z"
   },
   {
    "duration": 5,
    "start_time": "2023-02-28T10:50:12.419Z"
   },
   {
    "duration": 15,
    "start_time": "2023-02-28T10:50:12.885Z"
   },
   {
    "duration": 490,
    "start_time": "2023-02-28T10:50:20.513Z"
   },
   {
    "duration": 16,
    "start_time": "2023-02-28T10:50:21.005Z"
   },
   {
    "duration": 335,
    "start_time": "2023-02-28T10:50:21.023Z"
   },
   {
    "duration": 3,
    "start_time": "2023-02-28T10:50:21.360Z"
   },
   {
    "duration": 9,
    "start_time": "2023-02-28T10:50:21.365Z"
   },
   {
    "duration": 37,
    "start_time": "2023-02-28T10:50:21.376Z"
   },
   {
    "duration": 6,
    "start_time": "2023-02-28T10:50:21.414Z"
   },
   {
    "duration": 7,
    "start_time": "2023-02-28T10:50:21.422Z"
   },
   {
    "duration": 15,
    "start_time": "2023-02-28T10:50:21.431Z"
   },
   {
    "duration": 6,
    "start_time": "2023-02-28T10:51:22.745Z"
   },
   {
    "duration": 9,
    "start_time": "2023-02-28T10:52:02.101Z"
   },
   {
    "duration": 496,
    "start_time": "2023-02-28T10:52:36.226Z"
   },
   {
    "duration": 15,
    "start_time": "2023-02-28T10:52:36.724Z"
   },
   {
    "duration": 429,
    "start_time": "2023-02-28T10:52:36.741Z"
   },
   {
    "duration": 4,
    "start_time": "2023-02-28T10:52:37.172Z"
   },
   {
    "duration": 34,
    "start_time": "2023-02-28T10:52:37.179Z"
   },
   {
    "duration": 29,
    "start_time": "2023-02-28T10:52:37.216Z"
   },
   {
    "duration": 19,
    "start_time": "2023-02-28T10:52:37.250Z"
   },
   {
    "duration": 26,
    "start_time": "2023-02-28T10:52:37.274Z"
   },
   {
    "duration": 38,
    "start_time": "2023-02-28T10:52:37.301Z"
   },
   {
    "duration": 10,
    "start_time": "2023-02-28T10:52:37.341Z"
   },
   {
    "duration": 21,
    "start_time": "2023-02-28T10:52:37.353Z"
   },
   {
    "duration": 10,
    "start_time": "2023-02-28T10:54:03.800Z"
   },
   {
    "duration": 6,
    "start_time": "2023-02-28T10:54:06.168Z"
   },
   {
    "duration": 6,
    "start_time": "2023-02-28T10:54:18.068Z"
   },
   {
    "duration": 21,
    "start_time": "2023-02-28T10:56:38.446Z"
   },
   {
    "duration": 1333,
    "start_time": "2023-02-28T10:58:21.797Z"
   },
   {
    "duration": 9,
    "start_time": "2023-02-28T10:59:09.278Z"
   },
   {
    "duration": 3157,
    "start_time": "2023-02-28T11:01:29.137Z"
   },
   {
    "duration": 11,
    "start_time": "2023-02-28T11:02:38.053Z"
   },
   {
    "duration": 8,
    "start_time": "2023-02-28T11:03:04.424Z"
   },
   {
    "duration": 10,
    "start_time": "2023-02-28T11:03:13.467Z"
   },
   {
    "duration": 28,
    "start_time": "2023-02-28T11:03:16.774Z"
   },
   {
    "duration": 9,
    "start_time": "2023-02-28T11:04:23.225Z"
   },
   {
    "duration": 23,
    "start_time": "2023-02-28T11:04:23.933Z"
   },
   {
    "duration": 3,
    "start_time": "2023-02-28T11:04:39.037Z"
   },
   {
    "duration": 5,
    "start_time": "2023-02-28T11:05:34.468Z"
   },
   {
    "duration": 488,
    "start_time": "2023-02-28T11:06:07.533Z"
   },
   {
    "duration": 25,
    "start_time": "2023-02-28T11:06:08.024Z"
   },
   {
    "duration": 374,
    "start_time": "2023-02-28T11:06:08.052Z"
   },
   {
    "duration": 5,
    "start_time": "2023-02-28T11:06:08.428Z"
   },
   {
    "duration": 23,
    "start_time": "2023-02-28T11:06:08.436Z"
   },
   {
    "duration": 30,
    "start_time": "2023-02-28T11:06:08.461Z"
   },
   {
    "duration": 18,
    "start_time": "2023-02-28T11:06:08.493Z"
   },
   {
    "duration": 23,
    "start_time": "2023-02-28T11:06:08.513Z"
   },
   {
    "duration": 26,
    "start_time": "2023-02-28T11:06:08.538Z"
   },
   {
    "duration": 6,
    "start_time": "2023-02-28T11:06:08.565Z"
   },
   {
    "duration": 17,
    "start_time": "2023-02-28T11:06:08.573Z"
   },
   {
    "duration": 9,
    "start_time": "2023-02-28T11:06:08.592Z"
   },
   {
    "duration": 37,
    "start_time": "2023-02-28T11:06:08.604Z"
   },
   {
    "duration": 1562,
    "start_time": "2023-02-28T11:06:56.396Z"
   },
   {
    "duration": 0,
    "start_time": "2023-02-28T11:06:57.961Z"
   },
   {
    "duration": 13,
    "start_time": "2023-02-28T11:07:07.101Z"
   },
   {
    "duration": 25,
    "start_time": "2023-02-28T11:07:08.127Z"
   },
   {
    "duration": 515,
    "start_time": "2023-02-28T11:07:14.270Z"
   },
   {
    "duration": 16,
    "start_time": "2023-02-28T11:07:14.787Z"
   },
   {
    "duration": 326,
    "start_time": "2023-02-28T11:07:14.805Z"
   },
   {
    "duration": 4,
    "start_time": "2023-02-28T11:07:15.133Z"
   },
   {
    "duration": 15,
    "start_time": "2023-02-28T11:07:15.141Z"
   },
   {
    "duration": 22,
    "start_time": "2023-02-28T11:07:15.158Z"
   },
   {
    "duration": 19,
    "start_time": "2023-02-28T11:07:15.182Z"
   },
   {
    "duration": 22,
    "start_time": "2023-02-28T11:07:15.203Z"
   },
   {
    "duration": 16,
    "start_time": "2023-02-28T11:07:15.228Z"
   },
   {
    "duration": 10,
    "start_time": "2023-02-28T11:07:15.246Z"
   },
   {
    "duration": 3,
    "start_time": "2023-02-28T11:07:15.258Z"
   },
   {
    "duration": 20,
    "start_time": "2023-02-28T11:07:15.263Z"
   },
   {
    "duration": 26,
    "start_time": "2023-02-28T11:07:15.285Z"
   },
   {
    "duration": 6,
    "start_time": "2023-02-28T11:08:46.318Z"
   },
   {
    "duration": 521,
    "start_time": "2023-02-28T11:08:59.357Z"
   },
   {
    "duration": 15,
    "start_time": "2023-02-28T11:08:59.881Z"
   },
   {
    "duration": 338,
    "start_time": "2023-02-28T11:08:59.898Z"
   },
   {
    "duration": 3,
    "start_time": "2023-02-28T11:09:00.238Z"
   },
   {
    "duration": 35,
    "start_time": "2023-02-28T11:09:00.244Z"
   },
   {
    "duration": 57,
    "start_time": "2023-02-28T11:09:00.282Z"
   },
   {
    "duration": 25,
    "start_time": "2023-02-28T11:09:00.342Z"
   },
   {
    "duration": 29,
    "start_time": "2023-02-28T11:09:00.370Z"
   },
   {
    "duration": 49,
    "start_time": "2023-02-28T11:09:00.402Z"
   },
   {
    "duration": 18,
    "start_time": "2023-02-28T11:09:00.453Z"
   },
   {
    "duration": 15,
    "start_time": "2023-02-28T11:09:00.473Z"
   },
   {
    "duration": 47,
    "start_time": "2023-02-28T11:09:00.490Z"
   },
   {
    "duration": 54,
    "start_time": "2023-02-28T11:09:00.539Z"
   },
   {
    "duration": 76,
    "start_time": "2023-02-28T11:22:59.003Z"
   },
   {
    "duration": 11,
    "start_time": "2023-02-28T11:23:04.377Z"
   },
   {
    "duration": 8,
    "start_time": "2023-02-28T11:23:24.526Z"
   },
   {
    "duration": 9,
    "start_time": "2023-02-28T11:23:40.483Z"
   },
   {
    "duration": 13,
    "start_time": "2023-02-28T11:23:59.984Z"
   },
   {
    "duration": 2,
    "start_time": "2023-02-28T11:24:05.638Z"
   },
   {
    "duration": 664,
    "start_time": "2023-02-28T11:24:10.633Z"
   },
   {
    "duration": 21,
    "start_time": "2023-02-28T11:24:11.299Z"
   },
   {
    "duration": 373,
    "start_time": "2023-02-28T11:24:11.322Z"
   },
   {
    "duration": 4,
    "start_time": "2023-02-28T11:24:11.698Z"
   },
   {
    "duration": 18,
    "start_time": "2023-02-28T11:24:11.704Z"
   },
   {
    "duration": 25,
    "start_time": "2023-02-28T11:24:11.724Z"
   },
   {
    "duration": 7,
    "start_time": "2023-02-28T11:24:11.752Z"
   },
   {
    "duration": 9,
    "start_time": "2023-02-28T11:24:11.760Z"
   },
   {
    "duration": 22,
    "start_time": "2023-02-28T11:24:11.771Z"
   },
   {
    "duration": 9,
    "start_time": "2023-02-28T11:24:11.795Z"
   },
   {
    "duration": 5,
    "start_time": "2023-02-28T11:24:11.807Z"
   },
   {
    "duration": 9,
    "start_time": "2023-02-28T11:24:11.813Z"
   },
   {
    "duration": 16,
    "start_time": "2023-02-28T11:24:11.823Z"
   },
   {
    "duration": 4,
    "start_time": "2023-02-28T11:24:23.219Z"
   },
   {
    "duration": 9,
    "start_time": "2023-02-28T11:25:18.451Z"
   },
   {
    "duration": 11,
    "start_time": "2023-02-28T11:25:39.984Z"
   },
   {
    "duration": 90,
    "start_time": "2023-02-28T11:25:52.428Z"
   },
   {
    "duration": 105,
    "start_time": "2023-02-28T11:28:04.828Z"
   },
   {
    "duration": 149,
    "start_time": "2023-02-28T11:28:19.584Z"
   },
   {
    "duration": 87,
    "start_time": "2023-02-28T11:28:30.603Z"
   },
   {
    "duration": 71,
    "start_time": "2023-02-28T11:28:39.194Z"
   },
   {
    "duration": 4,
    "start_time": "2023-02-28T11:28:44.552Z"
   },
   {
    "duration": 5,
    "start_time": "2023-02-28T11:28:46.095Z"
   },
   {
    "duration": 5,
    "start_time": "2023-02-28T11:29:19.455Z"
   },
   {
    "duration": 4,
    "start_time": "2023-02-28T11:29:23.253Z"
   },
   {
    "duration": 5,
    "start_time": "2023-02-28T11:29:32.485Z"
   },
   {
    "duration": 213,
    "start_time": "2023-02-28T11:29:36.055Z"
   },
   {
    "duration": 73,
    "start_time": "2023-02-28T11:29:39.395Z"
   },
   {
    "duration": 71,
    "start_time": "2023-02-28T11:29:55.674Z"
   },
   {
    "duration": 5,
    "start_time": "2023-02-28T11:34:34.456Z"
   },
   {
    "duration": 23,
    "start_time": "2023-02-28T11:34:47.971Z"
   },
   {
    "duration": 22,
    "start_time": "2023-02-28T11:35:05.255Z"
   },
   {
    "duration": 24,
    "start_time": "2023-02-28T11:35:19.685Z"
   },
   {
    "duration": 1201,
    "start_time": "2023-02-28T11:35:37.616Z"
   },
   {
    "duration": 24,
    "start_time": "2023-02-28T11:35:43.046Z"
   },
   {
    "duration": 29,
    "start_time": "2023-02-28T11:35:53.215Z"
   },
   {
    "duration": 33,
    "start_time": "2023-02-28T11:36:47.485Z"
   },
   {
    "duration": 24,
    "start_time": "2023-02-28T11:38:14.624Z"
   },
   {
    "duration": 94,
    "start_time": "2023-02-28T11:38:56.854Z"
   },
   {
    "duration": 12,
    "start_time": "2023-02-28T11:39:09.914Z"
   },
   {
    "duration": 125,
    "start_time": "2023-02-28T11:39:27.848Z"
   },
   {
    "duration": 23,
    "start_time": "2023-02-28T11:39:35.964Z"
   },
   {
    "duration": 33,
    "start_time": "2023-02-28T11:39:52.277Z"
   },
   {
    "duration": 30,
    "start_time": "2023-02-28T11:40:48.353Z"
   },
   {
    "duration": 33,
    "start_time": "2023-02-28T11:42:32.229Z"
   },
   {
    "duration": 37,
    "start_time": "2023-02-28T11:46:05.784Z"
   },
   {
    "duration": 11,
    "start_time": "2023-02-28T11:46:27.475Z"
   },
   {
    "duration": 1335,
    "start_time": "2023-02-28T11:47:13.721Z"
   },
   {
    "duration": 12,
    "start_time": "2023-02-28T11:47:20.636Z"
   },
   {
    "duration": 12,
    "start_time": "2023-02-28T11:47:38.125Z"
   },
   {
    "duration": 21,
    "start_time": "2023-02-28T11:48:06.963Z"
   },
   {
    "duration": 27,
    "start_time": "2023-02-28T11:48:53.494Z"
   },
   {
    "duration": 43,
    "start_time": "2023-02-28T11:50:23.003Z"
   },
   {
    "duration": 13,
    "start_time": "2023-02-28T12:23:11.844Z"
   },
   {
    "duration": 7,
    "start_time": "2023-02-28T12:24:23.550Z"
   },
   {
    "duration": 4,
    "start_time": "2023-02-28T12:24:33.055Z"
   },
   {
    "duration": 20,
    "start_time": "2023-02-28T12:24:45.284Z"
   },
   {
    "duration": 6,
    "start_time": "2023-02-28T12:26:56.774Z"
   },
   {
    "duration": 14,
    "start_time": "2023-02-28T12:26:58.541Z"
   },
   {
    "duration": 7,
    "start_time": "2023-02-28T12:28:59.633Z"
   },
   {
    "duration": 15,
    "start_time": "2023-02-28T12:29:01.254Z"
   },
   {
    "duration": 25,
    "start_time": "2023-02-28T14:52:09.973Z"
   },
   {
    "duration": 5,
    "start_time": "2023-02-28T14:53:28.749Z"
   },
   {
    "duration": 15,
    "start_time": "2023-02-28T14:53:46.291Z"
   },
   {
    "duration": 16,
    "start_time": "2023-02-28T14:53:53.589Z"
   },
   {
    "duration": 10,
    "start_time": "2023-02-28T14:55:15.503Z"
   },
   {
    "duration": 5,
    "start_time": "2023-02-28T14:55:25.840Z"
   },
   {
    "duration": 439,
    "start_time": "2023-02-28T14:55:41.831Z"
   },
   {
    "duration": 13,
    "start_time": "2023-02-28T14:55:42.272Z"
   },
   {
    "duration": 317,
    "start_time": "2023-02-28T14:55:42.287Z"
   },
   {
    "duration": 3,
    "start_time": "2023-02-28T14:55:42.606Z"
   },
   {
    "duration": 10,
    "start_time": "2023-02-28T14:55:42.611Z"
   },
   {
    "duration": 15,
    "start_time": "2023-02-28T14:55:42.623Z"
   },
   {
    "duration": 5,
    "start_time": "2023-02-28T14:55:42.640Z"
   },
   {
    "duration": 10,
    "start_time": "2023-02-28T14:55:42.646Z"
   },
   {
    "duration": 7,
    "start_time": "2023-02-28T14:55:42.657Z"
   },
   {
    "duration": 38,
    "start_time": "2023-02-28T14:55:42.666Z"
   },
   {
    "duration": 10,
    "start_time": "2023-02-28T14:55:42.706Z"
   },
   {
    "duration": 7,
    "start_time": "2023-02-28T14:55:42.717Z"
   },
   {
    "duration": 12,
    "start_time": "2023-02-28T14:55:42.726Z"
   },
   {
    "duration": 3,
    "start_time": "2023-02-28T14:55:42.740Z"
   },
   {
    "duration": 4,
    "start_time": "2023-02-28T14:56:06.510Z"
   },
   {
    "duration": 140,
    "start_time": "2023-02-28T14:56:58.610Z"
   },
   {
    "duration": 78,
    "start_time": "2023-02-28T15:03:42.761Z"
   },
   {
    "duration": 1513,
    "start_time": "2023-02-28T15:05:11.551Z"
   },
   {
    "duration": 1348,
    "start_time": "2023-02-28T15:05:49.841Z"
   },
   {
    "duration": 1389,
    "start_time": "2023-02-28T15:06:52.449Z"
   },
   {
    "duration": 428,
    "start_time": "2023-02-28T15:06:58.043Z"
   },
   {
    "duration": 13,
    "start_time": "2023-02-28T15:06:58.473Z"
   },
   {
    "duration": 337,
    "start_time": "2023-02-28T15:06:58.488Z"
   },
   {
    "duration": 3,
    "start_time": "2023-02-28T15:06:58.827Z"
   },
   {
    "duration": 33,
    "start_time": "2023-02-28T15:06:58.831Z"
   },
   {
    "duration": 51,
    "start_time": "2023-02-28T15:06:58.866Z"
   },
   {
    "duration": 16,
    "start_time": "2023-02-28T15:06:58.919Z"
   },
   {
    "duration": 12,
    "start_time": "2023-02-28T15:06:58.937Z"
   },
   {
    "duration": 11,
    "start_time": "2023-02-28T15:06:58.951Z"
   },
   {
    "duration": 8,
    "start_time": "2023-02-28T15:06:58.964Z"
   },
   {
    "duration": 7,
    "start_time": "2023-02-28T15:06:58.974Z"
   },
   {
    "duration": 31,
    "start_time": "2023-02-28T15:06:58.983Z"
   },
   {
    "duration": 39,
    "start_time": "2023-02-28T15:06:59.016Z"
   },
   {
    "duration": 156,
    "start_time": "2023-02-28T15:06:59.058Z"
   },
   {
    "duration": 1634,
    "start_time": "2023-02-28T15:06:59.216Z"
   },
   {
    "duration": 1329,
    "start_time": "2023-02-28T15:08:02.841Z"
   },
   {
    "duration": 10,
    "start_time": "2023-02-28T15:08:46.651Z"
   },
   {
    "duration": 128,
    "start_time": "2023-02-28T15:09:15.841Z"
   },
   {
    "duration": 10,
    "start_time": "2023-02-28T15:09:59.625Z"
   },
   {
    "duration": 9,
    "start_time": "2023-02-28T15:10:21.435Z"
   },
   {
    "duration": 9,
    "start_time": "2023-02-28T15:10:21.691Z"
   },
   {
    "duration": 9,
    "start_time": "2023-02-28T15:10:35.771Z"
   },
   {
    "duration": 138,
    "start_time": "2023-02-28T15:10:57.463Z"
   },
   {
    "duration": 527,
    "start_time": "2023-02-28T15:11:13.885Z"
   },
   {
    "duration": 19,
    "start_time": "2023-02-28T15:11:14.414Z"
   },
   {
    "duration": 316,
    "start_time": "2023-02-28T15:11:14.434Z"
   },
   {
    "duration": 3,
    "start_time": "2023-02-28T15:11:14.752Z"
   },
   {
    "duration": 16,
    "start_time": "2023-02-28T15:11:14.757Z"
   },
   {
    "duration": 28,
    "start_time": "2023-02-28T15:11:14.774Z"
   },
   {
    "duration": 5,
    "start_time": "2023-02-28T15:11:14.804Z"
   },
   {
    "duration": 25,
    "start_time": "2023-02-28T15:11:14.811Z"
   },
   {
    "duration": 11,
    "start_time": "2023-02-28T15:11:14.838Z"
   },
   {
    "duration": 9,
    "start_time": "2023-02-28T15:11:14.851Z"
   },
   {
    "duration": 7,
    "start_time": "2023-02-28T15:11:14.862Z"
   },
   {
    "duration": 21,
    "start_time": "2023-02-28T15:11:14.871Z"
   },
   {
    "duration": 25,
    "start_time": "2023-02-28T15:11:14.894Z"
   },
   {
    "duration": 172,
    "start_time": "2023-02-28T15:11:14.922Z"
   },
   {
    "duration": 11,
    "start_time": "2023-02-28T15:11:15.096Z"
   },
   {
    "duration": 9,
    "start_time": "2023-02-28T15:11:15.108Z"
   },
   {
    "duration": 126,
    "start_time": "2023-02-28T15:12:54.537Z"
   },
   {
    "duration": 134,
    "start_time": "2023-02-28T15:14:00.913Z"
   },
   {
    "duration": 197,
    "start_time": "2023-02-28T15:14:07.382Z"
   },
   {
    "duration": 245,
    "start_time": "2023-02-28T15:14:11.952Z"
   },
   {
    "duration": 144,
    "start_time": "2023-02-28T15:14:21.716Z"
   },
   {
    "duration": 161,
    "start_time": "2023-02-28T15:14:33.109Z"
   },
   {
    "duration": 156,
    "start_time": "2023-02-28T15:14:45.750Z"
   },
   {
    "duration": 113,
    "start_time": "2023-02-28T15:15:22.542Z"
   },
   {
    "duration": 172,
    "start_time": "2023-02-28T15:15:38.068Z"
   },
   {
    "duration": 239,
    "start_time": "2023-02-28T15:16:05.965Z"
   },
   {
    "duration": 171,
    "start_time": "2023-02-28T15:16:19.032Z"
   },
   {
    "duration": 158,
    "start_time": "2023-02-28T15:20:19.813Z"
   },
   {
    "duration": 171,
    "start_time": "2023-02-28T15:20:36.341Z"
   },
   {
    "duration": 240,
    "start_time": "2023-02-28T15:20:50.373Z"
   },
   {
    "duration": 168,
    "start_time": "2023-02-28T15:21:07.975Z"
   },
   {
    "duration": 177,
    "start_time": "2023-02-28T15:21:19.472Z"
   },
   {
    "duration": 159,
    "start_time": "2023-02-28T15:21:28.402Z"
   },
   {
    "duration": 159,
    "start_time": "2023-02-28T15:21:40.872Z"
   },
   {
    "duration": 108,
    "start_time": "2023-02-28T15:23:25.967Z"
   },
   {
    "duration": 272,
    "start_time": "2023-02-28T15:27:24.738Z"
   },
   {
    "duration": 9,
    "start_time": "2023-02-28T15:30:05.682Z"
   },
   {
    "duration": 8,
    "start_time": "2023-02-28T15:30:20.365Z"
   },
   {
    "duration": 20,
    "start_time": "2023-02-28T15:31:13.223Z"
   },
   {
    "duration": 7,
    "start_time": "2023-02-28T15:32:47.073Z"
   },
   {
    "duration": 27,
    "start_time": "2023-02-28T15:33:23.734Z"
   },
   {
    "duration": 25,
    "start_time": "2023-02-28T15:33:38.901Z"
   },
   {
    "duration": 10,
    "start_time": "2023-02-28T15:34:15.284Z"
   },
   {
    "duration": 5,
    "start_time": "2023-02-28T15:35:08.553Z"
   },
   {
    "duration": 3,
    "start_time": "2023-02-28T15:35:26.615Z"
   },
   {
    "duration": 4,
    "start_time": "2023-02-28T15:35:34.353Z"
   },
   {
    "duration": 3,
    "start_time": "2023-02-28T15:36:38.793Z"
   },
   {
    "duration": 4,
    "start_time": "2023-02-28T15:36:41.995Z"
   },
   {
    "duration": 4,
    "start_time": "2023-02-28T15:38:43.585Z"
   },
   {
    "duration": 5,
    "start_time": "2023-02-28T15:40:15.393Z"
   },
   {
    "duration": 14,
    "start_time": "2023-02-28T15:40:50.327Z"
   },
   {
    "duration": 30,
    "start_time": "2023-02-28T15:41:12.123Z"
   },
   {
    "duration": 15,
    "start_time": "2023-02-28T15:41:55.505Z"
   },
   {
    "duration": 16,
    "start_time": "2023-02-28T15:42:27.052Z"
   },
   {
    "duration": 19,
    "start_time": "2023-02-28T15:43:33.418Z"
   },
   {
    "duration": 17,
    "start_time": "2023-02-28T15:44:00.874Z"
   },
   {
    "duration": 16,
    "start_time": "2023-02-28T15:45:21.933Z"
   },
   {
    "duration": 18,
    "start_time": "2023-02-28T15:47:17.825Z"
   },
   {
    "duration": 22,
    "start_time": "2023-02-28T15:52:21.654Z"
   },
   {
    "duration": 24,
    "start_time": "2023-02-28T15:52:31.734Z"
   },
   {
    "duration": 15,
    "start_time": "2023-02-28T15:52:43.926Z"
   },
   {
    "duration": 1330,
    "start_time": "2023-02-28T15:54:02.784Z"
   },
   {
    "duration": 1135,
    "start_time": "2023-02-28T15:54:13.774Z"
   },
   {
    "duration": 1285,
    "start_time": "2023-02-28T15:54:15.265Z"
   },
   {
    "duration": 11,
    "start_time": "2023-02-28T15:58:07.894Z"
   },
   {
    "duration": 12,
    "start_time": "2023-02-28T15:58:21.694Z"
   },
   {
    "duration": 18,
    "start_time": "2023-02-28T15:59:21.204Z"
   },
   {
    "duration": 22,
    "start_time": "2023-02-28T16:00:03.065Z"
   },
   {
    "duration": 12,
    "start_time": "2023-02-28T16:07:31.575Z"
   },
   {
    "duration": 16,
    "start_time": "2023-02-28T16:08:08.055Z"
   },
   {
    "duration": 18,
    "start_time": "2023-02-28T16:10:05.735Z"
   },
   {
    "duration": 17,
    "start_time": "2023-02-28T16:10:23.625Z"
   },
   {
    "duration": 14,
    "start_time": "2023-02-28T16:11:05.455Z"
   },
   {
    "duration": 75,
    "start_time": "2023-02-28T16:11:50.615Z"
   },
   {
    "duration": 84,
    "start_time": "2023-02-28T16:12:34.045Z"
   },
   {
    "duration": 192,
    "start_time": "2023-02-28T16:13:19.986Z"
   },
   {
    "duration": 73,
    "start_time": "2023-02-28T16:13:34.254Z"
   },
   {
    "duration": 1525,
    "start_time": "2023-02-28T16:16:55.635Z"
   },
   {
    "duration": 1955,
    "start_time": "2023-02-28T16:17:20.614Z"
   },
   {
    "duration": 59,
    "start_time": "2023-02-28T16:18:24.637Z"
   },
   {
    "duration": 71,
    "start_time": "2023-02-28T16:28:57.310Z"
   },
   {
    "duration": 90,
    "start_time": "2023-02-28T16:42:36.559Z"
   },
   {
    "duration": 9,
    "start_time": "2023-02-28T16:42:48.355Z"
   },
   {
    "duration": 1304,
    "start_time": "2023-02-28T16:43:05.317Z"
   },
   {
    "duration": 976,
    "start_time": "2023-02-28T16:43:19.908Z"
   },
   {
    "duration": 11,
    "start_time": "2023-02-28T16:43:40.917Z"
   },
   {
    "duration": 11,
    "start_time": "2023-02-28T16:43:51.519Z"
   },
   {
    "duration": 5,
    "start_time": "2023-02-28T16:44:05.018Z"
   },
   {
    "duration": 11,
    "start_time": "2023-02-28T16:44:08.354Z"
   },
   {
    "duration": 9,
    "start_time": "2023-02-28T16:44:15.921Z"
   },
   {
    "duration": 10,
    "start_time": "2023-02-28T16:44:22.110Z"
   },
   {
    "duration": 9,
    "start_time": "2023-02-28T16:47:34.548Z"
   },
   {
    "duration": 488,
    "start_time": "2023-02-28T16:47:53.378Z"
   },
   {
    "duration": 14,
    "start_time": "2023-02-28T16:47:53.868Z"
   },
   {
    "duration": 310,
    "start_time": "2023-02-28T16:47:53.883Z"
   },
   {
    "duration": 4,
    "start_time": "2023-02-28T16:47:54.195Z"
   },
   {
    "duration": 12,
    "start_time": "2023-02-28T16:47:54.201Z"
   },
   {
    "duration": 16,
    "start_time": "2023-02-28T16:47:54.214Z"
   },
   {
    "duration": 6,
    "start_time": "2023-02-28T16:47:54.232Z"
   },
   {
    "duration": 12,
    "start_time": "2023-02-28T16:47:54.240Z"
   },
   {
    "duration": 6,
    "start_time": "2023-02-28T16:47:54.254Z"
   },
   {
    "duration": 99,
    "start_time": "2023-02-28T16:47:54.262Z"
   },
   {
    "duration": 0,
    "start_time": "2023-02-28T16:47:54.363Z"
   },
   {
    "duration": 0,
    "start_time": "2023-02-28T16:47:54.365Z"
   },
   {
    "duration": 0,
    "start_time": "2023-02-28T16:47:54.365Z"
   },
   {
    "duration": 0,
    "start_time": "2023-02-28T16:47:54.366Z"
   },
   {
    "duration": 0,
    "start_time": "2023-02-28T16:47:54.367Z"
   },
   {
    "duration": 7,
    "start_time": "2023-02-28T16:48:26.704Z"
   },
   {
    "duration": 20,
    "start_time": "2023-02-28T16:48:43.499Z"
   },
   {
    "duration": 9,
    "start_time": "2023-02-28T16:55:51.328Z"
   },
   {
    "duration": 16,
    "start_time": "2023-02-28T16:55:53.538Z"
   },
   {
    "duration": 5,
    "start_time": "2023-02-28T16:56:06.848Z"
   },
   {
    "duration": 7,
    "start_time": "2023-02-28T16:56:08.078Z"
   },
   {
    "duration": 16,
    "start_time": "2023-02-28T16:56:08.438Z"
   },
   {
    "duration": 595,
    "start_time": "2023-02-28T16:57:35.734Z"
   },
   {
    "duration": 16,
    "start_time": "2023-02-28T16:57:36.333Z"
   },
   {
    "duration": 383,
    "start_time": "2023-02-28T16:57:36.351Z"
   },
   {
    "duration": 3,
    "start_time": "2023-02-28T16:57:36.735Z"
   },
   {
    "duration": 7,
    "start_time": "2023-02-28T16:57:36.741Z"
   },
   {
    "duration": 16,
    "start_time": "2023-02-28T16:57:36.750Z"
   },
   {
    "duration": 5,
    "start_time": "2023-02-28T16:57:36.768Z"
   },
   {
    "duration": 62,
    "start_time": "2023-02-28T16:57:36.775Z"
   },
   {
    "duration": 6,
    "start_time": "2023-02-28T16:57:36.838Z"
   },
   {
    "duration": 7,
    "start_time": "2023-02-28T16:57:36.845Z"
   },
   {
    "duration": 4,
    "start_time": "2023-02-28T16:57:36.854Z"
   },
   {
    "duration": 10,
    "start_time": "2023-02-28T16:57:36.859Z"
   },
   {
    "duration": 16,
    "start_time": "2023-02-28T16:57:36.870Z"
   },
   {
    "duration": 2,
    "start_time": "2023-02-28T16:57:36.888Z"
   },
   {
    "duration": 256,
    "start_time": "2023-02-28T16:57:36.892Z"
   },
   {
    "duration": 46,
    "start_time": "2023-03-03T12:47:03.026Z"
   },
   {
    "duration": 927,
    "start_time": "2023-03-03T12:47:12.344Z"
   },
   {
    "duration": 18,
    "start_time": "2023-03-03T12:47:13.273Z"
   },
   {
    "duration": 564,
    "start_time": "2023-03-03T12:47:13.292Z"
   },
   {
    "duration": 4,
    "start_time": "2023-03-03T12:47:13.858Z"
   },
   {
    "duration": 7,
    "start_time": "2023-03-03T12:47:13.865Z"
   },
   {
    "duration": 23,
    "start_time": "2023-03-03T12:47:13.874Z"
   },
   {
    "duration": 7,
    "start_time": "2023-03-03T12:47:13.899Z"
   },
   {
    "duration": 8,
    "start_time": "2023-03-03T12:47:13.909Z"
   },
   {
    "duration": 40,
    "start_time": "2023-03-03T12:47:13.919Z"
   },
   {
    "duration": 13,
    "start_time": "2023-03-03T12:47:13.962Z"
   },
   {
    "duration": 6,
    "start_time": "2023-03-03T12:47:13.978Z"
   },
   {
    "duration": 15,
    "start_time": "2023-03-03T12:47:13.986Z"
   },
   {
    "duration": 56,
    "start_time": "2023-03-03T12:47:14.004Z"
   },
   {
    "duration": 3,
    "start_time": "2023-03-03T12:47:14.064Z"
   },
   {
    "duration": 258,
    "start_time": "2023-03-03T12:47:14.070Z"
   },
   {
    "duration": 94,
    "start_time": "2023-03-03T12:47:14.330Z"
   },
   {
    "duration": 296,
    "start_time": "2023-03-03T12:47:28.409Z"
   },
   {
    "duration": 303,
    "start_time": "2023-03-03T12:49:45.504Z"
   },
   {
    "duration": 348,
    "start_time": "2023-03-03T12:50:04.806Z"
   },
   {
    "duration": 347,
    "start_time": "2023-03-03T12:51:00.593Z"
   },
   {
    "duration": 492,
    "start_time": "2023-03-03T12:51:12.383Z"
   },
   {
    "duration": 19,
    "start_time": "2023-03-03T12:51:12.877Z"
   },
   {
    "duration": 351,
    "start_time": "2023-03-03T12:51:12.898Z"
   },
   {
    "duration": 4,
    "start_time": "2023-03-03T12:51:13.251Z"
   },
   {
    "duration": 9,
    "start_time": "2023-03-03T12:51:13.258Z"
   },
   {
    "duration": 17,
    "start_time": "2023-03-03T12:51:13.269Z"
   },
   {
    "duration": 5,
    "start_time": "2023-03-03T12:51:13.288Z"
   },
   {
    "duration": 26,
    "start_time": "2023-03-03T12:51:13.295Z"
   },
   {
    "duration": 30,
    "start_time": "2023-03-03T12:51:13.323Z"
   },
   {
    "duration": 8,
    "start_time": "2023-03-03T12:51:13.356Z"
   },
   {
    "duration": 6,
    "start_time": "2023-03-03T12:51:13.366Z"
   },
   {
    "duration": 16,
    "start_time": "2023-03-03T12:51:13.374Z"
   },
   {
    "duration": 20,
    "start_time": "2023-03-03T12:51:13.391Z"
   },
   {
    "duration": 245,
    "start_time": "2023-03-03T12:51:13.414Z"
   },
   {
    "duration": 747,
    "start_time": "2023-03-03T12:51:13.661Z"
   },
   {
    "duration": 354,
    "start_time": "2023-03-03T12:54:52.700Z"
   },
   {
    "duration": 330,
    "start_time": "2023-03-03T12:59:23.899Z"
   },
   {
    "duration": 274,
    "start_time": "2023-03-03T12:59:32.729Z"
   },
   {
    "duration": 562,
    "start_time": "2023-03-03T12:59:43.005Z"
   },
   {
    "duration": 15,
    "start_time": "2023-03-03T12:59:43.569Z"
   },
   {
    "duration": 358,
    "start_time": "2023-03-03T12:59:43.586Z"
   },
   {
    "duration": 6,
    "start_time": "2023-03-03T12:59:43.947Z"
   },
   {
    "duration": 17,
    "start_time": "2023-03-03T12:59:43.957Z"
   },
   {
    "duration": 19,
    "start_time": "2023-03-03T12:59:43.976Z"
   },
   {
    "duration": 9,
    "start_time": "2023-03-03T12:59:43.996Z"
   },
   {
    "duration": 23,
    "start_time": "2023-03-03T12:59:44.007Z"
   },
   {
    "duration": 7,
    "start_time": "2023-03-03T12:59:44.032Z"
   },
   {
    "duration": 8,
    "start_time": "2023-03-03T12:59:44.054Z"
   },
   {
    "duration": 5,
    "start_time": "2023-03-03T12:59:44.064Z"
   },
   {
    "duration": 13,
    "start_time": "2023-03-03T12:59:44.071Z"
   },
   {
    "duration": 20,
    "start_time": "2023-03-03T12:59:44.086Z"
   },
   {
    "duration": 257,
    "start_time": "2023-03-03T12:59:44.110Z"
   },
   {
    "duration": 550,
    "start_time": "2023-03-03T12:59:44.369Z"
   },
   {
    "duration": 332,
    "start_time": "2023-03-03T12:59:44.921Z"
   },
   {
    "duration": 310,
    "start_time": "2023-03-03T13:02:09.166Z"
   },
   {
    "duration": 273,
    "start_time": "2023-03-03T13:02:32.740Z"
   },
   {
    "duration": 354,
    "start_time": "2023-03-03T13:02:38.467Z"
   },
   {
    "duration": 513,
    "start_time": "2023-03-03T13:03:20.531Z"
   },
   {
    "duration": 16,
    "start_time": "2023-03-03T13:03:21.046Z"
   },
   {
    "duration": 312,
    "start_time": "2023-03-03T13:03:21.063Z"
   },
   {
    "duration": 3,
    "start_time": "2023-03-03T13:03:21.377Z"
   },
   {
    "duration": 7,
    "start_time": "2023-03-03T13:03:21.383Z"
   },
   {
    "duration": 18,
    "start_time": "2023-03-03T13:03:21.392Z"
   },
   {
    "duration": 9,
    "start_time": "2023-03-03T13:03:21.412Z"
   },
   {
    "duration": 32,
    "start_time": "2023-03-03T13:03:21.423Z"
   },
   {
    "duration": 9,
    "start_time": "2023-03-03T13:03:21.457Z"
   },
   {
    "duration": 9,
    "start_time": "2023-03-03T13:03:21.468Z"
   },
   {
    "duration": 25,
    "start_time": "2023-03-03T13:03:21.480Z"
   },
   {
    "duration": 11,
    "start_time": "2023-03-03T13:03:21.507Z"
   },
   {
    "duration": 18,
    "start_time": "2023-03-03T13:03:21.519Z"
   },
   {
    "duration": 204,
    "start_time": "2023-03-03T13:03:21.539Z"
   },
   {
    "duration": 595,
    "start_time": "2023-03-03T13:03:21.744Z"
   },
   {
    "duration": 353,
    "start_time": "2023-03-03T13:03:22.341Z"
   },
   {
    "duration": 230,
    "start_time": "2023-03-03T13:04:16.266Z"
   },
   {
    "duration": 163,
    "start_time": "2023-03-03T13:04:26.580Z"
   },
   {
    "duration": 168,
    "start_time": "2023-03-03T13:04:29.292Z"
   },
   {
    "duration": 467,
    "start_time": "2023-03-03T13:04:34.474Z"
   },
   {
    "duration": 14,
    "start_time": "2023-03-03T13:04:34.943Z"
   },
   {
    "duration": 307,
    "start_time": "2023-03-03T13:04:34.960Z"
   },
   {
    "duration": 3,
    "start_time": "2023-03-03T13:04:35.269Z"
   },
   {
    "duration": 11,
    "start_time": "2023-03-03T13:04:35.274Z"
   },
   {
    "duration": 15,
    "start_time": "2023-03-03T13:04:35.286Z"
   },
   {
    "duration": 5,
    "start_time": "2023-03-03T13:04:35.303Z"
   },
   {
    "duration": 12,
    "start_time": "2023-03-03T13:04:35.309Z"
   },
   {
    "duration": 30,
    "start_time": "2023-03-03T13:04:35.323Z"
   },
   {
    "duration": 7,
    "start_time": "2023-03-03T13:04:35.355Z"
   },
   {
    "duration": 6,
    "start_time": "2023-03-03T13:04:35.364Z"
   },
   {
    "duration": 14,
    "start_time": "2023-03-03T13:04:35.372Z"
   },
   {
    "duration": 19,
    "start_time": "2023-03-03T13:04:35.388Z"
   },
   {
    "duration": 224,
    "start_time": "2023-03-03T13:04:35.409Z"
   },
   {
    "duration": 616,
    "start_time": "2023-03-03T13:04:35.635Z"
   },
   {
    "duration": 381,
    "start_time": "2023-03-03T13:04:36.254Z"
   },
   {
    "duration": 163,
    "start_time": "2023-03-03T13:04:46.613Z"
   },
   {
    "duration": 439,
    "start_time": "2023-03-03T13:04:52.390Z"
   },
   {
    "duration": 15,
    "start_time": "2023-03-03T13:04:52.830Z"
   },
   {
    "duration": 308,
    "start_time": "2023-03-03T13:04:52.847Z"
   },
   {
    "duration": 4,
    "start_time": "2023-03-03T13:04:53.157Z"
   },
   {
    "duration": 9,
    "start_time": "2023-03-03T13:04:53.162Z"
   },
   {
    "duration": 15,
    "start_time": "2023-03-03T13:04:53.173Z"
   },
   {
    "duration": 6,
    "start_time": "2023-03-03T13:04:53.190Z"
   },
   {
    "duration": 10,
    "start_time": "2023-03-03T13:04:53.197Z"
   },
   {
    "duration": 6,
    "start_time": "2023-03-03T13:04:53.209Z"
   },
   {
    "duration": 38,
    "start_time": "2023-03-03T13:04:53.217Z"
   },
   {
    "duration": 5,
    "start_time": "2023-03-03T13:04:53.257Z"
   },
   {
    "duration": 17,
    "start_time": "2023-03-03T13:04:53.263Z"
   },
   {
    "duration": 16,
    "start_time": "2023-03-03T13:04:53.282Z"
   },
   {
    "duration": 204,
    "start_time": "2023-03-03T13:04:53.300Z"
   },
   {
    "duration": 630,
    "start_time": "2023-03-03T13:04:53.506Z"
   },
   {
    "duration": 364,
    "start_time": "2023-03-03T13:04:54.138Z"
   },
   {
    "duration": 225,
    "start_time": "2023-03-03T13:05:30.521Z"
   },
   {
    "duration": 521,
    "start_time": "2023-03-03T13:05:37.960Z"
   },
   {
    "duration": 18,
    "start_time": "2023-03-03T13:05:38.483Z"
   },
   {
    "duration": 373,
    "start_time": "2023-03-03T13:05:38.502Z"
   },
   {
    "duration": 3,
    "start_time": "2023-03-03T13:05:38.877Z"
   },
   {
    "duration": 16,
    "start_time": "2023-03-03T13:05:38.883Z"
   },
   {
    "duration": 17,
    "start_time": "2023-03-03T13:05:38.902Z"
   },
   {
    "duration": 6,
    "start_time": "2023-03-03T13:05:38.922Z"
   },
   {
    "duration": 31,
    "start_time": "2023-03-03T13:05:38.930Z"
   },
   {
    "duration": 9,
    "start_time": "2023-03-03T13:05:38.963Z"
   },
   {
    "duration": 10,
    "start_time": "2023-03-03T13:05:38.973Z"
   },
   {
    "duration": 6,
    "start_time": "2023-03-03T13:05:38.985Z"
   },
   {
    "duration": 10,
    "start_time": "2023-03-03T13:05:38.993Z"
   },
   {
    "duration": 18,
    "start_time": "2023-03-03T13:05:39.006Z"
   },
   {
    "duration": 252,
    "start_time": "2023-03-03T13:05:39.027Z"
   },
   {
    "duration": 562,
    "start_time": "2023-03-03T13:05:39.281Z"
   },
   {
    "duration": 400,
    "start_time": "2023-03-03T13:05:39.845Z"
   },
   {
    "duration": 91,
    "start_time": "2023-03-03T13:34:17.020Z"
   },
   {
    "duration": 31,
    "start_time": "2023-03-03T13:34:46.542Z"
   },
   {
    "duration": 31,
    "start_time": "2023-03-03T13:34:56.706Z"
   },
   {
    "duration": 23,
    "start_time": "2023-03-03T13:35:19.758Z"
   },
   {
    "duration": 18,
    "start_time": "2023-03-03T13:35:23.766Z"
   },
   {
    "duration": 17,
    "start_time": "2023-03-03T13:36:59.785Z"
   },
   {
    "duration": 20,
    "start_time": "2023-03-03T13:38:34.523Z"
   },
   {
    "duration": 18,
    "start_time": "2023-03-03T13:38:44.418Z"
   },
   {
    "duration": 16,
    "start_time": "2023-03-03T13:38:53.257Z"
   },
   {
    "duration": 15,
    "start_time": "2023-03-03T13:39:21.528Z"
   },
   {
    "duration": 7,
    "start_time": "2023-03-03T13:42:37.881Z"
   },
   {
    "duration": 16,
    "start_time": "2023-03-03T13:42:39.156Z"
   },
   {
    "duration": 6,
    "start_time": "2023-03-03T13:43:39.457Z"
   },
   {
    "duration": 20,
    "start_time": "2023-03-03T13:43:40.177Z"
   },
   {
    "duration": 8,
    "start_time": "2023-03-03T13:45:20.258Z"
   },
   {
    "duration": 256,
    "start_time": "2023-03-03T13:45:23.293Z"
   },
   {
    "duration": 267,
    "start_time": "2023-03-03T13:46:02.162Z"
   },
   {
    "duration": 522,
    "start_time": "2023-03-03T13:46:11.834Z"
   },
   {
    "duration": 16,
    "start_time": "2023-03-03T13:46:12.358Z"
   },
   {
    "duration": 343,
    "start_time": "2023-03-03T13:46:12.378Z"
   },
   {
    "duration": 3,
    "start_time": "2023-03-03T13:46:12.724Z"
   },
   {
    "duration": 9,
    "start_time": "2023-03-03T13:46:12.729Z"
   },
   {
    "duration": 23,
    "start_time": "2023-03-03T13:46:12.754Z"
   },
   {
    "duration": 7,
    "start_time": "2023-03-03T13:46:12.779Z"
   },
   {
    "duration": 8,
    "start_time": "2023-03-03T13:46:12.788Z"
   },
   {
    "duration": 7,
    "start_time": "2023-03-03T13:46:12.798Z"
   },
   {
    "duration": 9,
    "start_time": "2023-03-03T13:46:12.806Z"
   },
   {
    "duration": 37,
    "start_time": "2023-03-03T13:46:12.816Z"
   },
   {
    "duration": 11,
    "start_time": "2023-03-03T13:46:12.855Z"
   },
   {
    "duration": 19,
    "start_time": "2023-03-03T13:46:12.868Z"
   },
   {
    "duration": 248,
    "start_time": "2023-03-03T13:46:12.889Z"
   },
   {
    "duration": 18,
    "start_time": "2023-03-03T13:46:13.139Z"
   },
   {
    "duration": 16,
    "start_time": "2023-03-03T13:46:13.159Z"
   },
   {
    "duration": 7,
    "start_time": "2023-03-03T13:46:13.176Z"
   },
   {
    "duration": 290,
    "start_time": "2023-03-03T13:46:13.184Z"
   },
   {
    "duration": 246,
    "start_time": "2023-03-03T13:47:45.834Z"
   },
   {
    "duration": 315,
    "start_time": "2023-03-03T13:47:53.173Z"
   },
   {
    "duration": 15,
    "start_time": "2023-03-03T13:50:03.604Z"
   },
   {
    "duration": 516,
    "start_time": "2023-03-03T13:50:09.900Z"
   },
   {
    "duration": 17,
    "start_time": "2023-03-03T13:50:10.418Z"
   },
   {
    "duration": 370,
    "start_time": "2023-03-03T13:50:10.436Z"
   },
   {
    "duration": 4,
    "start_time": "2023-03-03T13:50:10.808Z"
   },
   {
    "duration": 8,
    "start_time": "2023-03-03T13:50:10.815Z"
   },
   {
    "duration": 35,
    "start_time": "2023-03-03T13:50:10.825Z"
   },
   {
    "duration": 14,
    "start_time": "2023-03-03T13:50:10.862Z"
   },
   {
    "duration": 43,
    "start_time": "2023-03-03T13:50:10.879Z"
   },
   {
    "duration": 15,
    "start_time": "2023-03-03T13:50:10.924Z"
   },
   {
    "duration": 12,
    "start_time": "2023-03-03T13:50:10.941Z"
   },
   {
    "duration": 6,
    "start_time": "2023-03-03T13:50:10.955Z"
   },
   {
    "duration": 10,
    "start_time": "2023-03-03T13:50:10.963Z"
   },
   {
    "duration": 18,
    "start_time": "2023-03-03T13:50:10.975Z"
   },
   {
    "duration": 289,
    "start_time": "2023-03-03T13:50:10.996Z"
   },
   {
    "duration": 11,
    "start_time": "2023-03-03T13:50:11.287Z"
   },
   {
    "duration": 18,
    "start_time": "2023-03-03T13:50:11.300Z"
   },
   {
    "duration": 7,
    "start_time": "2023-03-03T13:50:11.320Z"
   },
   {
    "duration": 314,
    "start_time": "2023-03-03T13:50:11.353Z"
   },
   {
    "duration": 7,
    "start_time": "2023-03-03T13:51:19.002Z"
   },
   {
    "duration": 14,
    "start_time": "2023-03-03T13:51:21.553Z"
   },
   {
    "duration": 265,
    "start_time": "2023-03-03T13:51:23.354Z"
   },
   {
    "duration": 433,
    "start_time": "2023-03-03T13:51:28.297Z"
   },
   {
    "duration": 13,
    "start_time": "2023-03-03T13:51:28.732Z"
   },
   {
    "duration": 296,
    "start_time": "2023-03-03T13:51:28.747Z"
   },
   {
    "duration": 10,
    "start_time": "2023-03-03T13:51:29.045Z"
   },
   {
    "duration": 14,
    "start_time": "2023-03-03T13:51:29.057Z"
   },
   {
    "duration": 18,
    "start_time": "2023-03-03T13:51:29.073Z"
   },
   {
    "duration": 5,
    "start_time": "2023-03-03T13:51:29.092Z"
   },
   {
    "duration": 11,
    "start_time": "2023-03-03T13:51:29.099Z"
   },
   {
    "duration": 5,
    "start_time": "2023-03-03T13:51:29.111Z"
   },
   {
    "duration": 8,
    "start_time": "2023-03-03T13:51:29.118Z"
   },
   {
    "duration": 5,
    "start_time": "2023-03-03T13:51:29.127Z"
   },
   {
    "duration": 25,
    "start_time": "2023-03-03T13:51:29.133Z"
   },
   {
    "duration": 15,
    "start_time": "2023-03-03T13:51:29.160Z"
   },
   {
    "duration": 218,
    "start_time": "2023-03-03T13:51:29.177Z"
   },
   {
    "duration": 21,
    "start_time": "2023-03-03T13:51:29.397Z"
   },
   {
    "duration": 9,
    "start_time": "2023-03-03T13:51:29.420Z"
   },
   {
    "duration": 283,
    "start_time": "2023-03-03T13:51:29.431Z"
   },
   {
    "duration": 6,
    "start_time": "2023-03-03T13:52:38.659Z"
   },
   {
    "duration": 6,
    "start_time": "2023-03-03T13:52:51.954Z"
   },
   {
    "duration": 16,
    "start_time": "2023-03-03T13:52:53.411Z"
   },
   {
    "duration": 484,
    "start_time": "2023-03-03T13:53:00.160Z"
   },
   {
    "duration": 15,
    "start_time": "2023-03-03T13:53:00.647Z"
   },
   {
    "duration": 334,
    "start_time": "2023-03-03T13:53:00.668Z"
   },
   {
    "duration": 3,
    "start_time": "2023-03-03T13:53:01.004Z"
   },
   {
    "duration": 48,
    "start_time": "2023-03-03T13:53:01.009Z"
   },
   {
    "duration": 53,
    "start_time": "2023-03-03T13:53:01.059Z"
   },
   {
    "duration": 26,
    "start_time": "2023-03-03T13:53:01.114Z"
   },
   {
    "duration": 43,
    "start_time": "2023-03-03T13:53:01.142Z"
   },
   {
    "duration": 54,
    "start_time": "2023-03-03T13:53:01.188Z"
   },
   {
    "duration": 55,
    "start_time": "2023-03-03T13:53:01.244Z"
   },
   {
    "duration": 59,
    "start_time": "2023-03-03T13:53:01.301Z"
   },
   {
    "duration": 77,
    "start_time": "2023-03-03T13:53:01.362Z"
   },
   {
    "duration": 45,
    "start_time": "2023-03-03T13:53:01.440Z"
   },
   {
    "duration": 229,
    "start_time": "2023-03-03T13:53:01.487Z"
   },
   {
    "duration": 10,
    "start_time": "2023-03-03T13:53:01.718Z"
   },
   {
    "duration": 27,
    "start_time": "2023-03-03T13:53:01.730Z"
   },
   {
    "duration": 109,
    "start_time": "2023-03-03T13:53:01.758Z"
   },
   {
    "duration": 0,
    "start_time": "2023-03-03T13:53:01.869Z"
   },
   {
    "duration": 99,
    "start_time": "2023-03-03T13:53:32.282Z"
   },
   {
    "duration": 9,
    "start_time": "2023-03-03T13:53:39.446Z"
   },
   {
    "duration": 288,
    "start_time": "2023-03-03T13:53:41.851Z"
   },
   {
    "duration": 282,
    "start_time": "2023-03-03T13:54:00.649Z"
   },
   {
    "duration": 286,
    "start_time": "2023-03-03T13:55:20.531Z"
   },
   {
    "duration": 494,
    "start_time": "2023-03-03T13:55:41.554Z"
   },
   {
    "duration": 13,
    "start_time": "2023-03-03T13:55:42.050Z"
   },
   {
    "duration": 321,
    "start_time": "2023-03-03T13:55:42.065Z"
   },
   {
    "duration": 4,
    "start_time": "2023-03-03T13:55:42.388Z"
   },
   {
    "duration": 13,
    "start_time": "2023-03-03T13:55:42.395Z"
   },
   {
    "duration": 37,
    "start_time": "2023-03-03T13:55:42.410Z"
   },
   {
    "duration": 6,
    "start_time": "2023-03-03T13:55:42.449Z"
   },
   {
    "duration": 6,
    "start_time": "2023-03-03T13:55:42.457Z"
   },
   {
    "duration": 8,
    "start_time": "2023-03-03T13:55:42.465Z"
   },
   {
    "duration": 12,
    "start_time": "2023-03-03T13:55:42.476Z"
   },
   {
    "duration": 6,
    "start_time": "2023-03-03T13:55:42.490Z"
   },
   {
    "duration": 12,
    "start_time": "2023-03-03T13:55:42.499Z"
   },
   {
    "duration": 50,
    "start_time": "2023-03-03T13:55:42.513Z"
   },
   {
    "duration": 217,
    "start_time": "2023-03-03T13:55:42.566Z"
   },
   {
    "duration": 586,
    "start_time": "2023-03-03T13:55:42.785Z"
   },
   {
    "duration": 7,
    "start_time": "2023-03-03T13:55:43.373Z"
   },
   {
    "duration": 38,
    "start_time": "2023-03-03T13:55:43.381Z"
   },
   {
    "duration": 75,
    "start_time": "2023-03-03T13:55:43.420Z"
   },
   {
    "duration": 238,
    "start_time": "2023-03-03T13:55:43.496Z"
   },
   {
    "duration": 7,
    "start_time": "2023-03-03T14:02:31.755Z"
   },
   {
    "duration": 276,
    "start_time": "2023-03-03T14:02:32.293Z"
   },
   {
    "duration": 507,
    "start_time": "2023-03-03T14:02:52.069Z"
   },
   {
    "duration": 15,
    "start_time": "2023-03-03T14:02:52.578Z"
   },
   {
    "duration": 355,
    "start_time": "2023-03-03T14:02:52.595Z"
   },
   {
    "duration": 3,
    "start_time": "2023-03-03T14:02:52.953Z"
   },
   {
    "duration": 9,
    "start_time": "2023-03-03T14:02:52.959Z"
   },
   {
    "duration": 24,
    "start_time": "2023-03-03T14:02:52.970Z"
   },
   {
    "duration": 7,
    "start_time": "2023-03-03T14:02:52.996Z"
   },
   {
    "duration": 12,
    "start_time": "2023-03-03T14:02:53.005Z"
   },
   {
    "duration": 14,
    "start_time": "2023-03-03T14:02:53.018Z"
   },
   {
    "duration": 21,
    "start_time": "2023-03-03T14:02:53.034Z"
   },
   {
    "duration": 17,
    "start_time": "2023-03-03T14:02:53.057Z"
   },
   {
    "duration": 13,
    "start_time": "2023-03-03T14:02:53.076Z"
   },
   {
    "duration": 32,
    "start_time": "2023-03-03T14:02:53.091Z"
   },
   {
    "duration": 254,
    "start_time": "2023-03-03T14:02:53.127Z"
   },
   {
    "duration": 641,
    "start_time": "2023-03-03T14:02:53.383Z"
   },
   {
    "duration": 7,
    "start_time": "2023-03-03T14:02:54.026Z"
   },
   {
    "duration": 20,
    "start_time": "2023-03-03T14:02:54.035Z"
   },
   {
    "duration": 72,
    "start_time": "2023-03-03T14:02:54.057Z"
   },
   {
    "duration": 286,
    "start_time": "2023-03-03T14:02:54.132Z"
   },
   {
    "duration": 6,
    "start_time": "2023-03-03T14:03:39.883Z"
   },
   {
    "duration": 194,
    "start_time": "2023-03-03T14:05:41.540Z"
   },
   {
    "duration": 202,
    "start_time": "2023-03-03T14:07:57.026Z"
   },
   {
    "duration": 168,
    "start_time": "2023-03-03T14:11:53.118Z"
   },
   {
    "duration": 236,
    "start_time": "2023-03-03T14:16:15.822Z"
   },
   {
    "duration": 184,
    "start_time": "2023-03-03T14:16:20.197Z"
   },
   {
    "duration": 167,
    "start_time": "2023-03-03T14:16:23.487Z"
   },
   {
    "duration": 117,
    "start_time": "2023-03-03T14:16:59.388Z"
   },
   {
    "duration": 107,
    "start_time": "2023-03-03T14:17:17.740Z"
   },
   {
    "duration": 10,
    "start_time": "2023-03-03T14:19:44.408Z"
   },
   {
    "duration": 128,
    "start_time": "2023-03-03T14:24:23.933Z"
   },
   {
    "duration": 10,
    "start_time": "2023-03-03T14:26:10.771Z"
   },
   {
    "duration": 9,
    "start_time": "2023-03-03T14:26:13.810Z"
   },
   {
    "duration": 681,
    "start_time": "2023-03-03T14:26:56.377Z"
   },
   {
    "duration": 137,
    "start_time": "2023-03-03T14:27:45.873Z"
   },
   {
    "duration": 181,
    "start_time": "2023-03-03T14:27:53.807Z"
   },
   {
    "duration": 112,
    "start_time": "2023-03-03T14:28:40.301Z"
   },
   {
    "duration": 171,
    "start_time": "2023-03-03T14:28:44.652Z"
   },
   {
    "duration": 245,
    "start_time": "2023-03-03T14:30:03.371Z"
   },
   {
    "duration": 11,
    "start_time": "2023-03-03T14:33:47.344Z"
   },
   {
    "duration": 164,
    "start_time": "2023-03-03T14:33:53.127Z"
   },
   {
    "duration": 199,
    "start_time": "2023-03-03T14:34:10.220Z"
   },
   {
    "duration": 10,
    "start_time": "2023-03-03T14:44:02.254Z"
   },
   {
    "duration": 10,
    "start_time": "2023-03-03T14:46:50.366Z"
   },
   {
    "duration": 10,
    "start_time": "2023-03-03T14:47:19.476Z"
   },
   {
    "duration": 10,
    "start_time": "2023-03-03T14:47:22.619Z"
   },
   {
    "duration": 11,
    "start_time": "2023-03-03T14:47:24.362Z"
   },
   {
    "duration": 14,
    "start_time": "2023-03-03T14:47:34.619Z"
   },
   {
    "duration": 15,
    "start_time": "2023-03-03T14:48:09.785Z"
   },
   {
    "duration": 12,
    "start_time": "2023-03-03T14:48:30.478Z"
   },
   {
    "duration": 1646,
    "start_time": "2023-03-03T14:48:43.416Z"
   },
   {
    "duration": 1634,
    "start_time": "2023-03-03T14:48:49.268Z"
   },
   {
    "duration": 21,
    "start_time": "2023-03-03T14:49:09.244Z"
   },
   {
    "duration": 8,
    "start_time": "2023-03-03T14:49:34.469Z"
   },
   {
    "duration": 195,
    "start_time": "2023-03-03T14:54:15.535Z"
   },
   {
    "duration": 204,
    "start_time": "2023-03-03T14:54:36.398Z"
   },
   {
    "duration": 160,
    "start_time": "2023-03-03T14:58:15.927Z"
   },
   {
    "duration": 180,
    "start_time": "2023-03-03T14:58:49.971Z"
   },
   {
    "duration": 453,
    "start_time": "2023-03-03T14:58:58.108Z"
   },
   {
    "duration": 15,
    "start_time": "2023-03-03T14:58:58.563Z"
   },
   {
    "duration": 372,
    "start_time": "2023-03-03T14:58:58.579Z"
   },
   {
    "duration": 4,
    "start_time": "2023-03-03T14:58:58.952Z"
   },
   {
    "duration": 14,
    "start_time": "2023-03-03T14:58:58.958Z"
   },
   {
    "duration": 18,
    "start_time": "2023-03-03T14:58:58.973Z"
   },
   {
    "duration": 6,
    "start_time": "2023-03-03T14:58:58.993Z"
   },
   {
    "duration": 9,
    "start_time": "2023-03-03T14:58:59.000Z"
   },
   {
    "duration": 7,
    "start_time": "2023-03-03T14:58:59.011Z"
   },
   {
    "duration": 7,
    "start_time": "2023-03-03T14:58:59.020Z"
   },
   {
    "duration": 29,
    "start_time": "2023-03-03T14:58:59.029Z"
   },
   {
    "duration": 13,
    "start_time": "2023-03-03T14:58:59.059Z"
   },
   {
    "duration": 16,
    "start_time": "2023-03-03T14:58:59.074Z"
   },
   {
    "duration": 247,
    "start_time": "2023-03-03T14:58:59.094Z"
   },
   {
    "duration": 642,
    "start_time": "2023-03-03T14:58:59.342Z"
   },
   {
    "duration": 8,
    "start_time": "2023-03-03T14:58:59.985Z"
   },
   {
    "duration": 15,
    "start_time": "2023-03-03T14:58:59.995Z"
   },
   {
    "duration": 95,
    "start_time": "2023-03-03T14:59:00.012Z"
   },
   {
    "duration": 308,
    "start_time": "2023-03-03T14:59:00.109Z"
   },
   {
    "duration": 647,
    "start_time": "2023-03-03T14:59:00.419Z"
   },
   {
    "duration": 196,
    "start_time": "2023-03-03T14:59:01.068Z"
   },
   {
    "duration": 11,
    "start_time": "2023-03-03T14:59:43.667Z"
   },
   {
    "duration": 15,
    "start_time": "2023-03-03T14:59:49.375Z"
   },
   {
    "duration": 15,
    "start_time": "2023-03-03T14:59:54.522Z"
   },
   {
    "duration": 13,
    "start_time": "2023-03-03T15:00:01.316Z"
   },
   {
    "duration": 14,
    "start_time": "2023-03-03T15:00:07.476Z"
   },
   {
    "duration": 13,
    "start_time": "2023-03-03T15:00:15.693Z"
   },
   {
    "duration": 114,
    "start_time": "2023-03-03T15:01:36.606Z"
   },
   {
    "duration": 15,
    "start_time": "2023-03-03T15:01:44.875Z"
   },
   {
    "duration": 14,
    "start_time": "2023-03-03T15:01:47.717Z"
   },
   {
    "duration": 15,
    "start_time": "2023-03-03T15:01:53.360Z"
   },
   {
    "duration": 14,
    "start_time": "2023-03-03T15:02:08.516Z"
   },
   {
    "duration": 94,
    "start_time": "2023-03-03T15:02:45.938Z"
   },
   {
    "duration": 15,
    "start_time": "2023-03-03T15:03:27.408Z"
   },
   {
    "duration": 13,
    "start_time": "2023-03-03T15:03:45.300Z"
   },
   {
    "duration": 21,
    "start_time": "2023-03-03T15:05:52.515Z"
   },
   {
    "duration": 13,
    "start_time": "2023-03-03T15:06:03.767Z"
   },
   {
    "duration": 15,
    "start_time": "2023-03-03T15:06:06.879Z"
   },
   {
    "duration": 16,
    "start_time": "2023-03-03T15:06:17.363Z"
   },
   {
    "duration": 14,
    "start_time": "2023-03-03T15:06:20.773Z"
   },
   {
    "duration": 15,
    "start_time": "2023-03-03T15:06:53.532Z"
   },
   {
    "duration": 17,
    "start_time": "2023-03-03T15:09:46.935Z"
   },
   {
    "duration": 14,
    "start_time": "2023-03-03T15:10:22.267Z"
   },
   {
    "duration": 168,
    "start_time": "2023-03-03T15:10:55.080Z"
   },
   {
    "duration": 505,
    "start_time": "2023-03-03T15:11:13.807Z"
   },
   {
    "duration": 17,
    "start_time": "2023-03-03T15:11:14.314Z"
   },
   {
    "duration": 347,
    "start_time": "2023-03-03T15:11:14.333Z"
   },
   {
    "duration": 4,
    "start_time": "2023-03-03T15:11:14.682Z"
   },
   {
    "duration": 14,
    "start_time": "2023-03-03T15:11:14.690Z"
   },
   {
    "duration": 19,
    "start_time": "2023-03-03T15:11:14.706Z"
   },
   {
    "duration": 6,
    "start_time": "2023-03-03T15:11:14.726Z"
   },
   {
    "duration": 21,
    "start_time": "2023-03-03T15:11:14.734Z"
   },
   {
    "duration": 11,
    "start_time": "2023-03-03T15:11:14.757Z"
   },
   {
    "duration": 8,
    "start_time": "2023-03-03T15:11:14.770Z"
   },
   {
    "duration": 6,
    "start_time": "2023-03-03T15:11:14.780Z"
   },
   {
    "duration": 14,
    "start_time": "2023-03-03T15:11:14.787Z"
   },
   {
    "duration": 17,
    "start_time": "2023-03-03T15:11:14.803Z"
   },
   {
    "duration": 276,
    "start_time": "2023-03-03T15:11:14.823Z"
   },
   {
    "duration": 650,
    "start_time": "2023-03-03T15:11:15.101Z"
   },
   {
    "duration": 8,
    "start_time": "2023-03-03T15:11:15.754Z"
   },
   {
    "duration": 16,
    "start_time": "2023-03-03T15:11:15.764Z"
   },
   {
    "duration": 90,
    "start_time": "2023-03-03T15:11:15.782Z"
   },
   {
    "duration": 259,
    "start_time": "2023-03-03T15:11:15.874Z"
   },
   {
    "duration": 647,
    "start_time": "2023-03-03T15:11:16.135Z"
   },
   {
    "duration": 180,
    "start_time": "2023-03-03T15:11:16.784Z"
   },
   {
    "duration": 15,
    "start_time": "2023-03-03T15:14:15.481Z"
   },
   {
    "duration": 13,
    "start_time": "2023-03-03T15:14:21.179Z"
   },
   {
    "duration": 115,
    "start_time": "2023-03-03T15:14:31.716Z"
   },
   {
    "duration": 17,
    "start_time": "2023-03-03T15:15:23.987Z"
   },
   {
    "duration": 13,
    "start_time": "2023-03-03T15:15:54.677Z"
   },
   {
    "duration": 6,
    "start_time": "2023-03-03T15:17:21.859Z"
   },
   {
    "duration": 12,
    "start_time": "2023-03-03T15:17:22.800Z"
   },
   {
    "duration": 13,
    "start_time": "2023-03-03T15:17:27.975Z"
   },
   {
    "duration": 102,
    "start_time": "2023-03-03T15:17:44.375Z"
   },
   {
    "duration": 16,
    "start_time": "2023-03-03T15:17:59.667Z"
   },
   {
    "duration": 672,
    "start_time": "2023-03-03T15:18:33.895Z"
   },
   {
    "duration": 582,
    "start_time": "2023-03-03T15:18:42.277Z"
   },
   {
    "duration": 805,
    "start_time": "2023-03-03T15:19:38.282Z"
   },
   {
    "duration": 17,
    "start_time": "2023-03-03T15:20:05.791Z"
   },
   {
    "duration": 690,
    "start_time": "2023-03-03T15:21:15.379Z"
   },
   {
    "duration": 16,
    "start_time": "2023-03-03T15:22:01.091Z"
   },
   {
    "duration": 7,
    "start_time": "2023-03-03T15:22:16.724Z"
   },
   {
    "duration": 17,
    "start_time": "2023-03-03T15:22:48.578Z"
   },
   {
    "duration": 7,
    "start_time": "2023-03-03T15:23:21.285Z"
   },
   {
    "duration": 19,
    "start_time": "2023-03-03T15:23:26.702Z"
   },
   {
    "duration": 15,
    "start_time": "2023-03-03T15:24:55.887Z"
   },
   {
    "duration": 19,
    "start_time": "2023-03-03T15:26:30.813Z"
   },
   {
    "duration": 15,
    "start_time": "2023-03-03T15:26:34.391Z"
   },
   {
    "duration": 15,
    "start_time": "2023-03-03T15:27:27.489Z"
   },
   {
    "duration": 10,
    "start_time": "2023-03-03T15:27:36.171Z"
   },
   {
    "duration": 19,
    "start_time": "2023-03-03T15:27:45.719Z"
   },
   {
    "duration": 582,
    "start_time": "2023-03-03T15:28:43.366Z"
   },
   {
    "duration": 738,
    "start_time": "2023-03-03T15:29:53.993Z"
   },
   {
    "duration": 581,
    "start_time": "2023-03-03T15:30:04.974Z"
   },
   {
    "duration": 32,
    "start_time": "2023-03-03T15:31:43.095Z"
   },
   {
    "duration": 739,
    "start_time": "2023-03-03T15:32:10.889Z"
   },
   {
    "duration": 778,
    "start_time": "2023-03-03T15:32:57.421Z"
   },
   {
    "duration": 12,
    "start_time": "2023-03-03T15:34:24.194Z"
   },
   {
    "duration": 9,
    "start_time": "2023-03-03T15:34:35.812Z"
   },
   {
    "duration": 14,
    "start_time": "2023-03-03T15:34:43.964Z"
   },
   {
    "duration": 564,
    "start_time": "2023-03-03T15:35:49.171Z"
   },
   {
    "duration": 24,
    "start_time": "2023-03-03T15:37:17.932Z"
   },
   {
    "duration": 3,
    "start_time": "2023-03-03T15:41:23.803Z"
   },
   {
    "duration": 11,
    "start_time": "2023-03-03T15:41:25.935Z"
   },
   {
    "duration": 443,
    "start_time": "2023-03-03T15:41:35.193Z"
   },
   {
    "duration": 16,
    "start_time": "2023-03-03T15:41:35.638Z"
   },
   {
    "duration": 320,
    "start_time": "2023-03-03T15:41:35.655Z"
   },
   {
    "duration": 3,
    "start_time": "2023-03-03T15:41:35.977Z"
   },
   {
    "duration": 40,
    "start_time": "2023-03-03T15:41:35.982Z"
   },
   {
    "duration": 19,
    "start_time": "2023-03-03T15:41:36.024Z"
   },
   {
    "duration": 7,
    "start_time": "2023-03-03T15:41:36.045Z"
   },
   {
    "duration": 17,
    "start_time": "2023-03-03T15:41:36.054Z"
   },
   {
    "duration": 18,
    "start_time": "2023-03-03T15:41:36.073Z"
   },
   {
    "duration": 10,
    "start_time": "2023-03-03T15:41:36.093Z"
   },
   {
    "duration": 14,
    "start_time": "2023-03-03T15:41:36.105Z"
   },
   {
    "duration": 14,
    "start_time": "2023-03-03T15:41:36.121Z"
   },
   {
    "duration": 15,
    "start_time": "2023-03-03T15:41:36.137Z"
   },
   {
    "duration": 231,
    "start_time": "2023-03-03T15:41:36.156Z"
   },
   {
    "duration": 622,
    "start_time": "2023-03-03T15:41:36.389Z"
   },
   {
    "duration": 7,
    "start_time": "2023-03-03T15:41:37.013Z"
   },
   {
    "duration": 18,
    "start_time": "2023-03-03T15:41:37.021Z"
   },
   {
    "duration": 66,
    "start_time": "2023-03-03T15:41:37.040Z"
   },
   {
    "duration": 259,
    "start_time": "2023-03-03T15:41:37.108Z"
   },
   {
    "duration": 624,
    "start_time": "2023-03-03T15:41:37.369Z"
   },
   {
    "duration": 114,
    "start_time": "2023-03-03T15:41:37.995Z"
   },
   {
    "duration": 0,
    "start_time": "2023-03-03T15:41:38.110Z"
   },
   {
    "duration": 27,
    "start_time": "2023-03-03T15:42:31.937Z"
   },
   {
    "duration": 17,
    "start_time": "2023-03-03T15:42:51.523Z"
   },
   {
    "duration": 22,
    "start_time": "2023-03-03T15:43:04.772Z"
   },
   {
    "duration": 167,
    "start_time": "2023-03-03T15:43:12.176Z"
   },
   {
    "duration": 10,
    "start_time": "2023-03-03T15:43:33.829Z"
   },
   {
    "duration": 14,
    "start_time": "2023-03-03T15:43:40.479Z"
   },
   {
    "duration": 13,
    "start_time": "2023-03-03T15:45:07.979Z"
   },
   {
    "duration": 730,
    "start_time": "2023-03-03T15:45:37.963Z"
   },
   {
    "duration": 489,
    "start_time": "2023-03-03T15:46:16.768Z"
   },
   {
    "duration": 15,
    "start_time": "2023-03-03T15:46:17.258Z"
   },
   {
    "duration": 312,
    "start_time": "2023-03-03T15:46:17.275Z"
   },
   {
    "duration": 3,
    "start_time": "2023-03-03T15:46:17.589Z"
   },
   {
    "duration": 9,
    "start_time": "2023-03-03T15:46:17.594Z"
   },
   {
    "duration": 15,
    "start_time": "2023-03-03T15:46:17.604Z"
   },
   {
    "duration": 5,
    "start_time": "2023-03-03T15:46:17.621Z"
   },
   {
    "duration": 28,
    "start_time": "2023-03-03T15:46:17.628Z"
   },
   {
    "duration": 113,
    "start_time": "2023-03-03T15:46:17.658Z"
   },
   {
    "duration": 12,
    "start_time": "2023-03-03T15:46:17.773Z"
   },
   {
    "duration": 8,
    "start_time": "2023-03-03T15:46:17.787Z"
   },
   {
    "duration": 7,
    "start_time": "2023-03-03T15:46:17.797Z"
   },
   {
    "duration": 15,
    "start_time": "2023-03-03T15:46:17.806Z"
   },
   {
    "duration": 231,
    "start_time": "2023-03-03T15:46:17.824Z"
   },
   {
    "duration": 638,
    "start_time": "2023-03-03T15:46:18.057Z"
   },
   {
    "duration": 7,
    "start_time": "2023-03-03T15:46:18.698Z"
   },
   {
    "duration": 121,
    "start_time": "2023-03-03T15:46:18.707Z"
   },
   {
    "duration": 67,
    "start_time": "2023-03-03T15:46:18.830Z"
   },
   {
    "duration": 245,
    "start_time": "2023-03-03T15:46:18.899Z"
   },
   {
    "duration": 625,
    "start_time": "2023-03-03T15:46:19.145Z"
   },
   {
    "duration": 724,
    "start_time": "2023-03-03T15:46:19.771Z"
   },
   {
    "duration": 613,
    "start_time": "2023-03-03T15:46:40.091Z"
   },
   {
    "duration": 1763,
    "start_time": "2023-03-03T15:47:14.728Z"
   },
   {
    "duration": 19,
    "start_time": "2023-03-03T15:47:23.083Z"
   },
   {
    "duration": 17,
    "start_time": "2023-03-03T15:47:37.732Z"
   },
   {
    "duration": 6,
    "start_time": "2023-03-03T15:47:43.519Z"
   },
   {
    "duration": 9,
    "start_time": "2023-03-03T15:47:48.075Z"
   },
   {
    "duration": 15,
    "start_time": "2023-03-03T15:48:11.130Z"
   },
   {
    "duration": 17,
    "start_time": "2023-03-03T15:48:47.325Z"
   },
   {
    "duration": 16,
    "start_time": "2023-03-03T15:52:25.779Z"
   },
   {
    "duration": 0,
    "start_time": "2023-03-03T15:52:46.213Z"
   },
   {
    "duration": 14,
    "start_time": "2023-03-03T15:52:55.683Z"
   },
   {
    "duration": 582,
    "start_time": "2023-03-03T15:58:05.325Z"
   },
   {
    "duration": 684,
    "start_time": "2023-03-03T15:58:26.121Z"
   },
   {
    "duration": 18,
    "start_time": "2023-03-03T15:58:56.091Z"
   },
   {
    "duration": 657,
    "start_time": "2023-03-03T15:59:03.896Z"
   },
   {
    "duration": 14,
    "start_time": "2023-03-03T15:59:10.318Z"
   },
   {
    "duration": 721,
    "start_time": "2023-03-03T16:00:08.416Z"
   },
   {
    "duration": 608,
    "start_time": "2023-03-03T16:03:34.502Z"
   },
   {
    "duration": 17,
    "start_time": "2023-03-03T16:03:48.614Z"
   },
   {
    "duration": 18,
    "start_time": "2023-03-03T16:04:18.364Z"
   },
   {
    "duration": 586,
    "start_time": "2023-03-03T16:04:42.188Z"
   },
   {
    "duration": 848,
    "start_time": "2023-03-03T16:04:54.786Z"
   },
   {
    "duration": 620,
    "start_time": "2023-03-03T16:06:05.586Z"
   },
   {
    "duration": 635,
    "start_time": "2023-03-03T16:06:16.822Z"
   },
   {
    "duration": 844,
    "start_time": "2023-03-03T16:06:39.941Z"
   },
   {
    "duration": 664,
    "start_time": "2023-03-03T16:16:57.613Z"
   },
   {
    "duration": 574,
    "start_time": "2023-03-03T16:17:39.520Z"
   },
   {
    "duration": 450,
    "start_time": "2023-03-03T16:17:46.803Z"
   },
   {
    "duration": 14,
    "start_time": "2023-03-03T16:17:47.255Z"
   },
   {
    "duration": 308,
    "start_time": "2023-03-03T16:17:47.273Z"
   },
   {
    "duration": 3,
    "start_time": "2023-03-03T16:17:47.584Z"
   },
   {
    "duration": 9,
    "start_time": "2023-03-03T16:17:47.589Z"
   },
   {
    "duration": 20,
    "start_time": "2023-03-03T16:17:47.599Z"
   },
   {
    "duration": 6,
    "start_time": "2023-03-03T16:17:47.620Z"
   },
   {
    "duration": 28,
    "start_time": "2023-03-03T16:17:47.627Z"
   },
   {
    "duration": 7,
    "start_time": "2023-03-03T16:17:47.657Z"
   },
   {
    "duration": 9,
    "start_time": "2023-03-03T16:17:47.666Z"
   },
   {
    "duration": 12,
    "start_time": "2023-03-03T16:17:47.677Z"
   },
   {
    "duration": 30,
    "start_time": "2023-03-03T16:17:47.691Z"
   },
   {
    "duration": 16,
    "start_time": "2023-03-03T16:17:47.724Z"
   },
   {
    "duration": 224,
    "start_time": "2023-03-03T16:17:47.742Z"
   },
   {
    "duration": 563,
    "start_time": "2023-03-03T16:17:47.968Z"
   },
   {
    "duration": 6,
    "start_time": "2023-03-03T16:17:48.533Z"
   },
   {
    "duration": 14,
    "start_time": "2023-03-03T16:17:48.541Z"
   },
   {
    "duration": 61,
    "start_time": "2023-03-03T16:17:48.556Z"
   },
   {
    "duration": 229,
    "start_time": "2023-03-03T16:17:48.619Z"
   },
   {
    "duration": 602,
    "start_time": "2023-03-03T16:17:48.852Z"
   },
   {
    "duration": 721,
    "start_time": "2023-03-03T16:17:49.456Z"
   },
   {
    "duration": 664,
    "start_time": "2023-03-03T16:17:50.178Z"
   },
   {
    "duration": 663,
    "start_time": "2023-03-03T16:19:12.840Z"
   },
   {
    "duration": 733,
    "start_time": "2023-03-03T16:19:24.821Z"
   },
   {
    "duration": 616,
    "start_time": "2023-03-03T16:20:43.118Z"
   },
   {
    "duration": 21,
    "start_time": "2023-03-03T16:25:31.135Z"
   },
   {
    "duration": 14,
    "start_time": "2023-03-03T16:26:24.895Z"
   },
   {
    "duration": 108,
    "start_time": "2023-03-03T16:27:46.931Z"
   },
   {
    "duration": 164,
    "start_time": "2023-03-03T16:27:50.298Z"
   },
   {
    "duration": 515,
    "start_time": "2023-03-03T16:28:40.409Z"
   },
   {
    "duration": 183,
    "start_time": "2023-03-03T16:28:46.183Z"
   },
   {
    "duration": 13,
    "start_time": "2023-03-03T16:29:02.335Z"
   },
   {
    "duration": 155,
    "start_time": "2023-03-03T16:29:06.683Z"
   },
   {
    "duration": 326,
    "start_time": "2023-03-03T16:29:27.679Z"
   },
   {
    "duration": 247,
    "start_time": "2023-03-03T16:29:40.698Z"
   },
   {
    "duration": 5,
    "start_time": "2023-03-03T16:30:17.191Z"
   },
   {
    "duration": 10,
    "start_time": "2023-03-03T16:31:26.793Z"
   },
   {
    "duration": 45,
    "start_time": "2023-03-03T16:31:54.583Z"
   },
   {
    "duration": 109,
    "start_time": "2023-03-03T16:32:23.478Z"
   },
   {
    "duration": 34,
    "start_time": "2023-03-03T16:32:29.632Z"
   },
   {
    "duration": 28,
    "start_time": "2023-03-03T16:33:05.790Z"
   },
   {
    "duration": 14,
    "start_time": "2023-03-03T16:33:34.013Z"
   },
   {
    "duration": 25,
    "start_time": "2023-03-03T16:34:58.898Z"
   },
   {
    "duration": 1324,
    "start_time": "2023-03-08T08:50:32.644Z"
   },
   {
    "duration": 523,
    "start_time": "2023-03-08T08:50:50.404Z"
   },
   {
    "duration": 12,
    "start_time": "2023-03-08T08:50:50.928Z"
   },
   {
    "duration": 262,
    "start_time": "2023-03-08T08:50:50.941Z"
   },
   {
    "duration": 3,
    "start_time": "2023-03-08T08:50:51.204Z"
   },
   {
    "duration": 15,
    "start_time": "2023-03-08T08:50:51.209Z"
   },
   {
    "duration": 13,
    "start_time": "2023-03-08T08:50:51.233Z"
   },
   {
    "duration": 4,
    "start_time": "2023-03-08T08:50:51.248Z"
   },
   {
    "duration": 7,
    "start_time": "2023-03-08T08:50:51.254Z"
   },
   {
    "duration": 8,
    "start_time": "2023-03-08T08:50:51.262Z"
   },
   {
    "duration": 7,
    "start_time": "2023-03-08T08:50:51.271Z"
   },
   {
    "duration": 17,
    "start_time": "2023-03-08T08:50:51.279Z"
   },
   {
    "duration": 8,
    "start_time": "2023-03-08T08:50:51.297Z"
   },
   {
    "duration": 27,
    "start_time": "2023-03-08T08:50:51.306Z"
   },
   {
    "duration": 200,
    "start_time": "2023-03-08T08:50:51.336Z"
   },
   {
    "duration": 488,
    "start_time": "2023-03-08T08:50:51.537Z"
   },
   {
    "duration": 8,
    "start_time": "2023-03-08T08:50:52.027Z"
   },
   {
    "duration": 24,
    "start_time": "2023-03-08T08:50:52.036Z"
   },
   {
    "duration": 52,
    "start_time": "2023-03-08T08:50:52.062Z"
   },
   {
    "duration": 206,
    "start_time": "2023-03-08T08:50:52.115Z"
   },
   {
    "duration": 562,
    "start_time": "2023-03-08T08:50:52.323Z"
   },
   {
    "duration": 600,
    "start_time": "2023-03-08T08:50:52.887Z"
   },
   {
    "duration": 525,
    "start_time": "2023-03-08T08:50:53.489Z"
   },
   {
    "duration": 524,
    "start_time": "2023-03-08T08:50:54.015Z"
   },
   {
    "duration": 24,
    "start_time": "2023-03-08T08:50:54.540Z"
   },
   {
    "duration": 141,
    "start_time": "2023-03-08T09:07:00.661Z"
   },
   {
    "duration": 137,
    "start_time": "2023-03-08T09:07:10.732Z"
   },
   {
    "duration": 229,
    "start_time": "2023-03-08T09:08:33.711Z"
   },
   {
    "duration": 419,
    "start_time": "2023-03-08T09:08:50.586Z"
   },
   {
    "duration": 389,
    "start_time": "2023-03-08T09:13:11.376Z"
   },
   {
    "duration": 399,
    "start_time": "2023-03-08T09:14:29.945Z"
   },
   {
    "duration": 14,
    "start_time": "2023-03-08T09:16:05.415Z"
   },
   {
    "duration": 419,
    "start_time": "2023-03-08T09:16:10.046Z"
   },
   {
    "duration": 209,
    "start_time": "2023-03-08T09:25:59.535Z"
   },
   {
    "duration": 292,
    "start_time": "2023-03-08T09:26:24.736Z"
   },
   {
    "duration": 15,
    "start_time": "2023-03-08T09:26:44.207Z"
   },
   {
    "duration": 1129,
    "start_time": "2023-03-08T09:27:28.816Z"
   },
   {
    "duration": 155,
    "start_time": "2023-03-08T09:27:52.214Z"
   },
   {
    "duration": 156,
    "start_time": "2023-03-08T09:29:38.301Z"
   },
   {
    "duration": 10,
    "start_time": "2023-03-08T09:36:13.030Z"
   },
   {
    "duration": 15,
    "start_time": "2023-03-08T09:38:09.566Z"
   },
   {
    "duration": 13,
    "start_time": "2023-03-08T09:38:57.939Z"
   },
   {
    "duration": 15,
    "start_time": "2023-03-08T09:39:16.431Z"
   },
   {
    "duration": 8,
    "start_time": "2023-03-08T09:39:23.130Z"
   },
   {
    "duration": 9,
    "start_time": "2023-03-08T09:40:00.969Z"
   },
   {
    "duration": 7,
    "start_time": "2023-03-08T09:41:34.284Z"
   },
   {
    "duration": 8,
    "start_time": "2023-03-08T09:41:42.337Z"
   },
   {
    "duration": 7,
    "start_time": "2023-03-08T09:41:43.996Z"
   },
   {
    "duration": 8,
    "start_time": "2023-03-08T09:41:44.340Z"
   },
   {
    "duration": 412,
    "start_time": "2023-03-08T09:41:51.475Z"
   },
   {
    "duration": 12,
    "start_time": "2023-03-08T09:41:51.889Z"
   },
   {
    "duration": 257,
    "start_time": "2023-03-08T09:41:51.903Z"
   },
   {
    "duration": 3,
    "start_time": "2023-03-08T09:41:52.162Z"
   },
   {
    "duration": 7,
    "start_time": "2023-03-08T09:41:52.167Z"
   },
   {
    "duration": 15,
    "start_time": "2023-03-08T09:41:52.175Z"
   },
   {
    "duration": 4,
    "start_time": "2023-03-08T09:41:52.191Z"
   },
   {
    "duration": 7,
    "start_time": "2023-03-08T09:41:52.197Z"
   },
   {
    "duration": 28,
    "start_time": "2023-03-08T09:41:52.205Z"
   },
   {
    "duration": 6,
    "start_time": "2023-03-08T09:41:52.234Z"
   },
   {
    "duration": 6,
    "start_time": "2023-03-08T09:41:52.241Z"
   },
   {
    "duration": 7,
    "start_time": "2023-03-08T09:41:52.248Z"
   },
   {
    "duration": 15,
    "start_time": "2023-03-08T09:41:52.256Z"
   },
   {
    "duration": 195,
    "start_time": "2023-03-08T09:41:52.274Z"
   },
   {
    "duration": 503,
    "start_time": "2023-03-08T09:41:52.471Z"
   },
   {
    "duration": 9,
    "start_time": "2023-03-08T09:41:52.976Z"
   },
   {
    "duration": 14,
    "start_time": "2023-03-08T09:41:52.986Z"
   },
   {
    "duration": 56,
    "start_time": "2023-03-08T09:41:53.001Z"
   },
   {
    "duration": 215,
    "start_time": "2023-03-08T09:41:53.059Z"
   },
   {
    "duration": 523,
    "start_time": "2023-03-08T09:41:53.275Z"
   },
   {
    "duration": 634,
    "start_time": "2023-03-08T09:41:53.800Z"
   },
   {
    "duration": 563,
    "start_time": "2023-03-08T09:41:54.435Z"
   },
   {
    "duration": 557,
    "start_time": "2023-03-08T09:41:55.000Z"
   },
   {
    "duration": 25,
    "start_time": "2023-03-08T09:41:55.559Z"
   },
   {
    "duration": 532,
    "start_time": "2023-03-08T09:41:55.585Z"
   },
   {
    "duration": 465,
    "start_time": "2023-03-08T09:41:56.119Z"
   },
   {
    "duration": 158,
    "start_time": "2023-03-08T09:41:56.585Z"
   },
   {
    "duration": 6,
    "start_time": "2023-03-08T09:41:56.745Z"
   },
   {
    "duration": 121,
    "start_time": "2023-03-08T09:41:56.752Z"
   },
   {
    "duration": 8,
    "start_time": "2023-03-08T09:42:08.129Z"
   },
   {
    "duration": 499,
    "start_time": "2023-03-08T09:42:13.212Z"
   },
   {
    "duration": 13,
    "start_time": "2023-03-08T09:42:13.713Z"
   },
   {
    "duration": 285,
    "start_time": "2023-03-08T09:42:13.728Z"
   },
   {
    "duration": 4,
    "start_time": "2023-03-08T09:42:14.015Z"
   },
   {
    "duration": 15,
    "start_time": "2023-03-08T09:42:14.020Z"
   },
   {
    "duration": 15,
    "start_time": "2023-03-08T09:42:14.036Z"
   },
   {
    "duration": 5,
    "start_time": "2023-03-08T09:42:14.053Z"
   },
   {
    "duration": 10,
    "start_time": "2023-03-08T09:42:14.059Z"
   },
   {
    "duration": 6,
    "start_time": "2023-03-08T09:42:14.071Z"
   },
   {
    "duration": 6,
    "start_time": "2023-03-08T09:42:14.080Z"
   },
   {
    "duration": 4,
    "start_time": "2023-03-08T09:42:14.088Z"
   },
   {
    "duration": 7,
    "start_time": "2023-03-08T09:42:14.094Z"
   },
   {
    "duration": 45,
    "start_time": "2023-03-08T09:42:14.102Z"
   },
   {
    "duration": 221,
    "start_time": "2023-03-08T09:42:14.148Z"
   },
   {
    "duration": 563,
    "start_time": "2023-03-08T09:42:14.371Z"
   },
   {
    "duration": 6,
    "start_time": "2023-03-08T09:42:14.935Z"
   },
   {
    "duration": 14,
    "start_time": "2023-03-08T09:42:14.943Z"
   },
   {
    "duration": 54,
    "start_time": "2023-03-08T09:42:14.959Z"
   },
   {
    "duration": 251,
    "start_time": "2023-03-08T09:42:15.014Z"
   },
   {
    "duration": 555,
    "start_time": "2023-03-08T09:42:15.266Z"
   },
   {
    "duration": 727,
    "start_time": "2023-03-08T09:42:15.823Z"
   },
   {
    "duration": 540,
    "start_time": "2023-03-08T09:42:16.552Z"
   },
   {
    "duration": 543,
    "start_time": "2023-03-08T09:42:17.094Z"
   },
   {
    "duration": 22,
    "start_time": "2023-03-08T09:42:17.639Z"
   },
   {
    "duration": 499,
    "start_time": "2023-03-08T09:42:17.663Z"
   },
   {
    "duration": 435,
    "start_time": "2023-03-08T09:42:18.163Z"
   },
   {
    "duration": 164,
    "start_time": "2023-03-08T09:42:18.600Z"
   },
   {
    "duration": 7,
    "start_time": "2023-03-08T09:42:18.767Z"
   },
   {
    "duration": 10,
    "start_time": "2023-03-08T09:42:18.776Z"
   },
   {
    "duration": 19,
    "start_time": "2023-03-08T09:43:24.342Z"
   },
   {
    "duration": 4,
    "start_time": "2023-03-08T09:43:42.254Z"
   },
   {
    "duration": 5,
    "start_time": "2023-03-08T09:45:17.335Z"
   },
   {
    "duration": 211,
    "start_time": "2023-03-08T09:45:18.922Z"
   },
   {
    "duration": 8,
    "start_time": "2023-03-08T09:45:25.327Z"
   },
   {
    "duration": 431,
    "start_time": "2023-03-08T09:45:29.667Z"
   },
   {
    "duration": 14,
    "start_time": "2023-03-08T09:45:30.100Z"
   },
   {
    "duration": 269,
    "start_time": "2023-03-08T09:45:30.115Z"
   },
   {
    "duration": 3,
    "start_time": "2023-03-08T09:45:30.385Z"
   },
   {
    "duration": 26,
    "start_time": "2023-03-08T09:45:30.390Z"
   },
   {
    "duration": 36,
    "start_time": "2023-03-08T09:45:30.417Z"
   },
   {
    "duration": 24,
    "start_time": "2023-03-08T09:45:30.455Z"
   },
   {
    "duration": 22,
    "start_time": "2023-03-08T09:45:30.480Z"
   },
   {
    "duration": 22,
    "start_time": "2023-03-08T09:45:30.504Z"
   },
   {
    "duration": 17,
    "start_time": "2023-03-08T09:45:30.529Z"
   },
   {
    "duration": 21,
    "start_time": "2023-03-08T09:45:30.548Z"
   },
   {
    "duration": 27,
    "start_time": "2023-03-08T09:45:30.570Z"
   },
   {
    "duration": 71,
    "start_time": "2023-03-08T09:45:30.599Z"
   },
   {
    "duration": 221,
    "start_time": "2023-03-08T09:45:30.671Z"
   },
   {
    "duration": 520,
    "start_time": "2023-03-08T09:45:30.894Z"
   },
   {
    "duration": 6,
    "start_time": "2023-03-08T09:45:31.416Z"
   },
   {
    "duration": 52,
    "start_time": "2023-03-08T09:45:31.423Z"
   },
   {
    "duration": 68,
    "start_time": "2023-03-08T09:45:31.477Z"
   },
   {
    "duration": 254,
    "start_time": "2023-03-08T09:45:31.548Z"
   },
   {
    "duration": 598,
    "start_time": "2023-03-08T09:45:31.803Z"
   },
   {
    "duration": 622,
    "start_time": "2023-03-08T09:45:32.403Z"
   },
   {
    "duration": 536,
    "start_time": "2023-03-08T09:45:33.032Z"
   },
   {
    "duration": 530,
    "start_time": "2023-03-08T09:45:33.570Z"
   },
   {
    "duration": 40,
    "start_time": "2023-03-08T09:45:34.102Z"
   },
   {
    "duration": 567,
    "start_time": "2023-03-08T09:45:34.145Z"
   },
   {
    "duration": 457,
    "start_time": "2023-03-08T09:45:34.713Z"
   },
   {
    "duration": 186,
    "start_time": "2023-03-08T09:45:35.172Z"
   },
   {
    "duration": 7,
    "start_time": "2023-03-08T09:45:35.362Z"
   },
   {
    "duration": 17,
    "start_time": "2023-03-08T09:45:35.370Z"
   },
   {
    "duration": 27,
    "start_time": "2023-03-08T09:45:35.388Z"
   },
   {
    "duration": 440,
    "start_time": "2023-03-08T09:46:07.361Z"
   },
   {
    "duration": 13,
    "start_time": "2023-03-08T09:46:07.803Z"
   },
   {
    "duration": 267,
    "start_time": "2023-03-08T09:46:07.817Z"
   },
   {
    "duration": 3,
    "start_time": "2023-03-08T09:46:08.086Z"
   },
   {
    "duration": 6,
    "start_time": "2023-03-08T09:46:08.091Z"
   },
   {
    "duration": 14,
    "start_time": "2023-03-08T09:46:08.098Z"
   },
   {
    "duration": 5,
    "start_time": "2023-03-08T09:46:08.113Z"
   },
   {
    "duration": 18,
    "start_time": "2023-03-08T09:46:08.119Z"
   },
   {
    "duration": 6,
    "start_time": "2023-03-08T09:46:08.139Z"
   },
   {
    "duration": 6,
    "start_time": "2023-03-08T09:46:08.147Z"
   },
   {
    "duration": 4,
    "start_time": "2023-03-08T09:46:08.155Z"
   },
   {
    "duration": 7,
    "start_time": "2023-03-08T09:46:08.160Z"
   },
   {
    "duration": 14,
    "start_time": "2023-03-08T09:46:08.168Z"
   },
   {
    "duration": 210,
    "start_time": "2023-03-08T09:46:08.185Z"
   },
   {
    "duration": 501,
    "start_time": "2023-03-08T09:46:08.397Z"
   },
   {
    "duration": 7,
    "start_time": "2023-03-08T09:46:08.900Z"
   },
   {
    "duration": 30,
    "start_time": "2023-03-08T09:46:08.909Z"
   },
   {
    "duration": 62,
    "start_time": "2023-03-08T09:46:08.941Z"
   },
   {
    "duration": 231,
    "start_time": "2023-03-08T09:46:09.004Z"
   },
   {
    "duration": 573,
    "start_time": "2023-03-08T09:46:09.237Z"
   },
   {
    "duration": 625,
    "start_time": "2023-03-08T09:46:09.811Z"
   },
   {
    "duration": 524,
    "start_time": "2023-03-08T09:46:10.437Z"
   },
   {
    "duration": 541,
    "start_time": "2023-03-08T09:46:10.963Z"
   },
   {
    "duration": 30,
    "start_time": "2023-03-08T09:46:11.506Z"
   },
   {
    "duration": 478,
    "start_time": "2023-03-08T09:46:11.537Z"
   },
   {
    "duration": 409,
    "start_time": "2023-03-08T09:46:12.017Z"
   },
   {
    "duration": 153,
    "start_time": "2023-03-08T09:46:12.433Z"
   },
   {
    "duration": 97,
    "start_time": "2023-03-08T09:46:12.587Z"
   },
   {
    "duration": 0,
    "start_time": "2023-03-08T09:46:12.686Z"
   },
   {
    "duration": 10,
    "start_time": "2023-03-08T09:46:21.920Z"
   },
   {
    "duration": 7,
    "start_time": "2023-03-08T09:46:31.541Z"
   },
   {
    "duration": 10,
    "start_time": "2023-03-08T09:46:32.008Z"
   },
   {
    "duration": 10,
    "start_time": "2023-03-08T09:46:32.792Z"
   },
   {
    "duration": 10,
    "start_time": "2023-03-08T09:50:20.719Z"
   },
   {
    "duration": 54,
    "start_time": "2023-03-09T10:46:11.230Z"
   },
   {
    "duration": 11,
    "start_time": "2023-03-09T11:24:31.669Z"
   },
   {
    "duration": 745,
    "start_time": "2023-03-09T11:27:58.121Z"
   },
   {
    "duration": 22,
    "start_time": "2023-03-09T11:27:58.869Z"
   },
   {
    "duration": 564,
    "start_time": "2023-03-09T11:27:58.894Z"
   },
   {
    "duration": 6,
    "start_time": "2023-03-09T11:27:59.460Z"
   },
   {
    "duration": 10,
    "start_time": "2023-03-09T11:27:59.469Z"
   },
   {
    "duration": 40,
    "start_time": "2023-03-09T11:27:59.483Z"
   },
   {
    "duration": 9,
    "start_time": "2023-03-09T11:27:59.527Z"
   },
   {
    "duration": 25,
    "start_time": "2023-03-09T11:27:59.541Z"
   },
   {
    "duration": 9,
    "start_time": "2023-03-09T11:27:59.569Z"
   },
   {
    "duration": 9,
    "start_time": "2023-03-09T11:27:59.582Z"
   },
   {
    "duration": 10,
    "start_time": "2023-03-09T11:27:59.594Z"
   },
   {
    "duration": 25,
    "start_time": "2023-03-09T11:27:59.611Z"
   },
   {
    "duration": 40,
    "start_time": "2023-03-09T11:27:59.639Z"
   },
   {
    "duration": 315,
    "start_time": "2023-03-09T11:27:59.682Z"
   },
   {
    "duration": 894,
    "start_time": "2023-03-09T11:27:59.998Z"
   },
   {
    "duration": 9,
    "start_time": "2023-03-09T11:28:00.894Z"
   },
   {
    "duration": 94,
    "start_time": "2023-03-09T11:28:00.905Z"
   },
   {
    "duration": 137,
    "start_time": "2023-03-09T11:28:01.002Z"
   },
   {
    "duration": 432,
    "start_time": "2023-03-09T11:28:01.145Z"
   },
   {
    "duration": 717,
    "start_time": "2023-03-09T11:28:01.579Z"
   },
   {
    "duration": 803,
    "start_time": "2023-03-09T11:28:02.298Z"
   },
   {
    "duration": 731,
    "start_time": "2023-03-09T11:28:03.103Z"
   },
   {
    "duration": 725,
    "start_time": "2023-03-09T11:28:03.837Z"
   },
   {
    "duration": 775,
    "start_time": "2023-03-09T11:28:04.564Z"
   },
   {
    "duration": 31,
    "start_time": "2023-03-09T11:28:05.341Z"
   },
   {
    "duration": 587,
    "start_time": "2023-03-09T11:28:05.374Z"
   },
   {
    "duration": 512,
    "start_time": "2023-03-09T11:28:05.963Z"
   },
   {
    "duration": 198,
    "start_time": "2023-03-09T11:28:06.478Z"
   },
   {
    "duration": 7,
    "start_time": "2023-03-09T11:28:06.678Z"
   },
   {
    "duration": 13,
    "start_time": "2023-03-09T11:28:06.688Z"
   },
   {
    "duration": 30,
    "start_time": "2023-03-09T11:28:06.704Z"
   },
   {
    "duration": 493,
    "start_time": "2023-03-10T15:06:10.016Z"
   },
   {
    "duration": 15,
    "start_time": "2023-03-10T15:06:10.511Z"
   },
   {
    "duration": 333,
    "start_time": "2023-03-10T15:06:10.527Z"
   },
   {
    "duration": 3,
    "start_time": "2023-03-10T15:06:10.862Z"
   },
   {
    "duration": 23,
    "start_time": "2023-03-10T15:06:10.877Z"
   },
   {
    "duration": 26,
    "start_time": "2023-03-10T15:06:10.902Z"
   },
   {
    "duration": 6,
    "start_time": "2023-03-10T15:06:10.930Z"
   },
   {
    "duration": 14,
    "start_time": "2023-03-10T15:06:10.937Z"
   },
   {
    "duration": 9,
    "start_time": "2023-03-10T15:06:10.952Z"
   },
   {
    "duration": 11,
    "start_time": "2023-03-10T15:06:10.964Z"
   },
   {
    "duration": 8,
    "start_time": "2023-03-10T15:06:10.978Z"
   },
   {
    "duration": 14,
    "start_time": "2023-03-10T15:06:10.989Z"
   },
   {
    "duration": 17,
    "start_time": "2023-03-10T15:06:11.004Z"
   },
   {
    "duration": 251,
    "start_time": "2023-03-10T15:06:11.023Z"
   },
   {
    "duration": 254,
    "start_time": "2023-03-10T15:06:14.775Z"
   },
   {
    "duration": 280,
    "start_time": "2023-03-10T15:06:22.688Z"
   },
   {
    "duration": 563,
    "start_time": "2023-03-10T15:21:05.972Z"
   },
   {
    "duration": 16,
    "start_time": "2023-03-10T15:21:06.537Z"
   },
   {
    "duration": 312,
    "start_time": "2023-03-10T15:21:06.555Z"
   },
   {
    "duration": 6,
    "start_time": "2023-03-10T15:21:06.871Z"
   },
   {
    "duration": 29,
    "start_time": "2023-03-10T15:21:06.880Z"
   },
   {
    "duration": 36,
    "start_time": "2023-03-10T15:21:06.911Z"
   },
   {
    "duration": 5,
    "start_time": "2023-03-10T15:21:06.949Z"
   },
   {
    "duration": 34,
    "start_time": "2023-03-10T15:21:06.956Z"
   },
   {
    "duration": 27,
    "start_time": "2023-03-10T15:21:06.992Z"
   },
   {
    "duration": 62,
    "start_time": "2023-03-10T15:21:07.022Z"
   },
   {
    "duration": 19,
    "start_time": "2023-03-10T15:21:07.086Z"
   },
   {
    "duration": 30,
    "start_time": "2023-03-10T15:21:07.107Z"
   },
   {
    "duration": 39,
    "start_time": "2023-03-10T15:21:07.139Z"
   },
   {
    "duration": 236,
    "start_time": "2023-03-10T15:21:07.180Z"
   },
   {
    "duration": 609,
    "start_time": "2023-03-10T15:21:07.418Z"
   },
   {
    "duration": 7,
    "start_time": "2023-03-10T15:21:08.029Z"
   },
   {
    "duration": 26,
    "start_time": "2023-03-10T15:21:08.038Z"
   },
   {
    "duration": 68,
    "start_time": "2023-03-10T15:21:08.066Z"
   },
   {
    "duration": 257,
    "start_time": "2023-03-10T15:21:08.136Z"
   },
   {
    "duration": 628,
    "start_time": "2023-03-10T15:21:08.394Z"
   },
   {
    "duration": 777,
    "start_time": "2023-03-10T15:21:09.024Z"
   },
   {
    "duration": 628,
    "start_time": "2023-03-10T15:21:09.804Z"
   },
   {
    "duration": 651,
    "start_time": "2023-03-10T15:21:10.433Z"
   },
   {
    "duration": 754,
    "start_time": "2023-03-10T15:21:11.086Z"
   },
   {
    "duration": 39,
    "start_time": "2023-03-10T15:21:11.841Z"
   },
   {
    "duration": 478,
    "start_time": "2023-03-10T15:21:11.882Z"
   },
   {
    "duration": 571,
    "start_time": "2023-03-10T15:21:12.362Z"
   },
   {
    "duration": 192,
    "start_time": "2023-03-10T15:21:12.936Z"
   },
   {
    "duration": 8,
    "start_time": "2023-03-10T15:21:13.130Z"
   },
   {
    "duration": 34,
    "start_time": "2023-03-10T15:21:13.139Z"
   },
   {
    "duration": 45,
    "start_time": "2023-03-10T15:21:13.174Z"
   },
   {
    "duration": 51,
    "start_time": "2023-03-11T13:35:24.169Z"
   },
   {
    "duration": 1352,
    "start_time": "2023-03-11T13:35:33.414Z"
   },
   {
    "duration": 115,
    "start_time": "2023-03-11T13:35:34.768Z"
   },
   {
    "duration": 15,
    "start_time": "2023-03-11T13:35:34.884Z"
   },
   {
    "duration": 63,
    "start_time": "2023-03-11T13:35:34.901Z"
   },
   {
    "duration": 4,
    "start_time": "2023-03-11T13:35:34.966Z"
   },
   {
    "duration": 9,
    "start_time": "2023-03-11T13:35:34.971Z"
   },
   {
    "duration": 15,
    "start_time": "2023-03-11T13:35:34.982Z"
   },
   {
    "duration": 5,
    "start_time": "2023-03-11T13:35:34.999Z"
   },
   {
    "duration": 8,
    "start_time": "2023-03-11T13:35:35.006Z"
   },
   {
    "duration": 6,
    "start_time": "2023-03-11T13:35:35.016Z"
   },
   {
    "duration": 34,
    "start_time": "2023-03-11T13:35:35.023Z"
   },
   {
    "duration": 4,
    "start_time": "2023-03-11T13:35:35.059Z"
   },
   {
    "duration": 10,
    "start_time": "2023-03-11T13:35:35.065Z"
   },
   {
    "duration": 19,
    "start_time": "2023-03-11T13:35:35.078Z"
   },
   {
    "duration": 253,
    "start_time": "2023-03-11T13:35:35.099Z"
   },
   {
    "duration": 694,
    "start_time": "2023-03-11T13:35:35.354Z"
   },
   {
    "duration": 7,
    "start_time": "2023-03-11T13:35:36.051Z"
   },
   {
    "duration": 21,
    "start_time": "2023-03-11T13:35:36.059Z"
   },
   {
    "duration": 7,
    "start_time": "2023-03-11T13:35:36.082Z"
   },
   {
    "duration": 278,
    "start_time": "2023-03-11T13:35:36.090Z"
   },
   {
    "duration": 172,
    "start_time": "2023-03-11T13:35:36.370Z"
   },
   {
    "duration": 693,
    "start_time": "2023-03-11T13:35:36.544Z"
   },
   {
    "duration": 621,
    "start_time": "2023-03-11T13:35:37.238Z"
   },
   {
    "duration": 703,
    "start_time": "2023-03-11T13:35:37.861Z"
   },
   {
    "duration": 614,
    "start_time": "2023-03-11T13:35:38.565Z"
   },
   {
    "duration": 39,
    "start_time": "2023-03-11T13:35:39.182Z"
   },
   {
    "duration": 483,
    "start_time": "2023-03-11T13:35:39.223Z"
   },
   {
    "duration": 473,
    "start_time": "2023-03-11T13:35:39.708Z"
   },
   {
    "duration": 291,
    "start_time": "2023-03-11T13:35:40.183Z"
   },
   {
    "duration": 7,
    "start_time": "2023-03-11T13:35:40.475Z"
   },
   {
    "duration": 37,
    "start_time": "2023-03-11T13:35:40.484Z"
   },
   {
    "duration": 39,
    "start_time": "2023-03-11T13:35:40.523Z"
   },
   {
    "duration": 204,
    "start_time": "2023-03-11T13:36:41.153Z"
   },
   {
    "duration": 211,
    "start_time": "2023-03-11T13:36:50.630Z"
   },
   {
    "duration": 229,
    "start_time": "2023-03-11T13:37:08.578Z"
   },
   {
    "duration": 151,
    "start_time": "2023-03-11T13:37:22.917Z"
   },
   {
    "duration": 1132,
    "start_time": "2023-03-11T13:37:31.181Z"
   },
   {
    "duration": 72,
    "start_time": "2023-03-11T13:37:32.315Z"
   },
   {
    "duration": 14,
    "start_time": "2023-03-11T13:37:32.388Z"
   },
   {
    "duration": 62,
    "start_time": "2023-03-11T13:37:32.404Z"
   },
   {
    "duration": 3,
    "start_time": "2023-03-11T13:37:32.468Z"
   },
   {
    "duration": 24,
    "start_time": "2023-03-11T13:37:32.473Z"
   },
   {
    "duration": 49,
    "start_time": "2023-03-11T13:37:32.499Z"
   },
   {
    "duration": 6,
    "start_time": "2023-03-11T13:37:32.551Z"
   },
   {
    "duration": 10,
    "start_time": "2023-03-11T13:37:32.558Z"
   },
   {
    "duration": 29,
    "start_time": "2023-03-11T13:37:32.569Z"
   },
   {
    "duration": 18,
    "start_time": "2023-03-11T13:37:32.600Z"
   },
   {
    "duration": 5,
    "start_time": "2023-03-11T13:37:32.619Z"
   },
   {
    "duration": 14,
    "start_time": "2023-03-11T13:37:32.625Z"
   },
   {
    "duration": 20,
    "start_time": "2023-03-11T13:37:32.642Z"
   },
   {
    "duration": 199,
    "start_time": "2023-03-11T13:37:32.664Z"
   },
   {
    "duration": 583,
    "start_time": "2023-03-11T13:37:32.865Z"
   },
   {
    "duration": 6,
    "start_time": "2023-03-11T13:37:33.450Z"
   },
   {
    "duration": 16,
    "start_time": "2023-03-11T13:37:33.458Z"
   },
   {
    "duration": 29,
    "start_time": "2023-03-11T13:37:33.475Z"
   },
   {
    "duration": 275,
    "start_time": "2023-03-11T13:37:33.506Z"
   },
   {
    "duration": 201,
    "start_time": "2023-03-11T13:37:33.783Z"
   },
   {
    "duration": 762,
    "start_time": "2023-03-11T13:37:33.986Z"
   },
   {
    "duration": 636,
    "start_time": "2023-03-11T13:37:34.750Z"
   },
   {
    "duration": 652,
    "start_time": "2023-03-11T13:37:35.388Z"
   },
   {
    "duration": 940,
    "start_time": "2023-03-11T13:37:36.042Z"
   },
   {
    "duration": 81,
    "start_time": "2023-03-11T13:37:36.983Z"
   },
   {
    "duration": 902,
    "start_time": "2023-03-11T13:37:37.065Z"
   },
   {
    "duration": 642,
    "start_time": "2023-03-11T13:37:37.969Z"
   },
   {
    "duration": 184,
    "start_time": "2023-03-11T13:37:38.613Z"
   },
   {
    "duration": 8,
    "start_time": "2023-03-11T13:37:38.798Z"
   },
   {
    "duration": 12,
    "start_time": "2023-03-11T13:37:38.807Z"
   },
   {
    "duration": 24,
    "start_time": "2023-03-11T13:37:38.820Z"
   },
   {
    "duration": 20,
    "start_time": "2023-03-11T13:45:15.935Z"
   },
   {
    "duration": 136,
    "start_time": "2023-03-11T13:46:40.436Z"
   },
   {
    "duration": 13,
    "start_time": "2023-03-11T13:46:50.631Z"
   },
   {
    "duration": 18,
    "start_time": "2023-03-11T13:47:22.402Z"
   },
   {
    "duration": 14,
    "start_time": "2023-03-11T13:47:37.880Z"
   },
   {
    "duration": 1208,
    "start_time": "2023-03-11T13:47:53.665Z"
   },
   {
    "duration": 73,
    "start_time": "2023-03-11T13:47:54.875Z"
   },
   {
    "duration": 16,
    "start_time": "2023-03-11T13:47:54.950Z"
   },
   {
    "duration": 57,
    "start_time": "2023-03-11T13:47:54.969Z"
   },
   {
    "duration": 3,
    "start_time": "2023-03-11T13:47:55.028Z"
   },
   {
    "duration": 26,
    "start_time": "2023-03-11T13:47:55.032Z"
   },
   {
    "duration": 16,
    "start_time": "2023-03-11T13:47:55.059Z"
   },
   {
    "duration": 6,
    "start_time": "2023-03-11T13:47:55.077Z"
   },
   {
    "duration": 7,
    "start_time": "2023-03-11T13:47:55.085Z"
   },
   {
    "duration": 6,
    "start_time": "2023-03-11T13:47:55.096Z"
   },
   {
    "duration": 10,
    "start_time": "2023-03-11T13:47:55.103Z"
   },
   {
    "duration": 43,
    "start_time": "2023-03-11T13:47:55.115Z"
   },
   {
    "duration": 4,
    "start_time": "2023-03-11T13:47:55.161Z"
   },
   {
    "duration": 19,
    "start_time": "2023-03-11T13:47:55.166Z"
   },
   {
    "duration": 246,
    "start_time": "2023-03-11T13:47:55.186Z"
   },
   {
    "duration": 32,
    "start_time": "2023-03-11T13:47:55.434Z"
   },
   {
    "duration": 612,
    "start_time": "2023-03-11T13:47:55.468Z"
   },
   {
    "duration": 6,
    "start_time": "2023-03-11T13:47:56.082Z"
   },
   {
    "duration": 18,
    "start_time": "2023-03-11T13:47:56.090Z"
   },
   {
    "duration": 7,
    "start_time": "2023-03-11T13:47:56.109Z"
   },
   {
    "duration": 241,
    "start_time": "2023-03-11T13:47:56.117Z"
   },
   {
    "duration": 187,
    "start_time": "2023-03-11T13:47:56.360Z"
   },
   {
    "duration": 840,
    "start_time": "2023-03-11T13:47:56.548Z"
   },
   {
    "duration": 617,
    "start_time": "2023-03-11T13:47:57.389Z"
   },
   {
    "duration": 649,
    "start_time": "2023-03-11T13:47:58.008Z"
   },
   {
    "duration": 814,
    "start_time": "2023-03-11T13:47:58.659Z"
   },
   {
    "duration": 84,
    "start_time": "2023-03-11T13:47:59.474Z"
   },
   {
    "duration": 900,
    "start_time": "2023-03-11T13:47:59.562Z"
   },
   {
    "duration": 867,
    "start_time": "2023-03-11T13:48:00.464Z"
   },
   {
    "duration": 356,
    "start_time": "2023-03-11T13:48:01.333Z"
   },
   {
    "duration": 11,
    "start_time": "2023-03-11T13:48:01.691Z"
   },
   {
    "duration": 15,
    "start_time": "2023-03-11T13:48:01.758Z"
   },
   {
    "duration": 35,
    "start_time": "2023-03-11T13:48:01.775Z"
   },
   {
    "duration": 6,
    "start_time": "2023-03-11T13:53:41.126Z"
   },
   {
    "duration": 14,
    "start_time": "2023-03-11T13:53:46.395Z"
   },
   {
    "duration": 1151,
    "start_time": "2023-03-11T13:53:57.322Z"
   },
   {
    "duration": 93,
    "start_time": "2023-03-11T13:53:58.475Z"
   },
   {
    "duration": 14,
    "start_time": "2023-03-11T13:53:58.570Z"
   },
   {
    "duration": 78,
    "start_time": "2023-03-11T13:53:58.586Z"
   },
   {
    "duration": 3,
    "start_time": "2023-03-11T13:53:58.666Z"
   },
   {
    "duration": 10,
    "start_time": "2023-03-11T13:53:58.670Z"
   },
   {
    "duration": 17,
    "start_time": "2023-03-11T13:53:58.682Z"
   },
   {
    "duration": 5,
    "start_time": "2023-03-11T13:53:58.701Z"
   },
   {
    "duration": 10,
    "start_time": "2023-03-11T13:53:58.708Z"
   },
   {
    "duration": 6,
    "start_time": "2023-03-11T13:53:58.721Z"
   },
   {
    "duration": 30,
    "start_time": "2023-03-11T13:53:58.729Z"
   },
   {
    "duration": 5,
    "start_time": "2023-03-11T13:53:58.761Z"
   },
   {
    "duration": 7,
    "start_time": "2023-03-11T13:53:58.768Z"
   },
   {
    "duration": 16,
    "start_time": "2023-03-11T13:53:58.776Z"
   },
   {
    "duration": 231,
    "start_time": "2023-03-11T13:53:58.794Z"
   },
   {
    "duration": 18,
    "start_time": "2023-03-11T13:53:59.027Z"
   },
   {
    "duration": 573,
    "start_time": "2023-03-11T13:53:59.047Z"
   },
   {
    "duration": 6,
    "start_time": "2023-03-11T13:53:59.622Z"
   },
   {
    "duration": 18,
    "start_time": "2023-03-11T13:53:59.631Z"
   },
   {
    "duration": 7,
    "start_time": "2023-03-11T13:53:59.657Z"
   },
   {
    "duration": 278,
    "start_time": "2023-03-11T13:53:59.666Z"
   },
   {
    "duration": 188,
    "start_time": "2023-03-11T13:53:59.945Z"
   },
   {
    "duration": 722,
    "start_time": "2023-03-11T13:54:00.135Z"
   },
   {
    "duration": 683,
    "start_time": "2023-03-11T13:54:00.859Z"
   },
   {
    "duration": 642,
    "start_time": "2023-03-11T13:54:01.544Z"
   },
   {
    "duration": 740,
    "start_time": "2023-03-11T13:54:02.188Z"
   },
   {
    "duration": 40,
    "start_time": "2023-03-11T13:54:02.930Z"
   },
   {
    "duration": 441,
    "start_time": "2023-03-11T13:54:02.973Z"
   },
   {
    "duration": 480,
    "start_time": "2023-03-11T13:54:03.415Z"
   },
   {
    "duration": 215,
    "start_time": "2023-03-11T13:54:03.897Z"
   },
   {
    "duration": 13,
    "start_time": "2023-03-11T13:54:04.115Z"
   },
   {
    "duration": 19,
    "start_time": "2023-03-11T13:54:04.130Z"
   },
   {
    "duration": 31,
    "start_time": "2023-03-11T13:54:04.158Z"
   },
   {
    "duration": 7,
    "start_time": "2023-03-11T13:55:53.277Z"
   },
   {
    "duration": 1219,
    "start_time": "2023-03-11T13:57:10.468Z"
   },
   {
    "duration": 75,
    "start_time": "2023-03-11T13:57:11.688Z"
   },
   {
    "duration": 15,
    "start_time": "2023-03-11T13:57:11.765Z"
   },
   {
    "duration": 53,
    "start_time": "2023-03-11T13:57:11.782Z"
   },
   {
    "duration": 3,
    "start_time": "2023-03-11T13:57:11.837Z"
   },
   {
    "duration": 20,
    "start_time": "2023-03-11T13:57:11.842Z"
   },
   {
    "duration": 18,
    "start_time": "2023-03-11T13:57:11.864Z"
   },
   {
    "duration": 6,
    "start_time": "2023-03-11T13:57:11.884Z"
   },
   {
    "duration": 13,
    "start_time": "2023-03-11T13:57:11.891Z"
   },
   {
    "duration": 10,
    "start_time": "2023-03-11T13:57:11.906Z"
   },
   {
    "duration": 14,
    "start_time": "2023-03-11T13:57:11.917Z"
   },
   {
    "duration": 35,
    "start_time": "2023-03-11T13:57:11.933Z"
   },
   {
    "duration": 8,
    "start_time": "2023-03-11T13:57:11.970Z"
   },
   {
    "duration": 19,
    "start_time": "2023-03-11T13:57:11.979Z"
   },
   {
    "duration": 198,
    "start_time": "2023-03-11T13:57:12.000Z"
   },
   {
    "duration": 19,
    "start_time": "2023-03-11T13:57:12.200Z"
   },
   {
    "duration": 631,
    "start_time": "2023-03-11T13:57:12.221Z"
   },
   {
    "duration": 8,
    "start_time": "2023-03-11T13:57:12.854Z"
   },
   {
    "duration": 26,
    "start_time": "2023-03-11T13:57:12.863Z"
   },
   {
    "duration": 7,
    "start_time": "2023-03-11T13:57:12.891Z"
   },
   {
    "duration": 291,
    "start_time": "2023-03-11T13:57:12.900Z"
   },
   {
    "duration": 204,
    "start_time": "2023-03-11T13:57:13.193Z"
   },
   {
    "duration": 728,
    "start_time": "2023-03-11T13:57:13.398Z"
   },
   {
    "duration": 660,
    "start_time": "2023-03-11T13:57:14.127Z"
   },
   {
    "duration": 718,
    "start_time": "2023-03-11T13:57:14.789Z"
   },
   {
    "duration": 802,
    "start_time": "2023-03-11T13:57:15.509Z"
   },
   {
    "duration": 26,
    "start_time": "2023-03-11T13:57:16.312Z"
   },
   {
    "duration": 437,
    "start_time": "2023-03-11T13:57:16.356Z"
   },
   {
    "duration": 453,
    "start_time": "2023-03-11T13:57:16.795Z"
   },
   {
    "duration": 198,
    "start_time": "2023-03-11T13:57:17.250Z"
   },
   {
    "duration": 11,
    "start_time": "2023-03-11T13:57:17.450Z"
   },
   {
    "duration": 12,
    "start_time": "2023-03-11T13:57:17.462Z"
   },
   {
    "duration": 20,
    "start_time": "2023-03-11T13:57:17.475Z"
   },
   {
    "duration": 196,
    "start_time": "2023-03-11T14:08:18.991Z"
   },
   {
    "duration": 555,
    "start_time": "2023-03-11T14:19:46.946Z"
   },
   {
    "duration": 1179,
    "start_time": "2023-03-11T14:19:58.203Z"
   },
   {
    "duration": 77,
    "start_time": "2023-03-11T14:19:59.384Z"
   },
   {
    "duration": 15,
    "start_time": "2023-03-11T14:19:59.463Z"
   },
   {
    "duration": 85,
    "start_time": "2023-03-11T14:19:59.481Z"
   },
   {
    "duration": 7,
    "start_time": "2023-03-11T14:19:59.568Z"
   },
   {
    "duration": 28,
    "start_time": "2023-03-11T14:19:59.577Z"
   },
   {
    "duration": 28,
    "start_time": "2023-03-11T14:19:59.607Z"
   },
   {
    "duration": 7,
    "start_time": "2023-03-11T14:19:59.637Z"
   },
   {
    "duration": 14,
    "start_time": "2023-03-11T14:19:59.645Z"
   },
   {
    "duration": 11,
    "start_time": "2023-03-11T14:19:59.661Z"
   },
   {
    "duration": 10,
    "start_time": "2023-03-11T14:19:59.674Z"
   },
   {
    "duration": 6,
    "start_time": "2023-03-11T14:19:59.686Z"
   },
   {
    "duration": 13,
    "start_time": "2023-03-11T14:19:59.694Z"
   },
   {
    "duration": 18,
    "start_time": "2023-03-11T14:19:59.709Z"
   },
   {
    "duration": 209,
    "start_time": "2023-03-11T14:19:59.729Z"
   },
   {
    "duration": 23,
    "start_time": "2023-03-11T14:19:59.941Z"
   },
   {
    "duration": 626,
    "start_time": "2023-03-11T14:19:59.966Z"
   },
   {
    "duration": 10,
    "start_time": "2023-03-11T14:20:00.594Z"
   },
   {
    "duration": 43,
    "start_time": "2023-03-11T14:20:00.607Z"
   },
   {
    "duration": 25,
    "start_time": "2023-03-11T14:20:00.652Z"
   },
   {
    "duration": 317,
    "start_time": "2023-03-11T14:20:00.679Z"
   },
   {
    "duration": 263,
    "start_time": "2023-03-11T14:20:00.998Z"
   },
   {
    "duration": 615,
    "start_time": "2023-03-11T14:20:01.263Z"
   },
   {
    "duration": 1925,
    "start_time": "2023-03-11T14:20:01.881Z"
   },
   {
    "duration": 819,
    "start_time": "2023-03-11T14:20:03.808Z"
   },
   {
    "duration": 671,
    "start_time": "2023-03-11T14:20:04.629Z"
   },
   {
    "duration": 894,
    "start_time": "2023-03-11T14:20:05.302Z"
   },
   {
    "duration": 56,
    "start_time": "2023-03-11T14:20:06.202Z"
   },
   {
    "duration": 622,
    "start_time": "2023-03-11T14:20:06.261Z"
   },
   {
    "duration": 417,
    "start_time": "2023-03-11T14:20:06.885Z"
   },
   {
    "duration": 262,
    "start_time": "2023-03-11T14:20:07.305Z"
   },
   {
    "duration": 10,
    "start_time": "2023-03-11T14:20:07.569Z"
   },
   {
    "duration": 18,
    "start_time": "2023-03-11T14:20:07.580Z"
   },
   {
    "duration": 12,
    "start_time": "2023-03-11T14:20:07.600Z"
   },
   {
    "duration": 310,
    "start_time": "2023-03-11T14:21:08.037Z"
   },
   {
    "duration": 203,
    "start_time": "2023-03-11T14:21:16.618Z"
   },
   {
    "duration": 534,
    "start_time": "2023-03-11T14:21:56.555Z"
   },
   {
    "duration": 528,
    "start_time": "2023-03-11T14:22:43.630Z"
   },
   {
    "duration": 46,
    "start_time": "2023-03-11T18:27:09.795Z"
   },
   {
    "duration": 1339,
    "start_time": "2023-03-11T18:27:16.440Z"
   },
   {
    "duration": 124,
    "start_time": "2023-03-11T18:27:17.781Z"
   },
   {
    "duration": 14,
    "start_time": "2023-03-11T18:27:17.906Z"
   },
   {
    "duration": 54,
    "start_time": "2023-03-11T18:27:17.922Z"
   },
   {
    "duration": 3,
    "start_time": "2023-03-11T18:27:17.978Z"
   },
   {
    "duration": 8,
    "start_time": "2023-03-11T18:27:17.982Z"
   },
   {
    "duration": 14,
    "start_time": "2023-03-11T18:27:17.992Z"
   },
   {
    "duration": 5,
    "start_time": "2023-03-11T18:27:18.008Z"
   },
   {
    "duration": 8,
    "start_time": "2023-03-11T18:27:18.014Z"
   },
   {
    "duration": 33,
    "start_time": "2023-03-11T18:27:18.024Z"
   },
   {
    "duration": 6,
    "start_time": "2023-03-11T18:27:18.059Z"
   },
   {
    "duration": 4,
    "start_time": "2023-03-11T18:27:18.067Z"
   },
   {
    "duration": 16,
    "start_time": "2023-03-11T18:27:18.073Z"
   },
   {
    "duration": 21,
    "start_time": "2023-03-11T18:27:18.090Z"
   },
   {
    "duration": 194,
    "start_time": "2023-03-11T18:27:18.113Z"
   },
   {
    "duration": 18,
    "start_time": "2023-03-11T18:27:18.309Z"
   },
   {
    "duration": 563,
    "start_time": "2023-03-11T18:27:18.329Z"
   },
   {
    "duration": 8,
    "start_time": "2023-03-11T18:27:18.893Z"
   },
   {
    "duration": 16,
    "start_time": "2023-03-11T18:27:18.902Z"
   },
   {
    "duration": 6,
    "start_time": "2023-03-11T18:27:18.920Z"
   },
   {
    "duration": 280,
    "start_time": "2023-03-11T18:27:18.927Z"
   },
   {
    "duration": 193,
    "start_time": "2023-03-11T18:27:19.208Z"
   },
   {
    "duration": 198,
    "start_time": "2023-03-11T18:27:19.403Z"
   },
   {
    "duration": 718,
    "start_time": "2023-03-11T18:27:19.603Z"
   },
   {
    "duration": 618,
    "start_time": "2023-03-11T18:27:20.323Z"
   },
   {
    "duration": 623,
    "start_time": "2023-03-11T18:27:20.942Z"
   },
   {
    "duration": 690,
    "start_time": "2023-03-11T18:27:21.567Z"
   },
   {
    "duration": 25,
    "start_time": "2023-03-11T18:27:22.260Z"
   },
   {
    "duration": 74,
    "start_time": "2023-03-11T18:27:22.286Z"
   },
   {
    "duration": 0,
    "start_time": "2023-03-11T18:27:22.362Z"
   },
   {
    "duration": 0,
    "start_time": "2023-03-11T18:27:22.363Z"
   },
   {
    "duration": 0,
    "start_time": "2023-03-11T18:27:22.364Z"
   },
   {
    "duration": 0,
    "start_time": "2023-03-11T18:27:22.365Z"
   },
   {
    "duration": 0,
    "start_time": "2023-03-11T18:27:22.366Z"
   },
   {
    "duration": 69,
    "start_time": "2023-03-11T18:55:18.754Z"
   },
   {
    "duration": 1181,
    "start_time": "2023-03-11T18:55:33.321Z"
   },
   {
    "duration": 74,
    "start_time": "2023-03-11T18:55:34.504Z"
   },
   {
    "duration": 15,
    "start_time": "2023-03-11T18:55:34.580Z"
   },
   {
    "duration": 66,
    "start_time": "2023-03-11T18:55:34.597Z"
   },
   {
    "duration": 4,
    "start_time": "2023-03-11T18:55:34.664Z"
   },
   {
    "duration": 37,
    "start_time": "2023-03-11T18:55:34.670Z"
   },
   {
    "duration": 30,
    "start_time": "2023-03-11T18:55:34.709Z"
   },
   {
    "duration": 5,
    "start_time": "2023-03-11T18:55:34.741Z"
   },
   {
    "duration": 26,
    "start_time": "2023-03-11T18:55:34.748Z"
   },
   {
    "duration": 21,
    "start_time": "2023-03-11T18:55:34.777Z"
   },
   {
    "duration": 9,
    "start_time": "2023-03-11T18:55:34.800Z"
   },
   {
    "duration": 15,
    "start_time": "2023-03-11T18:55:34.811Z"
   },
   {
    "duration": 9,
    "start_time": "2023-03-11T18:55:34.828Z"
   },
   {
    "duration": 32,
    "start_time": "2023-03-11T18:55:34.838Z"
   },
   {
    "duration": 211,
    "start_time": "2023-03-11T18:55:34.871Z"
   },
   {
    "duration": 17,
    "start_time": "2023-03-11T18:55:35.084Z"
   },
   {
    "duration": 665,
    "start_time": "2023-03-11T18:55:35.103Z"
   },
   {
    "duration": 7,
    "start_time": "2023-03-11T18:55:35.770Z"
   },
   {
    "duration": 41,
    "start_time": "2023-03-11T18:55:35.778Z"
   },
   {
    "duration": 25,
    "start_time": "2023-03-11T18:55:35.821Z"
   },
   {
    "duration": 284,
    "start_time": "2023-03-11T18:55:35.848Z"
   },
   {
    "duration": 200,
    "start_time": "2023-03-11T18:55:36.134Z"
   },
   {
    "duration": 192,
    "start_time": "2023-03-11T18:55:36.336Z"
   },
   {
    "duration": 713,
    "start_time": "2023-03-11T18:55:36.530Z"
   },
   {
    "duration": 625,
    "start_time": "2023-03-11T18:55:37.245Z"
   },
   {
    "duration": 1116,
    "start_time": "2023-03-11T18:55:37.871Z"
   },
   {
    "duration": 1122,
    "start_time": "2023-03-11T18:55:38.989Z"
   },
   {
    "duration": 26,
    "start_time": "2023-03-11T18:55:40.114Z"
   },
   {
    "duration": 74,
    "start_time": "2023-03-11T18:55:40.142Z"
   },
   {
    "duration": 0,
    "start_time": "2023-03-11T18:55:40.218Z"
   },
   {
    "duration": 0,
    "start_time": "2023-03-11T18:55:40.219Z"
   },
   {
    "duration": 0,
    "start_time": "2023-03-11T18:55:40.222Z"
   },
   {
    "duration": 0,
    "start_time": "2023-03-11T18:55:40.224Z"
   },
   {
    "duration": 0,
    "start_time": "2023-03-11T18:55:40.226Z"
   },
   {
    "duration": 388,
    "start_time": "2023-03-11T18:56:09.188Z"
   },
   {
    "duration": 189,
    "start_time": "2023-03-11T18:56:27.174Z"
   },
   {
    "duration": 89,
    "start_time": "2023-03-11T18:57:04.128Z"
   },
   {
    "duration": 84,
    "start_time": "2023-03-11T18:57:26.980Z"
   },
   {
    "duration": 422,
    "start_time": "2023-03-11T18:57:37.526Z"
   },
   {
    "duration": 449,
    "start_time": "2023-03-11T18:57:57.453Z"
   },
   {
    "duration": 1407,
    "start_time": "2023-03-12T17:47:26.702Z"
   },
   {
    "duration": 145,
    "start_time": "2023-03-12T17:47:28.111Z"
   },
   {
    "duration": 25,
    "start_time": "2023-03-12T17:47:28.269Z"
   },
   {
    "duration": 68,
    "start_time": "2023-03-12T17:47:28.298Z"
   },
   {
    "duration": 6,
    "start_time": "2023-03-12T17:47:28.368Z"
   },
   {
    "duration": 23,
    "start_time": "2023-03-12T17:47:28.375Z"
   },
   {
    "duration": 16,
    "start_time": "2023-03-12T17:47:28.399Z"
   },
   {
    "duration": 7,
    "start_time": "2023-03-12T17:47:28.417Z"
   },
   {
    "duration": 24,
    "start_time": "2023-03-12T17:47:28.426Z"
   },
   {
    "duration": 22,
    "start_time": "2023-03-12T17:47:28.453Z"
   },
   {
    "duration": 21,
    "start_time": "2023-03-12T17:47:28.477Z"
   },
   {
    "duration": 7,
    "start_time": "2023-03-12T17:47:28.499Z"
   },
   {
    "duration": 7,
    "start_time": "2023-03-12T17:47:28.507Z"
   },
   {
    "duration": 20,
    "start_time": "2023-03-12T17:47:28.515Z"
   },
   {
    "duration": 204,
    "start_time": "2023-03-12T17:47:28.536Z"
   },
   {
    "duration": 38,
    "start_time": "2023-03-12T17:47:28.742Z"
   },
   {
    "duration": 631,
    "start_time": "2023-03-12T17:47:28.785Z"
   },
   {
    "duration": 8,
    "start_time": "2023-03-12T17:47:29.417Z"
   },
   {
    "duration": 18,
    "start_time": "2023-03-12T17:47:29.427Z"
   },
   {
    "duration": 9,
    "start_time": "2023-03-12T17:47:29.447Z"
   },
   {
    "duration": 338,
    "start_time": "2023-03-12T17:47:29.457Z"
   },
   {
    "duration": 210,
    "start_time": "2023-03-12T17:47:29.797Z"
   },
   {
    "duration": 208,
    "start_time": "2023-03-12T17:47:30.009Z"
   },
   {
    "duration": 786,
    "start_time": "2023-03-12T17:47:30.219Z"
   },
   {
    "duration": 707,
    "start_time": "2023-03-12T17:47:31.007Z"
   },
   {
    "duration": 811,
    "start_time": "2023-03-12T17:47:31.715Z"
   },
   {
    "duration": 697,
    "start_time": "2023-03-12T17:47:32.528Z"
   },
   {
    "duration": 40,
    "start_time": "2023-03-12T17:47:33.228Z"
   },
   {
    "duration": 469,
    "start_time": "2023-03-12T17:47:33.270Z"
   },
   {
    "duration": 457,
    "start_time": "2023-03-12T17:47:33.741Z"
   },
   {
    "duration": 350,
    "start_time": "2023-03-12T17:47:34.200Z"
   },
   {
    "duration": 7,
    "start_time": "2023-03-12T17:47:34.552Z"
   },
   {
    "duration": 44,
    "start_time": "2023-03-12T17:47:34.563Z"
   },
   {
    "duration": 10,
    "start_time": "2023-03-12T17:47:34.608Z"
   },
   {
    "duration": 48,
    "start_time": "2023-05-23T13:13:24.475Z"
   },
   {
    "duration": 1251,
    "start_time": "2023-05-23T13:13:31.538Z"
   },
   {
    "duration": 205,
    "start_time": "2023-05-23T13:13:32.791Z"
   },
   {
    "duration": 18,
    "start_time": "2023-05-23T13:13:32.997Z"
   },
   {
    "duration": 52,
    "start_time": "2023-05-23T13:13:33.017Z"
   },
   {
    "duration": 3,
    "start_time": "2023-05-23T13:13:33.070Z"
   },
   {
    "duration": 15,
    "start_time": "2023-05-23T13:13:33.074Z"
   },
   {
    "duration": 17,
    "start_time": "2023-05-23T13:13:33.090Z"
   },
   {
    "duration": 5,
    "start_time": "2023-05-23T13:13:33.117Z"
   },
   {
    "duration": 6,
    "start_time": "2023-05-23T13:13:33.124Z"
   },
   {
    "duration": 6,
    "start_time": "2023-05-23T13:13:33.133Z"
   },
   {
    "duration": 7,
    "start_time": "2023-05-23T13:13:33.140Z"
   },
   {
    "duration": 3,
    "start_time": "2023-05-23T13:13:33.149Z"
   },
   {
    "duration": 6,
    "start_time": "2023-05-23T13:13:33.154Z"
   },
   {
    "duration": 19,
    "start_time": "2023-05-23T13:13:33.161Z"
   },
   {
    "duration": 176,
    "start_time": "2023-05-23T13:13:33.181Z"
   },
   {
    "duration": 97,
    "start_time": "2023-05-23T13:13:33.359Z"
   },
   {
    "duration": 0,
    "start_time": "2023-05-23T13:13:33.458Z"
   },
   {
    "duration": 0,
    "start_time": "2023-05-23T13:13:33.459Z"
   },
   {
    "duration": 0,
    "start_time": "2023-05-23T13:13:33.460Z"
   },
   {
    "duration": 0,
    "start_time": "2023-05-23T13:13:33.461Z"
   },
   {
    "duration": 0,
    "start_time": "2023-05-23T13:13:33.462Z"
   },
   {
    "duration": 0,
    "start_time": "2023-05-23T13:13:33.463Z"
   },
   {
    "duration": 0,
    "start_time": "2023-05-23T13:13:33.464Z"
   },
   {
    "duration": 0,
    "start_time": "2023-05-23T13:13:33.465Z"
   },
   {
    "duration": 0,
    "start_time": "2023-05-23T13:13:33.466Z"
   },
   {
    "duration": 0,
    "start_time": "2023-05-23T13:13:33.467Z"
   },
   {
    "duration": 0,
    "start_time": "2023-05-23T13:13:33.468Z"
   },
   {
    "duration": 0,
    "start_time": "2023-05-23T13:13:33.469Z"
   },
   {
    "duration": 0,
    "start_time": "2023-05-23T13:13:33.470Z"
   },
   {
    "duration": 0,
    "start_time": "2023-05-23T13:13:33.471Z"
   },
   {
    "duration": 0,
    "start_time": "2023-05-23T13:13:33.472Z"
   },
   {
    "duration": 0,
    "start_time": "2023-05-23T13:13:33.473Z"
   },
   {
    "duration": 0,
    "start_time": "2023-05-23T13:13:33.474Z"
   },
   {
    "duration": 0,
    "start_time": "2023-05-23T13:13:33.475Z"
   },
   {
    "duration": 0,
    "start_time": "2023-05-23T13:13:33.507Z"
   },
   {
    "duration": 1095,
    "start_time": "2023-05-23T13:16:49.083Z"
   },
   {
    "duration": 74,
    "start_time": "2023-05-23T13:16:50.180Z"
   },
   {
    "duration": 70,
    "start_time": "2023-05-23T13:16:50.255Z"
   },
   {
    "duration": 122,
    "start_time": "2023-05-23T13:16:50.327Z"
   },
   {
    "duration": 3,
    "start_time": "2023-05-23T13:16:50.451Z"
   },
   {
    "duration": 17,
    "start_time": "2023-05-23T13:16:50.506Z"
   },
   {
    "duration": 21,
    "start_time": "2023-05-23T13:16:50.524Z"
   },
   {
    "duration": 5,
    "start_time": "2023-05-23T13:16:50.546Z"
   },
   {
    "duration": 56,
    "start_time": "2023-05-23T13:16:50.553Z"
   },
   {
    "duration": 13,
    "start_time": "2023-05-23T13:16:50.615Z"
   },
   {
    "duration": 21,
    "start_time": "2023-05-23T13:16:50.630Z"
   },
   {
    "duration": 17,
    "start_time": "2023-05-23T13:16:50.653Z"
   },
   {
    "duration": 50,
    "start_time": "2023-05-23T13:16:50.672Z"
   },
   {
    "duration": 23,
    "start_time": "2023-05-23T13:16:50.724Z"
   },
   {
    "duration": 382,
    "start_time": "2023-05-23T13:16:50.749Z"
   },
   {
    "duration": 5,
    "start_time": "2023-05-23T13:16:51.133Z"
   },
   {
    "duration": 76,
    "start_time": "2023-05-23T13:16:51.140Z"
   },
   {
    "duration": 984,
    "start_time": "2023-05-23T13:16:51.221Z"
   },
   {
    "duration": 7,
    "start_time": "2023-05-23T13:16:52.217Z"
   },
   {
    "duration": 41,
    "start_time": "2023-05-23T13:16:52.226Z"
   },
   {
    "duration": 26,
    "start_time": "2023-05-23T13:16:52.269Z"
   },
   {
    "duration": 288,
    "start_time": "2023-05-23T13:16:52.297Z"
   },
   {
    "duration": 193,
    "start_time": "2023-05-23T13:16:52.587Z"
   },
   {
    "duration": 176,
    "start_time": "2023-05-23T13:16:52.781Z"
   },
   {
    "duration": 664,
    "start_time": "2023-05-23T13:16:52.959Z"
   },
   {
    "duration": 572,
    "start_time": "2023-05-23T13:16:53.625Z"
   },
   {
    "duration": 582,
    "start_time": "2023-05-23T13:16:54.199Z"
   },
   {
    "duration": 680,
    "start_time": "2023-05-23T13:16:54.784Z"
   },
   {
    "duration": 26,
    "start_time": "2023-05-23T13:16:55.466Z"
   },
   {
    "duration": 348,
    "start_time": "2023-05-23T13:16:55.508Z"
   },
   {
    "duration": 371,
    "start_time": "2023-05-23T13:16:55.857Z"
   },
   {
    "duration": 168,
    "start_time": "2023-05-23T13:16:56.230Z"
   },
   {
    "duration": 16,
    "start_time": "2023-05-23T13:16:56.399Z"
   },
   {
    "duration": 14,
    "start_time": "2023-05-23T13:16:56.416Z"
   },
   {
    "duration": 20,
    "start_time": "2023-05-23T13:16:56.432Z"
   },
   {
    "duration": 5,
    "start_time": "2023-05-23T13:17:05.751Z"
   },
   {
    "duration": 4,
    "start_time": "2023-05-23T13:17:08.289Z"
   },
   {
    "duration": 10828,
    "start_time": "2023-05-23T13:17:12.091Z"
   },
   {
    "duration": 69,
    "start_time": "2023-05-23T13:18:50.489Z"
   },
   {
    "duration": 71,
    "start_time": "2023-05-23T13:18:55.080Z"
   },
   {
    "duration": 98,
    "start_time": "2023-05-23T13:20:36.456Z"
   },
   {
    "duration": 11,
    "start_time": "2023-05-23T13:22:13.818Z"
   },
   {
    "duration": 1080,
    "start_time": "2023-05-23T13:22:31.558Z"
   },
   {
    "duration": 102,
    "start_time": "2023-05-23T13:22:32.639Z"
   },
   {
    "duration": 72,
    "start_time": "2023-05-23T13:22:32.743Z"
   },
   {
    "duration": 112,
    "start_time": "2023-05-23T13:22:32.817Z"
   },
   {
    "duration": 3,
    "start_time": "2023-05-23T13:22:32.932Z"
   },
   {
    "duration": 15,
    "start_time": "2023-05-23T13:22:32.936Z"
   },
   {
    "duration": 72,
    "start_time": "2023-05-23T13:22:32.953Z"
   },
   {
    "duration": 6,
    "start_time": "2023-05-23T13:22:33.027Z"
   },
   {
    "duration": 7,
    "start_time": "2023-05-23T13:22:33.035Z"
   },
   {
    "duration": 8,
    "start_time": "2023-05-23T13:22:33.045Z"
   },
   {
    "duration": 60,
    "start_time": "2023-05-23T13:22:33.055Z"
   },
   {
    "duration": 7,
    "start_time": "2023-05-23T13:22:33.121Z"
   },
   {
    "duration": 4,
    "start_time": "2023-05-23T13:22:33.131Z"
   },
   {
    "duration": 14,
    "start_time": "2023-05-23T13:22:33.137Z"
   },
   {
    "duration": 390,
    "start_time": "2023-05-23T13:22:33.152Z"
   },
   {
    "duration": 86,
    "start_time": "2023-05-23T13:22:33.543Z"
   },
   {
    "duration": 15,
    "start_time": "2023-05-23T13:22:33.631Z"
   },
   {
    "duration": 1017,
    "start_time": "2023-05-23T13:22:33.648Z"
   },
   {
    "duration": 7,
    "start_time": "2023-05-23T13:22:34.666Z"
   },
   {
    "duration": 27,
    "start_time": "2023-05-23T13:22:34.674Z"
   },
   {
    "duration": 30,
    "start_time": "2023-05-23T13:22:34.702Z"
   },
   {
    "duration": 255,
    "start_time": "2023-05-23T13:22:34.733Z"
   },
   {
    "duration": 177,
    "start_time": "2023-05-23T13:22:34.989Z"
   },
   {
    "duration": 173,
    "start_time": "2023-05-23T13:22:35.168Z"
   },
   {
    "duration": 649,
    "start_time": "2023-05-23T13:22:35.342Z"
   },
   {
    "duration": 558,
    "start_time": "2023-05-23T13:22:35.993Z"
   },
   {
    "duration": 575,
    "start_time": "2023-05-23T13:22:36.553Z"
   },
   {
    "duration": 653,
    "start_time": "2023-05-23T13:22:37.132Z"
   },
   {
    "duration": 38,
    "start_time": "2023-05-23T13:22:37.786Z"
   },
   {
    "duration": 350,
    "start_time": "2023-05-23T13:22:37.826Z"
   },
   {
    "duration": 357,
    "start_time": "2023-05-23T13:22:38.178Z"
   },
   {
    "duration": 182,
    "start_time": "2023-05-23T13:22:38.536Z"
   },
   {
    "duration": 8,
    "start_time": "2023-05-23T13:22:38.720Z"
   },
   {
    "duration": 21,
    "start_time": "2023-05-23T13:22:38.730Z"
   },
   {
    "duration": 12,
    "start_time": "2023-05-23T13:22:38.753Z"
   },
   {
    "duration": 5,
    "start_time": "2023-05-23T13:24:29.618Z"
   },
   {
    "duration": 6,
    "start_time": "2023-05-23T13:25:02.338Z"
   },
   {
    "duration": 5521,
    "start_time": "2023-05-23T13:25:14.903Z"
   },
   {
    "duration": 10643,
    "start_time": "2023-05-23T13:25:36.021Z"
   },
   {
    "duration": 1146,
    "start_time": "2023-05-23T13:26:09.949Z"
   },
   {
    "duration": 78,
    "start_time": "2023-05-23T13:26:11.097Z"
   },
   {
    "duration": 13,
    "start_time": "2023-05-23T13:26:11.177Z"
   },
   {
    "duration": 57,
    "start_time": "2023-05-23T13:26:11.192Z"
   },
   {
    "duration": 3,
    "start_time": "2023-05-23T13:26:11.251Z"
   },
   {
    "duration": 12,
    "start_time": "2023-05-23T13:26:11.256Z"
   },
   {
    "duration": 28,
    "start_time": "2023-05-23T13:26:11.270Z"
   },
   {
    "duration": 10,
    "start_time": "2023-05-23T13:26:11.305Z"
   },
   {
    "duration": 13,
    "start_time": "2023-05-23T13:26:11.316Z"
   },
   {
    "duration": 14,
    "start_time": "2023-05-23T13:26:11.332Z"
   },
   {
    "duration": 7,
    "start_time": "2023-05-23T13:26:11.348Z"
   },
   {
    "duration": 15,
    "start_time": "2023-05-23T13:26:11.357Z"
   },
   {
    "duration": 15,
    "start_time": "2023-05-23T13:26:11.374Z"
   },
   {
    "duration": 15,
    "start_time": "2023-05-23T13:26:11.390Z"
   },
   {
    "duration": 183,
    "start_time": "2023-05-23T13:26:11.412Z"
   },
   {
    "duration": 169751,
    "start_time": "2023-05-23T13:26:11.596Z"
   },
   {
    "duration": 15,
    "start_time": "2023-05-23T13:29:01.348Z"
   },
   {
    "duration": 4932,
    "start_time": "2023-05-23T13:29:01.365Z"
   },
   {
    "duration": 7,
    "start_time": "2023-05-23T13:29:06.299Z"
   },
   {
    "duration": 13,
    "start_time": "2023-05-23T13:29:06.316Z"
   },
   {
    "duration": 5,
    "start_time": "2023-05-23T13:29:06.331Z"
   },
   {
    "duration": 259,
    "start_time": "2023-05-23T13:29:06.337Z"
   },
   {
    "duration": 182,
    "start_time": "2023-05-23T13:29:06.598Z"
   },
   {
    "duration": 183,
    "start_time": "2023-05-23T13:29:06.782Z"
   },
   {
    "duration": 623,
    "start_time": "2023-05-23T13:29:06.966Z"
   },
   {
    "duration": 591,
    "start_time": "2023-05-23T13:29:07.591Z"
   },
   {
    "duration": 615,
    "start_time": "2023-05-23T13:29:08.184Z"
   },
   {
    "duration": 620,
    "start_time": "2023-05-23T13:29:08.808Z"
   },
   {
    "duration": 23,
    "start_time": "2023-05-23T13:29:09.429Z"
   },
   {
    "duration": 382,
    "start_time": "2023-05-23T13:29:09.454Z"
   },
   {
    "duration": 389,
    "start_time": "2023-05-23T13:29:09.837Z"
   },
   {
    "duration": 195,
    "start_time": "2023-05-23T13:29:10.228Z"
   },
   {
    "duration": 7,
    "start_time": "2023-05-23T13:29:10.425Z"
   },
   {
    "duration": 11,
    "start_time": "2023-05-23T13:29:10.434Z"
   },
   {
    "duration": 24,
    "start_time": "2023-05-23T13:29:10.446Z"
   },
   {
    "duration": 10201,
    "start_time": "2023-05-23T13:29:40.079Z"
   },
   {
    "duration": 1035,
    "start_time": "2023-05-23T13:30:00.064Z"
   },
   {
    "duration": 68,
    "start_time": "2023-05-23T13:30:01.101Z"
   },
   {
    "duration": 13,
    "start_time": "2023-05-23T13:30:01.170Z"
   },
   {
    "duration": 82,
    "start_time": "2023-05-23T13:30:01.185Z"
   },
   {
    "duration": 6,
    "start_time": "2023-05-23T13:30:01.268Z"
   },
   {
    "duration": 75,
    "start_time": "2023-05-23T13:30:01.276Z"
   },
   {
    "duration": 66,
    "start_time": "2023-05-23T13:30:01.353Z"
   },
   {
    "duration": 47,
    "start_time": "2023-05-23T13:30:01.421Z"
   },
   {
    "duration": 61,
    "start_time": "2023-05-23T13:30:01.470Z"
   },
   {
    "duration": 52,
    "start_time": "2023-05-23T13:30:01.534Z"
   },
   {
    "duration": 114,
    "start_time": "2023-05-23T13:30:01.588Z"
   },
   {
    "duration": 59,
    "start_time": "2023-05-23T13:30:01.705Z"
   },
   {
    "duration": 60,
    "start_time": "2023-05-23T13:30:01.766Z"
   },
   {
    "duration": 46,
    "start_time": "2023-05-23T13:30:01.828Z"
   },
   {
    "duration": 365,
    "start_time": "2023-05-23T13:30:01.876Z"
   },
   {
    "duration": 1099,
    "start_time": "2023-05-23T13:31:08.779Z"
   },
   {
    "duration": 67,
    "start_time": "2023-05-23T13:31:09.880Z"
   },
   {
    "duration": 12,
    "start_time": "2023-05-23T13:31:09.949Z"
   },
   {
    "duration": 63,
    "start_time": "2023-05-23T13:31:09.962Z"
   },
   {
    "duration": 3,
    "start_time": "2023-05-23T13:31:10.028Z"
   },
   {
    "duration": 11,
    "start_time": "2023-05-23T13:31:10.033Z"
   },
   {
    "duration": 36,
    "start_time": "2023-05-23T13:31:10.046Z"
   },
   {
    "duration": 6,
    "start_time": "2023-05-23T13:31:10.084Z"
   },
   {
    "duration": 7,
    "start_time": "2023-05-23T13:31:10.092Z"
   },
   {
    "duration": 13,
    "start_time": "2023-05-23T13:31:10.100Z"
   },
   {
    "duration": 17,
    "start_time": "2023-05-23T13:31:10.115Z"
   },
   {
    "duration": 8,
    "start_time": "2023-05-23T13:31:10.133Z"
   },
   {
    "duration": 20,
    "start_time": "2023-05-23T13:31:10.143Z"
   },
   {
    "duration": 23,
    "start_time": "2023-05-23T13:31:10.166Z"
   },
   {
    "duration": 181,
    "start_time": "2023-05-23T13:31:10.190Z"
   },
   {
    "duration": 1056,
    "start_time": "2023-05-23T13:32:29.844Z"
   },
   {
    "duration": 71,
    "start_time": "2023-05-23T13:32:30.902Z"
   },
   {
    "duration": 17,
    "start_time": "2023-05-23T13:32:30.975Z"
   },
   {
    "duration": 67,
    "start_time": "2023-05-23T13:32:30.994Z"
   },
   {
    "duration": 3,
    "start_time": "2023-05-23T13:32:31.063Z"
   },
   {
    "duration": 68,
    "start_time": "2023-05-23T13:32:31.068Z"
   },
   {
    "duration": 53,
    "start_time": "2023-05-23T13:32:31.138Z"
   },
   {
    "duration": 36,
    "start_time": "2023-05-23T13:32:31.193Z"
   },
   {
    "duration": 40,
    "start_time": "2023-05-23T13:32:31.231Z"
   },
   {
    "duration": 52,
    "start_time": "2023-05-23T13:32:31.274Z"
   },
   {
    "duration": 64,
    "start_time": "2023-05-23T13:32:31.327Z"
   },
   {
    "duration": 30,
    "start_time": "2023-05-23T13:32:31.393Z"
   },
   {
    "duration": 25,
    "start_time": "2023-05-23T13:32:31.424Z"
   },
   {
    "duration": 53,
    "start_time": "2023-05-23T13:32:31.450Z"
   },
   {
    "duration": 202,
    "start_time": "2023-05-23T13:32:31.504Z"
   },
   {
    "duration": 329,
    "start_time": "2023-05-23T13:32:31.707Z"
   },
   {
    "duration": 74,
    "start_time": "2023-05-23T13:32:32.038Z"
   },
   {
    "duration": 1124,
    "start_time": "2023-05-23T13:32:32.125Z"
   },
   {
    "duration": 7,
    "start_time": "2023-05-23T13:32:33.250Z"
   },
   {
    "duration": 55,
    "start_time": "2023-05-23T13:32:33.258Z"
   },
   {
    "duration": 14,
    "start_time": "2023-05-23T13:32:33.316Z"
   },
   {
    "duration": 347,
    "start_time": "2023-05-23T13:32:33.333Z"
   },
   {
    "duration": 179,
    "start_time": "2023-05-23T13:32:33.681Z"
   },
   {
    "duration": 190,
    "start_time": "2023-05-23T13:32:33.862Z"
   },
   {
    "duration": 687,
    "start_time": "2023-05-23T13:32:34.053Z"
   },
   {
    "duration": 551,
    "start_time": "2023-05-23T13:32:34.742Z"
   },
   {
    "duration": 647,
    "start_time": "2023-05-23T13:32:35.294Z"
   },
   {
    "duration": 554,
    "start_time": "2023-05-23T13:32:35.945Z"
   },
   {
    "duration": 34,
    "start_time": "2023-05-23T13:32:36.507Z"
   },
   {
    "duration": 376,
    "start_time": "2023-05-23T13:32:36.543Z"
   },
   {
    "duration": 348,
    "start_time": "2023-05-23T13:32:36.921Z"
   },
   {
    "duration": 277,
    "start_time": "2023-05-23T13:32:37.270Z"
   },
   {
    "duration": 8,
    "start_time": "2023-05-23T13:32:37.548Z"
   },
   {
    "duration": 10,
    "start_time": "2023-05-23T13:32:37.557Z"
   },
   {
    "duration": 21,
    "start_time": "2023-05-23T13:32:37.569Z"
   },
   {
    "duration": 96,
    "start_time": "2023-05-23T13:34:50.288Z"
   },
   {
    "duration": 146,
    "start_time": "2023-05-23T13:34:59.917Z"
   },
   {
    "duration": 148,
    "start_time": "2023-05-23T13:35:14.233Z"
   },
   {
    "duration": 1098,
    "start_time": "2023-05-23T13:35:18.790Z"
   },
   {
    "duration": 64,
    "start_time": "2023-05-23T13:35:19.890Z"
   },
   {
    "duration": 12,
    "start_time": "2023-05-23T13:35:19.956Z"
   },
   {
    "duration": 51,
    "start_time": "2023-05-23T13:35:19.970Z"
   },
   {
    "duration": 3,
    "start_time": "2023-05-23T13:35:20.023Z"
   },
   {
    "duration": 18,
    "start_time": "2023-05-23T13:35:20.028Z"
   },
   {
    "duration": 29,
    "start_time": "2023-05-23T13:35:20.047Z"
   },
   {
    "duration": 4,
    "start_time": "2023-05-23T13:35:20.077Z"
   },
   {
    "duration": 41,
    "start_time": "2023-05-23T13:35:20.083Z"
   },
   {
    "duration": 25,
    "start_time": "2023-05-23T13:35:20.127Z"
   },
   {
    "duration": 37,
    "start_time": "2023-05-23T13:35:20.154Z"
   },
   {
    "duration": 27,
    "start_time": "2023-05-23T13:35:20.192Z"
   },
   {
    "duration": 3,
    "start_time": "2023-05-23T13:35:20.221Z"
   },
   {
    "duration": 43,
    "start_time": "2023-05-23T13:35:20.226Z"
   },
   {
    "duration": 375,
    "start_time": "2023-05-23T13:35:20.271Z"
   },
   {
    "duration": 296,
    "start_time": "2023-05-23T13:35:20.647Z"
   },
   {
    "duration": 74,
    "start_time": "2023-05-23T13:35:20.945Z"
   },
   {
    "duration": 952,
    "start_time": "2023-05-23T13:35:21.021Z"
   },
   {
    "duration": 7,
    "start_time": "2023-05-23T13:35:21.975Z"
   },
   {
    "duration": 14,
    "start_time": "2023-05-23T13:35:21.984Z"
   },
   {
    "duration": 21,
    "start_time": "2023-05-23T13:35:22.000Z"
   },
   {
    "duration": 251,
    "start_time": "2023-05-23T13:35:22.023Z"
   },
   {
    "duration": 191,
    "start_time": "2023-05-23T13:35:22.276Z"
   },
   {
    "duration": 232,
    "start_time": "2023-05-23T13:35:22.471Z"
   },
   {
    "duration": 683,
    "start_time": "2023-05-23T13:35:22.712Z"
   },
   {
    "duration": 657,
    "start_time": "2023-05-23T13:35:23.396Z"
   },
   {
    "duration": 703,
    "start_time": "2023-05-23T13:35:24.055Z"
   },
   {
    "duration": 581,
    "start_time": "2023-05-23T13:35:24.761Z"
   },
   {
    "duration": 24,
    "start_time": "2023-05-23T13:35:25.344Z"
   },
   {
    "duration": 367,
    "start_time": "2023-05-23T13:35:25.370Z"
   },
   {
    "duration": 376,
    "start_time": "2023-05-23T13:35:25.739Z"
   },
   {
    "duration": 258,
    "start_time": "2023-05-23T13:35:26.117Z"
   },
   {
    "duration": 7,
    "start_time": "2023-05-23T13:35:26.377Z"
   },
   {
    "duration": 33,
    "start_time": "2023-05-23T13:35:26.385Z"
   },
   {
    "duration": 8,
    "start_time": "2023-05-23T13:35:26.420Z"
   },
   {
    "duration": 137,
    "start_time": "2023-05-23T13:36:38.389Z"
   },
   {
    "duration": 1022,
    "start_time": "2023-05-23T13:39:27.950Z"
   },
   {
    "duration": 63,
    "start_time": "2023-05-23T13:39:28.974Z"
   },
   {
    "duration": 13,
    "start_time": "2023-05-23T13:39:29.038Z"
   },
   {
    "duration": 56,
    "start_time": "2023-05-23T13:39:29.053Z"
   },
   {
    "duration": 3,
    "start_time": "2023-05-23T13:39:29.110Z"
   },
   {
    "duration": 10,
    "start_time": "2023-05-23T13:39:29.114Z"
   },
   {
    "duration": 19,
    "start_time": "2023-05-23T13:39:29.125Z"
   },
   {
    "duration": 10,
    "start_time": "2023-05-23T13:39:29.145Z"
   },
   {
    "duration": 9,
    "start_time": "2023-05-23T13:39:29.156Z"
   },
   {
    "duration": 6,
    "start_time": "2023-05-23T13:39:29.167Z"
   },
   {
    "duration": 13,
    "start_time": "2023-05-23T13:39:29.174Z"
   },
   {
    "duration": 4,
    "start_time": "2023-05-23T13:39:29.189Z"
   },
   {
    "duration": 15,
    "start_time": "2023-05-23T13:39:29.194Z"
   },
   {
    "duration": 13,
    "start_time": "2023-05-23T13:39:29.211Z"
   },
   {
    "duration": 161,
    "start_time": "2023-05-23T13:39:29.226Z"
   },
   {
    "duration": 1333,
    "start_time": "2023-05-23T13:39:55.500Z"
   },
   {
    "duration": 102,
    "start_time": "2023-05-23T13:39:56.834Z"
   },
   {
    "duration": 13,
    "start_time": "2023-05-23T13:39:56.937Z"
   },
   {
    "duration": 155,
    "start_time": "2023-05-23T13:39:56.952Z"
   },
   {
    "duration": 3,
    "start_time": "2023-05-23T13:39:57.109Z"
   },
   {
    "duration": 15,
    "start_time": "2023-05-23T13:39:57.113Z"
   },
   {
    "duration": 21,
    "start_time": "2023-05-23T13:39:57.130Z"
   },
   {
    "duration": 4,
    "start_time": "2023-05-23T13:39:57.152Z"
   },
   {
    "duration": 57,
    "start_time": "2023-05-23T13:39:57.158Z"
   },
   {
    "duration": 22,
    "start_time": "2023-05-23T13:39:57.218Z"
   },
   {
    "duration": 12,
    "start_time": "2023-05-23T13:39:57.241Z"
   },
   {
    "duration": 10,
    "start_time": "2023-05-23T13:39:57.254Z"
   },
   {
    "duration": 40,
    "start_time": "2023-05-23T13:39:57.266Z"
   },
   {
    "duration": 20,
    "start_time": "2023-05-23T13:39:57.308Z"
   },
   {
    "duration": 381,
    "start_time": "2023-05-23T13:39:57.330Z"
   },
   {
    "duration": 1039,
    "start_time": "2023-05-23T13:42:46.242Z"
   },
   {
    "duration": 63,
    "start_time": "2023-05-23T13:42:47.283Z"
   },
   {
    "duration": 13,
    "start_time": "2023-05-23T13:42:47.348Z"
   },
   {
    "duration": 57,
    "start_time": "2023-05-23T13:42:47.364Z"
   },
   {
    "duration": 3,
    "start_time": "2023-05-23T13:42:47.423Z"
   },
   {
    "duration": 18,
    "start_time": "2023-05-23T13:42:47.428Z"
   },
   {
    "duration": 17,
    "start_time": "2023-05-23T13:42:47.447Z"
   },
   {
    "duration": 4,
    "start_time": "2023-05-23T13:42:47.465Z"
   },
   {
    "duration": 6,
    "start_time": "2023-05-23T13:42:47.471Z"
   },
   {
    "duration": 4,
    "start_time": "2023-05-23T13:42:47.479Z"
   },
   {
    "duration": 6,
    "start_time": "2023-05-23T13:42:47.484Z"
   },
   {
    "duration": 5,
    "start_time": "2023-05-23T13:42:47.505Z"
   },
   {
    "duration": 23,
    "start_time": "2023-05-23T13:42:47.511Z"
   },
   {
    "duration": 20,
    "start_time": "2023-05-23T13:42:47.535Z"
   },
   {
    "duration": 157,
    "start_time": "2023-05-23T13:42:47.557Z"
   },
   {
    "duration": 16,
    "start_time": "2023-05-23T13:42:47.715Z"
   },
   {
    "duration": 493,
    "start_time": "2023-05-23T13:42:47.732Z"
   },
   {
    "duration": 7,
    "start_time": "2023-05-23T13:42:48.227Z"
   },
   {
    "duration": 17,
    "start_time": "2023-05-23T13:42:48.235Z"
   },
   {
    "duration": 12,
    "start_time": "2023-05-23T13:42:48.253Z"
   },
   {
    "duration": 246,
    "start_time": "2023-05-23T13:42:48.266Z"
   },
   {
    "duration": 172,
    "start_time": "2023-05-23T13:42:48.514Z"
   },
   {
    "duration": 172,
    "start_time": "2023-05-23T13:42:48.688Z"
   },
   {
    "duration": 635,
    "start_time": "2023-05-23T13:42:48.862Z"
   },
   {
    "duration": 536,
    "start_time": "2023-05-23T13:42:49.498Z"
   },
   {
    "duration": 528,
    "start_time": "2023-05-23T13:42:50.036Z"
   },
   {
    "duration": 636,
    "start_time": "2023-05-23T13:42:50.565Z"
   },
   {
    "duration": 25,
    "start_time": "2023-05-23T13:42:51.204Z"
   },
   {
    "duration": 327,
    "start_time": "2023-05-23T13:42:51.230Z"
   },
   {
    "duration": 348,
    "start_time": "2023-05-23T13:42:51.558Z"
   },
   {
    "duration": 169,
    "start_time": "2023-05-23T13:42:51.908Z"
   },
   {
    "duration": 8,
    "start_time": "2023-05-23T13:42:52.078Z"
   },
   {
    "duration": 30,
    "start_time": "2023-05-23T13:42:52.087Z"
   },
   {
    "duration": 33,
    "start_time": "2023-05-23T13:42:52.119Z"
   }
  ],
  "kernelspec": {
   "display_name": "Python 3 (ipykernel)",
   "language": "python",
   "name": "python3"
  },
  "language_info": {
   "codemirror_mode": {
    "name": "ipython",
    "version": 3
   },
   "file_extension": ".py",
   "mimetype": "text/x-python",
   "name": "python",
   "nbconvert_exporter": "python",
   "pygments_lexer": "ipython3",
   "version": "3.9.5"
  },
  "toc": {
   "base_numbering": "",
   "nav_menu": {},
   "number_sections": false,
   "sideBar": true,
   "skip_h1_title": true,
   "title_cell": "Table of Contents",
   "title_sidebar": "Contents",
   "toc_cell": false,
   "toc_position": {
    "height": "calc(100% - 180px)",
    "left": "10px",
    "top": "150px",
    "width": "165px"
   },
   "toc_section_display": true,
   "toc_window_display": true
  }
 },
 "nbformat": 4,
 "nbformat_minor": 2
}
